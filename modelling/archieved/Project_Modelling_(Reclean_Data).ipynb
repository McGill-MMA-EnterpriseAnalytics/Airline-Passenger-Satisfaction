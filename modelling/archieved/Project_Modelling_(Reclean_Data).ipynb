{
  "cells": [
    {
      "cell_type": "markdown",
      "source": [
        "## Import Data"
      ],
      "metadata": {
        "id": "KN8i-OiFltUw"
      },
      "id": "KN8i-OiFltUw"
    },
    {
      "cell_type": "code",
      "source": [
        "df = pd.read_csv(\"fraud_oracle.csv\")"
      ],
      "metadata": {
        "id": "Ztbo_rq0khL3"
      },
      "id": "Ztbo_rq0khL3",
      "execution_count": 7,
      "outputs": []
    },
    {
      "cell_type": "code",
      "source": [
        "df = df.drop(columns=['PolicyNumber','RepNumber','Year'])\n",
        "df = df.loc[df['DayOfWeekClaimed']!='0']"
      ],
      "metadata": {
        "id": "HRIoCWAdnHLN"
      },
      "id": "HRIoCWAdnHLN",
      "execution_count": 8,
      "outputs": []
    },
    {
      "cell_type": "markdown",
      "source": [
        "## One Hot Encoding before splitting"
      ],
      "metadata": {
        "id": "FmNcRhFnCGVu"
      },
      "id": "FmNcRhFnCGVu"
    },
    {
      "cell_type": "code",
      "source": [
        "# ADDED STEP: One-Hot encode for columns that does not have ordinal relationship\n",
        "df = pd.get_dummies(df, columns = ['Make','MaritalStatus','PolicyType','VehicleCategory','BasePolicy'],drop_first=True)"
      ],
      "metadata": {
        "id": "gOuLtSUZCJQo"
      },
      "id": "gOuLtSUZCJQo",
      "execution_count": 9,
      "outputs": []
    },
    {
      "cell_type": "markdown",
      "id": "ec1827bf",
      "metadata": {
        "id": "ec1827bf"
      },
      "source": [
        "## Seperate Target and Features"
      ]
    },
    {
      "cell_type": "code",
      "execution_count": 10,
      "id": "5aaddc85",
      "metadata": {
        "id": "5aaddc85"
      },
      "outputs": [],
      "source": [
        "X = df.drop(columns = ['FraudFound_P'])\n",
        "y = df ['FraudFound_P']"
      ]
    },
    {
      "cell_type": "markdown",
      "id": "bcaef64c",
      "metadata": {
        "id": "bcaef64c"
      },
      "source": [
        "### Train Test split"
      ]
    },
    {
      "cell_type": "code",
      "execution_count": 11,
      "id": "5d41d19a",
      "metadata": {
        "id": "5d41d19a"
      },
      "outputs": [],
      "source": [
        "from sklearn.model_selection import train_test_split\n",
        "\n",
        "X_train, X_val_test, y_train, y_val_test = train_test_split(X, y, test_size=0.33, random_state=42)"
      ]
    },
    {
      "cell_type": "markdown",
      "id": "3d8d44fe",
      "metadata": {
        "id": "3d8d44fe"
      },
      "source": [
        "### Test Validation split"
      ]
    },
    {
      "cell_type": "code",
      "execution_count": 12,
      "id": "a2ee4010",
      "metadata": {
        "id": "a2ee4010"
      },
      "outputs": [],
      "source": [
        "X_val, X_test, y_val, y_test = train_test_split(X_val_test, y_val_test, test_size=0.5, random_state=42)"
      ]
    },
    {
      "cell_type": "code",
      "source": [
        "X_train.shape"
      ],
      "metadata": {
        "colab": {
          "base_uri": "https://localhost:8080/"
        },
        "id": "bpwFYve-mo19",
        "outputId": "c4bacd12-fab1-469e-fbc7-526798ddc1da"
      },
      "id": "bpwFYve-mo19",
      "execution_count": 13,
      "outputs": [
        {
          "output_type": "execute_result",
          "data": {
            "text/plain": [
              "(10330, 57)"
            ]
          },
          "metadata": {},
          "execution_count": 13
        }
      ]
    },
    {
      "cell_type": "code",
      "source": [
        "X_train.columns"
      ],
      "metadata": {
        "colab": {
          "base_uri": "https://localhost:8080/"
        },
        "id": "9-ftB6Cj1oIJ",
        "outputId": "eacbbec7-ea77-4326-cdff-d70eeaa5d2cf"
      },
      "id": "9-ftB6Cj1oIJ",
      "execution_count": 14,
      "outputs": [
        {
          "output_type": "execute_result",
          "data": {
            "text/plain": [
              "Index(['Month', 'WeekOfMonth', 'DayOfWeek', 'AccidentArea', 'DayOfWeekClaimed',\n",
              "       'MonthClaimed', 'WeekOfMonthClaimed', 'Sex', 'Age', 'Fault',\n",
              "       'VehiclePrice', 'Deductible', 'DriverRating', 'Days_Policy_Accident',\n",
              "       'Days_Policy_Claim', 'PastNumberOfClaims', 'AgeOfVehicle',\n",
              "       'AgeOfPolicyHolder', 'PoliceReportFiled', 'WitnessPresent', 'AgentType',\n",
              "       'NumberOfSuppliments', 'AddressChange_Claim', 'NumberOfCars',\n",
              "       'Make_BMW', 'Make_Chevrolet', 'Make_Dodge', 'Make_Ferrari', 'Make_Ford',\n",
              "       'Make_Honda', 'Make_Jaguar', 'Make_Lexus', 'Make_Mazda', 'Make_Mecedes',\n",
              "       'Make_Mercury', 'Make_Nisson', 'Make_Pontiac', 'Make_Porche',\n",
              "       'Make_Saab', 'Make_Saturn', 'Make_Toyota', 'Make_VW',\n",
              "       'MaritalStatus_Married', 'MaritalStatus_Single', 'MaritalStatus_Widow',\n",
              "       'PolicyType_Sedan - Collision', 'PolicyType_Sedan - Liability',\n",
              "       'PolicyType_Sport - All Perils', 'PolicyType_Sport - Collision',\n",
              "       'PolicyType_Sport - Liability', 'PolicyType_Utility - All Perils',\n",
              "       'PolicyType_Utility - Collision', 'PolicyType_Utility - Liability',\n",
              "       'VehicleCategory_Sport', 'VehicleCategory_Utility',\n",
              "       'BasePolicy_Collision', 'BasePolicy_Liability'],\n",
              "      dtype='object')"
            ]
          },
          "metadata": {},
          "execution_count": 14
        }
      ]
    },
    {
      "cell_type": "markdown",
      "source": [
        "## Preprocess"
      ],
      "metadata": {
        "id": "vEZv_RlFlpsl"
      },
      "id": "vEZv_RlFlpsl"
    },
    {
      "cell_type": "code",
      "source": [
        "from sklearn import preprocessing\n",
        "from sklearn.preprocessing import OrdinalEncoder, LabelEncoder\n",
        "from sklearn.preprocessing import MinMaxScaler"
      ],
      "metadata": {
        "id": "evYanz5Et0wb"
      },
      "id": "evYanz5Et0wb",
      "execution_count": 20,
      "outputs": []
    },
    {
      "cell_type": "code",
      "source": [
        "def encoding (data):\n",
        "  #Ordinal Encode\n",
        "  ordinal_encoder = OrdinalEncoder()\n",
        "  data_ordinal = ['Month','DayOfWeek','DayOfWeekClaimed','MonthClaimed','VehiclePrice','Days_Policy_Accident','Days_Policy_Claim',\n",
        "                 'PastNumberOfClaims','AgeOfVehicle','AgeOfPolicyHolder','NumberOfSuppliments',\n",
        "                 'AddressChange_Claim','NumberOfCars']\n",
        "  data[data_ordinal] = ordinal_encoder.fit_transform(data[data_ordinal])\n",
        "  \n",
        "  #Label Encode\n",
        "  data_cat_label = data[['AccidentArea','Sex','Fault','PoliceReportFiled','WitnessPresent','AgentType']]\n",
        "  label_encoder = preprocessing.LabelEncoder()\n",
        "  for i in  data_cat_label:\n",
        "    data[i] = label_encoder.fit_transform(data[i])\n",
        "\n",
        "  min_max_scaler = MinMaxScaler(feature_range=(-1, 1))\n",
        "  data_num = ['WeekOfMonth','WeekOfMonthClaimed','Age','Deductible','DriverRating',\n",
        "              'Month','DayOfWeek','DayOfWeekClaimed','MonthClaimed','VehiclePrice','Days_Policy_Accident','Days_Policy_Claim',\n",
        "                 'PastNumberOfClaims','AgeOfVehicle','AgeOfPolicyHolder','NumberOfSuppliments',\n",
        "                 'AddressChange_Claim','NumberOfCars']\n",
        "  data[data_num] = min_max_scaler.fit_transform(data[data_num])\n",
        "\n",
        "  return data                              "
      ],
      "metadata": {
        "id": "S8J9izEw8v6o"
      },
      "id": "S8J9izEw8v6o",
      "execution_count": 21,
      "outputs": []
    },
    {
      "cell_type": "code",
      "source": [
        "X_train = encoding(X_train)\n",
        "X_val = encoding(X_val)\n",
        "X_test = encoding(X_test)"
      ],
      "metadata": {
        "id": "ATWFvAgy8rU1"
      },
      "id": "ATWFvAgy8rU1",
      "execution_count": 22,
      "outputs": []
    },
    {
      "cell_type": "code",
      "source": [
        "X_train.shape"
      ],
      "metadata": {
        "colab": {
          "base_uri": "https://localhost:8080/"
        },
        "id": "o0qeeW9-_Udx",
        "outputId": "b2077e0b-8ef2-47a8-9b3b-e6437ee57577"
      },
      "id": "o0qeeW9-_Udx",
      "execution_count": 23,
      "outputs": [
        {
          "output_type": "execute_result",
          "data": {
            "text/plain": [
              "(10330, 57)"
            ]
          },
          "metadata": {},
          "execution_count": 23
        }
      ]
    },
    {
      "cell_type": "code",
      "source": [
        "X_train"
      ],
      "metadata": {
        "colab": {
          "base_uri": "https://localhost:8080/",
          "height": 505
        },
        "id": "StEB0VWr6DD4",
        "outputId": "7b40c877-9615-421d-eea2-4272bc7aa039"
      },
      "id": "StEB0VWr6DD4",
      "execution_count": 24,
      "outputs": [
        {
          "output_type": "execute_result",
          "data": {
            "text/plain": [
              "          Month  WeekOfMonth  DayOfWeek  AccidentArea  DayOfWeekClaimed  \\\n",
              "1215  -0.090909          0.0  -0.333333             1         -0.666667   \n",
              "12079  0.454545         -0.5   1.000000             1          1.000000   \n",
              "14292  0.454545         -1.0   1.000000             1          1.000000   \n",
              "11332  0.636364          1.0   0.666667             1         -1.000000   \n",
              "13740 -0.272727         -0.5  -1.000000             1          1.000000   \n",
              "...         ...          ...        ...           ...               ...   \n",
              "5192   0.272727         -0.5  -0.333333             1          1.000000   \n",
              "13419  1.000000          0.5  -0.666667             1         -0.666667   \n",
              "5391  -0.272727          0.0   0.333333             1         -1.000000   \n",
              "860   -1.000000         -1.0   1.000000             1         -1.000000   \n",
              "7271  -0.454545         -0.5   0.333333             1         -1.000000   \n",
              "\n",
              "       MonthClaimed  WeekOfMonthClaimed  Sex    Age  Fault  ...  \\\n",
              "1215      -0.090909                 0.0    1 -0.150      0  ...   \n",
              "12079      0.090909                 0.0    1 -0.125      1  ...   \n",
              "14292      0.454545                -1.0    0  0.200      0  ...   \n",
              "11332     -0.636364                 0.0    1  0.350      0  ...   \n",
              "13740     -0.272727                 0.0    1  0.600      0  ...   \n",
              "...             ...                 ...  ...    ...    ...  ...   \n",
              "5192       0.272727                 0.0    1  0.500      0  ...   \n",
              "13419      1.000000                 0.5    1 -1.000      0  ...   \n",
              "5391      -0.272727                 0.5    1  0.100      0  ...   \n",
              "860       -1.000000                -0.5    1  0.175      0  ...   \n",
              "7271      -0.454545                -0.5    1  0.525      0  ...   \n",
              "\n",
              "       PolicyType_Sport - All Perils  PolicyType_Sport - Collision  \\\n",
              "1215                               0                             0   \n",
              "12079                              0                             0   \n",
              "14292                              0                             0   \n",
              "11332                              0                             0   \n",
              "13740                              1                             0   \n",
              "...                              ...                           ...   \n",
              "5192                               0                             0   \n",
              "13419                              0                             0   \n",
              "5391                               0                             0   \n",
              "860                                0                             0   \n",
              "7271                               0                             0   \n",
              "\n",
              "       PolicyType_Sport - Liability  PolicyType_Utility - All Perils  \\\n",
              "1215                              0                                0   \n",
              "12079                             0                                0   \n",
              "14292                             0                                0   \n",
              "11332                             0                                0   \n",
              "13740                             0                                0   \n",
              "...                             ...                              ...   \n",
              "5192                              0                                0   \n",
              "13419                             0                                0   \n",
              "5391                              0                                0   \n",
              "860                               0                                0   \n",
              "7271                              0                                0   \n",
              "\n",
              "       PolicyType_Utility - Collision  PolicyType_Utility - Liability  \\\n",
              "1215                                0                               0   \n",
              "12079                               0                               0   \n",
              "14292                               0                               0   \n",
              "11332                               0                               0   \n",
              "13740                               0                               0   \n",
              "...                               ...                             ...   \n",
              "5192                                0                               0   \n",
              "13419                               0                               0   \n",
              "5391                                0                               0   \n",
              "860                                 0                               0   \n",
              "7271                                0                               0   \n",
              "\n",
              "       VehicleCategory_Sport  VehicleCategory_Utility  BasePolicy_Collision  \\\n",
              "1215                       1                        0                     0   \n",
              "12079                      0                        0                     1   \n",
              "14292                      1                        0                     0   \n",
              "11332                      0                        0                     1   \n",
              "13740                      1                        0                     0   \n",
              "...                      ...                      ...                   ...   \n",
              "5192                       0                        0                     0   \n",
              "13419                      0                        0                     0   \n",
              "5391                       0                        0                     1   \n",
              "860                        1                        0                     0   \n",
              "7271                       0                        0                     0   \n",
              "\n",
              "       BasePolicy_Liability  \n",
              "1215                      1  \n",
              "12079                     0  \n",
              "14292                     1  \n",
              "11332                     0  \n",
              "13740                     0  \n",
              "...                     ...  \n",
              "5192                      0  \n",
              "13419                     0  \n",
              "5391                      0  \n",
              "860                       1  \n",
              "7271                      0  \n",
              "\n",
              "[10330 rows x 57 columns]"
            ],
            "text/html": [
              "\n",
              "  <div id=\"df-d6588c14-1ade-480d-88ee-f7cdd12c459e\">\n",
              "    <div class=\"colab-df-container\">\n",
              "      <div>\n",
              "<style scoped>\n",
              "    .dataframe tbody tr th:only-of-type {\n",
              "        vertical-align: middle;\n",
              "    }\n",
              "\n",
              "    .dataframe tbody tr th {\n",
              "        vertical-align: top;\n",
              "    }\n",
              "\n",
              "    .dataframe thead th {\n",
              "        text-align: right;\n",
              "    }\n",
              "</style>\n",
              "<table border=\"1\" class=\"dataframe\">\n",
              "  <thead>\n",
              "    <tr style=\"text-align: right;\">\n",
              "      <th></th>\n",
              "      <th>Month</th>\n",
              "      <th>WeekOfMonth</th>\n",
              "      <th>DayOfWeek</th>\n",
              "      <th>AccidentArea</th>\n",
              "      <th>DayOfWeekClaimed</th>\n",
              "      <th>MonthClaimed</th>\n",
              "      <th>WeekOfMonthClaimed</th>\n",
              "      <th>Sex</th>\n",
              "      <th>Age</th>\n",
              "      <th>Fault</th>\n",
              "      <th>...</th>\n",
              "      <th>PolicyType_Sport - All Perils</th>\n",
              "      <th>PolicyType_Sport - Collision</th>\n",
              "      <th>PolicyType_Sport - Liability</th>\n",
              "      <th>PolicyType_Utility - All Perils</th>\n",
              "      <th>PolicyType_Utility - Collision</th>\n",
              "      <th>PolicyType_Utility - Liability</th>\n",
              "      <th>VehicleCategory_Sport</th>\n",
              "      <th>VehicleCategory_Utility</th>\n",
              "      <th>BasePolicy_Collision</th>\n",
              "      <th>BasePolicy_Liability</th>\n",
              "    </tr>\n",
              "  </thead>\n",
              "  <tbody>\n",
              "    <tr>\n",
              "      <th>1215</th>\n",
              "      <td>-0.090909</td>\n",
              "      <td>0.0</td>\n",
              "      <td>-0.333333</td>\n",
              "      <td>1</td>\n",
              "      <td>-0.666667</td>\n",
              "      <td>-0.090909</td>\n",
              "      <td>0.0</td>\n",
              "      <td>1</td>\n",
              "      <td>-0.150</td>\n",
              "      <td>0</td>\n",
              "      <td>...</td>\n",
              "      <td>0</td>\n",
              "      <td>0</td>\n",
              "      <td>0</td>\n",
              "      <td>0</td>\n",
              "      <td>0</td>\n",
              "      <td>0</td>\n",
              "      <td>1</td>\n",
              "      <td>0</td>\n",
              "      <td>0</td>\n",
              "      <td>1</td>\n",
              "    </tr>\n",
              "    <tr>\n",
              "      <th>12079</th>\n",
              "      <td>0.454545</td>\n",
              "      <td>-0.5</td>\n",
              "      <td>1.000000</td>\n",
              "      <td>1</td>\n",
              "      <td>1.000000</td>\n",
              "      <td>0.090909</td>\n",
              "      <td>0.0</td>\n",
              "      <td>1</td>\n",
              "      <td>-0.125</td>\n",
              "      <td>1</td>\n",
              "      <td>...</td>\n",
              "      <td>0</td>\n",
              "      <td>0</td>\n",
              "      <td>0</td>\n",
              "      <td>0</td>\n",
              "      <td>0</td>\n",
              "      <td>0</td>\n",
              "      <td>0</td>\n",
              "      <td>0</td>\n",
              "      <td>1</td>\n",
              "      <td>0</td>\n",
              "    </tr>\n",
              "    <tr>\n",
              "      <th>14292</th>\n",
              "      <td>0.454545</td>\n",
              "      <td>-1.0</td>\n",
              "      <td>1.000000</td>\n",
              "      <td>1</td>\n",
              "      <td>1.000000</td>\n",
              "      <td>0.454545</td>\n",
              "      <td>-1.0</td>\n",
              "      <td>0</td>\n",
              "      <td>0.200</td>\n",
              "      <td>0</td>\n",
              "      <td>...</td>\n",
              "      <td>0</td>\n",
              "      <td>0</td>\n",
              "      <td>0</td>\n",
              "      <td>0</td>\n",
              "      <td>0</td>\n",
              "      <td>0</td>\n",
              "      <td>1</td>\n",
              "      <td>0</td>\n",
              "      <td>0</td>\n",
              "      <td>1</td>\n",
              "    </tr>\n",
              "    <tr>\n",
              "      <th>11332</th>\n",
              "      <td>0.636364</td>\n",
              "      <td>1.0</td>\n",
              "      <td>0.666667</td>\n",
              "      <td>1</td>\n",
              "      <td>-1.000000</td>\n",
              "      <td>-0.636364</td>\n",
              "      <td>0.0</td>\n",
              "      <td>1</td>\n",
              "      <td>0.350</td>\n",
              "      <td>0</td>\n",
              "      <td>...</td>\n",
              "      <td>0</td>\n",
              "      <td>0</td>\n",
              "      <td>0</td>\n",
              "      <td>0</td>\n",
              "      <td>0</td>\n",
              "      <td>0</td>\n",
              "      <td>0</td>\n",
              "      <td>0</td>\n",
              "      <td>1</td>\n",
              "      <td>0</td>\n",
              "    </tr>\n",
              "    <tr>\n",
              "      <th>13740</th>\n",
              "      <td>-0.272727</td>\n",
              "      <td>-0.5</td>\n",
              "      <td>-1.000000</td>\n",
              "      <td>1</td>\n",
              "      <td>1.000000</td>\n",
              "      <td>-0.272727</td>\n",
              "      <td>0.0</td>\n",
              "      <td>1</td>\n",
              "      <td>0.600</td>\n",
              "      <td>0</td>\n",
              "      <td>...</td>\n",
              "      <td>1</td>\n",
              "      <td>0</td>\n",
              "      <td>0</td>\n",
              "      <td>0</td>\n",
              "      <td>0</td>\n",
              "      <td>0</td>\n",
              "      <td>1</td>\n",
              "      <td>0</td>\n",
              "      <td>0</td>\n",
              "      <td>0</td>\n",
              "    </tr>\n",
              "    <tr>\n",
              "      <th>...</th>\n",
              "      <td>...</td>\n",
              "      <td>...</td>\n",
              "      <td>...</td>\n",
              "      <td>...</td>\n",
              "      <td>...</td>\n",
              "      <td>...</td>\n",
              "      <td>...</td>\n",
              "      <td>...</td>\n",
              "      <td>...</td>\n",
              "      <td>...</td>\n",
              "      <td>...</td>\n",
              "      <td>...</td>\n",
              "      <td>...</td>\n",
              "      <td>...</td>\n",
              "      <td>...</td>\n",
              "      <td>...</td>\n",
              "      <td>...</td>\n",
              "      <td>...</td>\n",
              "      <td>...</td>\n",
              "      <td>...</td>\n",
              "      <td>...</td>\n",
              "    </tr>\n",
              "    <tr>\n",
              "      <th>5192</th>\n",
              "      <td>0.272727</td>\n",
              "      <td>-0.5</td>\n",
              "      <td>-0.333333</td>\n",
              "      <td>1</td>\n",
              "      <td>1.000000</td>\n",
              "      <td>0.272727</td>\n",
              "      <td>0.0</td>\n",
              "      <td>1</td>\n",
              "      <td>0.500</td>\n",
              "      <td>0</td>\n",
              "      <td>...</td>\n",
              "      <td>0</td>\n",
              "      <td>0</td>\n",
              "      <td>0</td>\n",
              "      <td>0</td>\n",
              "      <td>0</td>\n",
              "      <td>0</td>\n",
              "      <td>0</td>\n",
              "      <td>0</td>\n",
              "      <td>0</td>\n",
              "      <td>0</td>\n",
              "    </tr>\n",
              "    <tr>\n",
              "      <th>13419</th>\n",
              "      <td>1.000000</td>\n",
              "      <td>0.5</td>\n",
              "      <td>-0.666667</td>\n",
              "      <td>1</td>\n",
              "      <td>-0.666667</td>\n",
              "      <td>1.000000</td>\n",
              "      <td>0.5</td>\n",
              "      <td>1</td>\n",
              "      <td>-1.000</td>\n",
              "      <td>0</td>\n",
              "      <td>...</td>\n",
              "      <td>0</td>\n",
              "      <td>0</td>\n",
              "      <td>0</td>\n",
              "      <td>0</td>\n",
              "      <td>0</td>\n",
              "      <td>0</td>\n",
              "      <td>0</td>\n",
              "      <td>0</td>\n",
              "      <td>0</td>\n",
              "      <td>0</td>\n",
              "    </tr>\n",
              "    <tr>\n",
              "      <th>5391</th>\n",
              "      <td>-0.272727</td>\n",
              "      <td>0.0</td>\n",
              "      <td>0.333333</td>\n",
              "      <td>1</td>\n",
              "      <td>-1.000000</td>\n",
              "      <td>-0.272727</td>\n",
              "      <td>0.5</td>\n",
              "      <td>1</td>\n",
              "      <td>0.100</td>\n",
              "      <td>0</td>\n",
              "      <td>...</td>\n",
              "      <td>0</td>\n",
              "      <td>0</td>\n",
              "      <td>0</td>\n",
              "      <td>0</td>\n",
              "      <td>0</td>\n",
              "      <td>0</td>\n",
              "      <td>0</td>\n",
              "      <td>0</td>\n",
              "      <td>1</td>\n",
              "      <td>0</td>\n",
              "    </tr>\n",
              "    <tr>\n",
              "      <th>860</th>\n",
              "      <td>-1.000000</td>\n",
              "      <td>-1.0</td>\n",
              "      <td>1.000000</td>\n",
              "      <td>1</td>\n",
              "      <td>-1.000000</td>\n",
              "      <td>-1.000000</td>\n",
              "      <td>-0.5</td>\n",
              "      <td>1</td>\n",
              "      <td>0.175</td>\n",
              "      <td>0</td>\n",
              "      <td>...</td>\n",
              "      <td>0</td>\n",
              "      <td>0</td>\n",
              "      <td>0</td>\n",
              "      <td>0</td>\n",
              "      <td>0</td>\n",
              "      <td>0</td>\n",
              "      <td>1</td>\n",
              "      <td>0</td>\n",
              "      <td>0</td>\n",
              "      <td>1</td>\n",
              "    </tr>\n",
              "    <tr>\n",
              "      <th>7271</th>\n",
              "      <td>-0.454545</td>\n",
              "      <td>-0.5</td>\n",
              "      <td>0.333333</td>\n",
              "      <td>1</td>\n",
              "      <td>-1.000000</td>\n",
              "      <td>-0.454545</td>\n",
              "      <td>-0.5</td>\n",
              "      <td>1</td>\n",
              "      <td>0.525</td>\n",
              "      <td>0</td>\n",
              "      <td>...</td>\n",
              "      <td>0</td>\n",
              "      <td>0</td>\n",
              "      <td>0</td>\n",
              "      <td>0</td>\n",
              "      <td>0</td>\n",
              "      <td>0</td>\n",
              "      <td>0</td>\n",
              "      <td>0</td>\n",
              "      <td>0</td>\n",
              "      <td>0</td>\n",
              "    </tr>\n",
              "  </tbody>\n",
              "</table>\n",
              "<p>10330 rows × 57 columns</p>\n",
              "</div>\n",
              "      <button class=\"colab-df-convert\" onclick=\"convertToInteractive('df-d6588c14-1ade-480d-88ee-f7cdd12c459e')\"\n",
              "              title=\"Convert this dataframe to an interactive table.\"\n",
              "              style=\"display:none;\">\n",
              "        \n",
              "  <svg xmlns=\"http://www.w3.org/2000/svg\" height=\"24px\"viewBox=\"0 0 24 24\"\n",
              "       width=\"24px\">\n",
              "    <path d=\"M0 0h24v24H0V0z\" fill=\"none\"/>\n",
              "    <path d=\"M18.56 5.44l.94 2.06.94-2.06 2.06-.94-2.06-.94-.94-2.06-.94 2.06-2.06.94zm-11 1L8.5 8.5l.94-2.06 2.06-.94-2.06-.94L8.5 2.5l-.94 2.06-2.06.94zm10 10l.94 2.06.94-2.06 2.06-.94-2.06-.94-.94-2.06-.94 2.06-2.06.94z\"/><path d=\"M17.41 7.96l-1.37-1.37c-.4-.4-.92-.59-1.43-.59-.52 0-1.04.2-1.43.59L10.3 9.45l-7.72 7.72c-.78.78-.78 2.05 0 2.83L4 21.41c.39.39.9.59 1.41.59.51 0 1.02-.2 1.41-.59l7.78-7.78 2.81-2.81c.8-.78.8-2.07 0-2.86zM5.41 20L4 18.59l7.72-7.72 1.47 1.35L5.41 20z\"/>\n",
              "  </svg>\n",
              "      </button>\n",
              "      \n",
              "  <style>\n",
              "    .colab-df-container {\n",
              "      display:flex;\n",
              "      flex-wrap:wrap;\n",
              "      gap: 12px;\n",
              "    }\n",
              "\n",
              "    .colab-df-convert {\n",
              "      background-color: #E8F0FE;\n",
              "      border: none;\n",
              "      border-radius: 50%;\n",
              "      cursor: pointer;\n",
              "      display: none;\n",
              "      fill: #1967D2;\n",
              "      height: 32px;\n",
              "      padding: 0 0 0 0;\n",
              "      width: 32px;\n",
              "    }\n",
              "\n",
              "    .colab-df-convert:hover {\n",
              "      background-color: #E2EBFA;\n",
              "      box-shadow: 0px 1px 2px rgba(60, 64, 67, 0.3), 0px 1px 3px 1px rgba(60, 64, 67, 0.15);\n",
              "      fill: #174EA6;\n",
              "    }\n",
              "\n",
              "    [theme=dark] .colab-df-convert {\n",
              "      background-color: #3B4455;\n",
              "      fill: #D2E3FC;\n",
              "    }\n",
              "\n",
              "    [theme=dark] .colab-df-convert:hover {\n",
              "      background-color: #434B5C;\n",
              "      box-shadow: 0px 1px 3px 1px rgba(0, 0, 0, 0.15);\n",
              "      filter: drop-shadow(0px 1px 2px rgba(0, 0, 0, 0.3));\n",
              "      fill: #FFFFFF;\n",
              "    }\n",
              "  </style>\n",
              "\n",
              "      <script>\n",
              "        const buttonEl =\n",
              "          document.querySelector('#df-d6588c14-1ade-480d-88ee-f7cdd12c459e button.colab-df-convert');\n",
              "        buttonEl.style.display =\n",
              "          google.colab.kernel.accessAllowed ? 'block' : 'none';\n",
              "\n",
              "        async function convertToInteractive(key) {\n",
              "          const element = document.querySelector('#df-d6588c14-1ade-480d-88ee-f7cdd12c459e');\n",
              "          const dataTable =\n",
              "            await google.colab.kernel.invokeFunction('convertToInteractive',\n",
              "                                                     [key], {});\n",
              "          if (!dataTable) return;\n",
              "\n",
              "          const docLinkHtml = 'Like what you see? Visit the ' +\n",
              "            '<a target=\"_blank\" href=https://colab.research.google.com/notebooks/data_table.ipynb>data table notebook</a>'\n",
              "            + ' to learn more about interactive tables.';\n",
              "          element.innerHTML = '';\n",
              "          dataTable['output_type'] = 'display_data';\n",
              "          await google.colab.output.renderOutput(dataTable, element);\n",
              "          const docLink = document.createElement('div');\n",
              "          docLink.innerHTML = docLinkHtml;\n",
              "          element.appendChild(docLink);\n",
              "        }\n",
              "      </script>\n",
              "    </div>\n",
              "  </div>\n",
              "  "
            ]
          },
          "metadata": {},
          "execution_count": 24
        }
      ]
    },
    {
      "cell_type": "markdown",
      "source": [
        "## Feature Selection\n",
        "(To be added)"
      ],
      "metadata": {
        "id": "eS187Cn7kOxS"
      },
      "id": "eS187Cn7kOxS"
    },
    {
      "cell_type": "code",
      "source": [],
      "metadata": {
        "id": "vBd_eqd5kR1y"
      },
      "id": "vBd_eqd5kR1y",
      "execution_count": null,
      "outputs": []
    },
    {
      "cell_type": "markdown",
      "id": "0f1607f8",
      "metadata": {
        "id": "0f1607f8"
      },
      "source": [
        "# Modelling Part"
      ]
    },
    {
      "cell_type": "markdown",
      "id": "ebec6f2a",
      "metadata": {
        "id": "ebec6f2a"
      },
      "source": [
        "## Import Library"
      ]
    },
    {
      "cell_type": "code",
      "execution_count": 4,
      "id": "b5612762",
      "metadata": {
        "id": "b5612762"
      },
      "outputs": [],
      "source": [
        "import warnings\n",
        "import gc\n",
        "import pandas as pd\n",
        "warnings.simplefilter(action='ignore', category=FutureWarning)\n",
        "warnings.simplefilter(action='ignore', category=DeprecationWarning)\n",
        "%matplotlib inline"
      ]
    },
    {
      "cell_type": "code",
      "execution_count": 5,
      "id": "d4db63fe",
      "metadata": {
        "id": "d4db63fe"
      },
      "outputs": [],
      "source": [
        "import matplotlib.pyplot as plt\n",
        "import numpy as np\n",
        "import pandas as pd\n",
        "import seaborn as sns\n",
        "from seaborn import diverging_palette"
      ]
    },
    {
      "cell_type": "code",
      "source": [
        "from sklearn.metrics import (\n",
        "    auc,\n",
        "    confusion_matrix,\n",
        "    roc_auc_score,\n",
        "    roc_curve,\n",
        "    accuracy_score,\n",
        "    precision_score,\n",
        "    average_precision_score,\n",
        "    recall_score,\n",
        "    f1_score,\n",
        "    precision_recall_curve,\n",
        "    cohen_kappa_score,\n",
        "    confusion_matrix,\n",
        "    plot_confusion_matrix,\n",
        "    classification_report\n",
        ")"
      ],
      "metadata": {
        "id": "SM9Dehq_IQ5u"
      },
      "id": "SM9Dehq_IQ5u",
      "execution_count": 6,
      "outputs": []
    },
    {
      "cell_type": "markdown",
      "id": "602f90c3",
      "metadata": {
        "id": "602f90c3"
      },
      "source": [
        "## Baseline Model"
      ]
    },
    {
      "cell_type": "code",
      "execution_count": 25,
      "id": "f3d53e74",
      "metadata": {
        "colab": {
          "base_uri": "https://localhost:8080/"
        },
        "id": "f3d53e74",
        "outputId": "2d0fb329-ebf4-400a-9931-95162be9c612"
      },
      "outputs": [
        {
          "output_type": "execute_result",
          "data": {
            "text/plain": [
              "DummyClassifier()"
            ]
          },
          "metadata": {},
          "execution_count": 25
        }
      ],
      "source": [
        "from sklearn.dummy import DummyClassifier\n",
        "dummy_clf = DummyClassifier()\n",
        "dummy_clf.fit(X_train, y_train)"
      ]
    },
    {
      "cell_type": "markdown",
      "id": "03fb2e76",
      "metadata": {
        "id": "03fb2e76"
      },
      "source": [
        "Since we are dealing with default problem, the top 1 task is to measure the proportion of actual defaults that are correctly identified as defaults (Recall), followed by Precision."
      ]
    },
    {
      "cell_type": "markdown",
      "id": "e08bd7ed",
      "metadata": {
        "id": "e08bd7ed"
      },
      "source": [
        "### Recall of DummyClassifier"
      ]
    },
    {
      "cell_type": "code",
      "execution_count": 26,
      "id": "e2f9a72c",
      "metadata": {
        "colab": {
          "base_uri": "https://localhost:8080/"
        },
        "id": "e2f9a72c",
        "outputId": "819fee0a-9bcd-4b5b-a72c-a2acccd5b467"
      },
      "outputs": [
        {
          "output_type": "execute_result",
          "data": {
            "text/plain": [
              "0.0"
            ]
          },
          "metadata": {},
          "execution_count": 26
        }
      ],
      "source": [
        "from sklearn import metrics\n",
        "metrics.recall_score(y_val, dummy_clf.predict(X_val))"
      ]
    },
    {
      "cell_type": "markdown",
      "id": "98ad2623",
      "metadata": {
        "id": "98ad2623"
      },
      "source": [
        "### Precision of DummyClassifier"
      ]
    },
    {
      "cell_type": "code",
      "execution_count": 27,
      "id": "93b3a69d",
      "metadata": {
        "colab": {
          "base_uri": "https://localhost:8080/"
        },
        "id": "93b3a69d",
        "outputId": "5717765d-0558-4e6b-8b06-de0635b9b6f0"
      },
      "outputs": [
        {
          "output_type": "stream",
          "name": "stderr",
          "text": [
            "/usr/local/lib/python3.8/dist-packages/sklearn/metrics/_classification.py:1318: UndefinedMetricWarning: Precision is ill-defined and being set to 0.0 due to no predicted samples. Use `zero_division` parameter to control this behavior.\n",
            "  _warn_prf(average, modifier, msg_start, len(result))\n"
          ]
        },
        {
          "output_type": "execute_result",
          "data": {
            "text/plain": [
              "0.0"
            ]
          },
          "metadata": {},
          "execution_count": 27
        }
      ],
      "source": [
        "metrics.precision_score(y_val, dummy_clf.predict(X_val))"
      ]
    },
    {
      "cell_type": "markdown",
      "id": "15da6139",
      "metadata": {
        "id": "15da6139"
      },
      "source": [
        "### Accuracy of the baseline Model"
      ]
    },
    {
      "cell_type": "code",
      "execution_count": 28,
      "id": "5a9f2e7b",
      "metadata": {
        "colab": {
          "base_uri": "https://localhost:8080/"
        },
        "id": "5a9f2e7b",
        "outputId": "bcd5ba89-95a3-4f5e-b70a-d512cc7492e3"
      },
      "outputs": [
        {
          "output_type": "execute_result",
          "data": {
            "text/plain": [
              "0.9430031446540881"
            ]
          },
          "metadata": {},
          "execution_count": 28
        }
      ],
      "source": [
        "dummy_clf.score(X_val, y_val)"
      ]
    },
    {
      "cell_type": "markdown",
      "id": "c7667e0b",
      "metadata": {
        "id": "c7667e0b"
      },
      "source": [
        "## Evaluation Metrics"
      ]
    },
    {
      "cell_type": "markdown",
      "id": "08902821",
      "metadata": {
        "id": "08902821"
      },
      "source": [
        "### ROC Curve"
      ]
    },
    {
      "cell_type": "code",
      "execution_count": 30,
      "id": "706bda82",
      "metadata": {
        "id": "706bda82"
      },
      "outputs": [],
      "source": [
        "def plot_roc_curve(fpr, tpr, roc_auc):\n",
        "    plt.title('Receiver Operating Characteristic')\n",
        "    plt.plot(fpr, tpr, 'b', label = 'AUC = %0.2f' % roc_auc)\n",
        "    plt.legend(loc = 'lower right')\n",
        "    plt.plot([0, 1], [0, 1],'r--')\n",
        "    plt.xlim([0, 1])\n",
        "    plt.ylim([0, 1])\n",
        "    plt.ylabel('True Positive Rate')\n",
        "    plt.xlabel('False Positive Rate')\n",
        "    plt.show()"
      ]
    },
    {
      "cell_type": "markdown",
      "id": "b8a8668a",
      "metadata": {
        "id": "b8a8668a"
      },
      "source": [
        "### PR Curve"
      ]
    },
    {
      "cell_type": "code",
      "execution_count": 31,
      "id": "714e393c",
      "metadata": {
        "id": "714e393c"
      },
      "outputs": [],
      "source": [
        "def plot_pr_curve(precision, recall, average_precision):\n",
        "    plt.step(recall, precision, color='b', alpha=0.2, where='post')\n",
        "    plt.fill_between(recall, precision, step='post', alpha=0.2, color='b')   \n",
        "    plt.xlabel('Recall')\n",
        "    plt.ylabel('Precision')\n",
        "    plt.ylim([0.0, 1.05])\n",
        "    plt.xlim([0.0, 1.0])\n",
        "    plt.title('2-class Precision-Recall curve: AP={0:0.2f}'.format(average_precision))\n",
        "    plt.show()"
      ]
    },
    {
      "cell_type": "markdown",
      "id": "828af77b",
      "metadata": {
        "id": "828af77b"
      },
      "source": [
        "### Classification Score"
      ]
    },
    {
      "cell_type": "code",
      "execution_count": 32,
      "id": "f7c8f102",
      "metadata": {
        "id": "f7c8f102"
      },
      "outputs": [],
      "source": [
        "from sklearn.metrics import accuracy_score\n",
        "from sklearn.metrics import classification_report, confusion_matrix, precision_recall_curve, average_precision_score, plot_precision_recall_curve, roc_curve, roc_auc_score, plot_roc_curve, plot_confusion_matrix\n",
        "from sklearn.model_selection import cross_val_score\n",
        "\n",
        "def clf_score(clf, X_train, y_train, X_val, y_val, train=True):\n",
        "    if train:\n",
        "        print(\"Train Result:\\n\")\n",
        "        print(\"accuracy score: {0:.4f}\\n\".format(accuracy_score(y_train, clf.predict(X_train))))\n",
        "        print(\"Classification Report: \\n {}\\n\".format(classification_report(y_train, clf.predict(X_train))))\n",
        "        print(\"Confusion Matrix: \\n {}\\n\".format(confusion_matrix(y_train, clf.predict(X_train))))\n",
        "\n",
        "        res = cross_val_score(clf, X_train, y_train, cv=10, scoring='accuracy')\n",
        "        print(\"Average Accuracy: \\t {0:.4f}\".format(np.mean(res)))\n",
        "        print(\"Accuracy SD: \\t\\t {0:.4f}\".format(np.std(res)))\n",
        "\n",
        "    elif train == False:\n",
        "        print(\"Validation Result:\\n\")\n",
        "        print(\"accuracy score: {0:.4f}\\n\".format(accuracy_score(y_val, clf.predict(X_val))))\n",
        "        \n",
        "        precision, recall, _ = precision_recall_curve(y_val, clf.predict(X_val))\n",
        "        average_precision = average_precision_score(y_val, clf.predict(X_val))\n",
        "        plot_pr_curve(precision, recall, average_precision)\n",
        "        \n",
        "        fpr, tpr, _ = roc_curve(y_val, clf.predict(X_val))\n",
        "        roc_auc = roc_auc_score(y_val, clf.predict(X_val))\n",
        "        print(\"roc auc score: {}\\n\".format(roc_auc))\n",
        "        plot_roc_curve(fpr, tpr, roc_auc)\n",
        "        \n",
        "        print(\"Classification Report: \\n {}\\n\".format(classification_report(y_val, clf.predict(X_val))))\n",
        "        print(\"Confusion Matrix: \\n {}\\n\".format(confusion_matrix(y_val, clf.predict(X_val))))\n",
        "        plot_confusion_matrix(clf,  X_val, clf.predict(X_val))\n",
        "        print(\"End of validation Result\\n\")"
      ]
    },
    {
      "cell_type": "markdown",
      "id": "ee611c12",
      "metadata": {
        "id": "ee611c12"
      },
      "source": [
        "### Classification Metrics"
      ]
    },
    {
      "cell_type": "code",
      "execution_count": 33,
      "id": "d93dfa1a",
      "metadata": {
        "id": "d93dfa1a"
      },
      "outputs": [],
      "source": [
        "def evaluation_metrics(y_actual, y_pred):\n",
        "            \n",
        "        precision, recall, _ = precision_recall_curve(y_actual, y_pred)\n",
        "        average_precision = average_precision_score(y_actual, y_pred)\n",
        "        plot_pr_curve(precision, recall, average_precision)\n",
        "        \n",
        "        fpr, tpr, _ = roc_curve(y_actual, y_pred)\n",
        "        roc_auc = roc_auc_score(y_actual, y_pred)\n",
        "        print(\"roc auc score: {}\\n\".format(roc_auc))\n",
        "        plot_roc_curve(fpr, tpr, roc_auc)\n",
        "        \n",
        "        print(\"Classification Report: \\n {}\\n\".format(classification_report(y_actual, y_pred)))\n",
        "        print(\"Confusion Matrix: \\n {}\\n\".format(confusion_matrix(y_actual, y_pred)))"
      ]
    },
    {
      "cell_type": "markdown",
      "id": "d97cae10",
      "metadata": {
        "id": "d97cae10"
      },
      "source": [
        "## Dealing with Imbalanced Data"
      ]
    },
    {
      "cell_type": "code",
      "execution_count": 34,
      "id": "d19a53d0",
      "metadata": {
        "colab": {
          "base_uri": "https://localhost:8080/",
          "height": 380
        },
        "id": "d19a53d0",
        "outputId": "58067861-974c-4875-c9ef-6dfc6105a1d3"
      },
      "outputs": [
        {
          "output_type": "display_data",
          "data": {
            "text/plain": [
              "<Figure size 576x396 with 1 Axes>"
            ],
            "image/png": "[encoded data removed]"
          },
          "metadata": {}
        },
        {
          "output_type": "execute_result",
          "data": {
            "text/plain": [
              "<matplotlib.axes._subplots.AxesSubplot at 0x7f55b3d3ff40>"
            ]
          },
          "metadata": {},
          "execution_count": 34
        }
      ],
      "source": [
        "from yellowbrick.target import ClassBalance\n",
        "\n",
        "# Instantiate the visualizer\n",
        "visualizer = ClassBalance(labels=[\"0\", \"1\"])\n",
        "\n",
        "visualizer.fit(y_train, y_val)        # Fit the data to the visualizer\n",
        "visualizer.show()  "
      ]
    },
    {
      "cell_type": "markdown",
      "id": "8ec6b0d6",
      "metadata": {
        "id": "8ec6b0d6"
      },
      "source": [
        "Clear imbalanced sign! Apply over-sampling (SMOTE and ADASYN) and SMOTEENN "
      ]
    },
    {
      "cell_type": "code",
      "execution_count": null,
      "id": "b5c80e48",
      "metadata": {
        "colab": {
          "base_uri": "https://localhost:8080/"
        },
        "id": "b5c80e48",
        "outputId": "5ac48ae6-f0d7-4af7-90c4-8e24f5eb145a"
      },
      "outputs": [
        {
          "output_type": "stream",
          "name": "stdout",
          "text": [
            "Looking in indexes: https://pypi.org/simple, https://us-python.pkg.dev/colab-wheels/public/simple/\n",
            "Requirement already satisfied: imblearn in /usr/local/lib/python3.8/dist-packages (0.0)\n",
            "Requirement already satisfied: imbalanced-learn in /usr/local/lib/python3.8/dist-packages (from imblearn) (0.8.1)\n",
            "Requirement already satisfied: scipy>=0.19.1 in /usr/local/lib/python3.8/dist-packages (from imbalanced-learn->imblearn) (1.7.3)\n",
            "Requirement already satisfied: scikit-learn>=0.24 in /usr/local/lib/python3.8/dist-packages (from imbalanced-learn->imblearn) (1.0.2)\n",
            "Requirement already satisfied: numpy>=1.13.3 in /usr/local/lib/python3.8/dist-packages (from imbalanced-learn->imblearn) (1.21.6)\n",
            "Requirement already satisfied: joblib>=0.11 in /usr/local/lib/python3.8/dist-packages (from imbalanced-learn->imblearn) (1.2.0)\n",
            "Requirement already satisfied: threadpoolctl>=2.0.0 in /usr/local/lib/python3.8/dist-packages (from scikit-learn>=0.24->imbalanced-learn->imblearn) (3.1.0)\n"
          ]
        }
      ],
      "source": [
        "!pip install imblearn"
      ]
    },
    {
      "cell_type": "markdown",
      "source": [
        "### SMOTE"
      ],
      "metadata": {
        "id": "uX-_OyTgxdVf"
      },
      "id": "uX-_OyTgxdVf"
    },
    {
      "cell_type": "code",
      "source": [
        "from imblearn.over_sampling import (SMOTE, ADASYN)\n",
        "\n",
        "sm = SMOTE(random_state=42)\n",
        "X_train_sm, y_train_sm = sm.fit_resample(X_train, y_train)"
      ],
      "metadata": {
        "id": "QVA5u63wxc5f"
      },
      "id": "QVA5u63wxc5f",
      "execution_count": 35,
      "outputs": []
    },
    {
      "cell_type": "code",
      "source": [
        "y_train.value_counts()"
      ],
      "metadata": {
        "colab": {
          "base_uri": "https://localhost:8080/"
        },
        "id": "ylaWt6mhxmqu",
        "outputId": "b6545ecc-1930-451d-a95b-7acb557af3e4"
      },
      "id": "ylaWt6mhxmqu",
      "execution_count": 36,
      "outputs": [
        {
          "output_type": "execute_result",
          "data": {
            "text/plain": [
              "0    9716\n",
              "1     614\n",
              "Name: FraudFound_P, dtype: int64"
            ]
          },
          "metadata": {},
          "execution_count": 36
        }
      ]
    },
    {
      "cell_type": "code",
      "source": [
        "y_train_sm.value_counts()"
      ],
      "metadata": {
        "colab": {
          "base_uri": "https://localhost:8080/"
        },
        "id": "7W5jpM7NxkEL",
        "outputId": "5cf7205c-8993-4c9c-d377-bfbf250c665e"
      },
      "id": "7W5jpM7NxkEL",
      "execution_count": 37,
      "outputs": [
        {
          "output_type": "execute_result",
          "data": {
            "text/plain": [
              "0    9716\n",
              "1    9716\n",
              "Name: FraudFound_P, dtype: int64"
            ]
          },
          "metadata": {},
          "execution_count": 37
        }
      ]
    },
    {
      "cell_type": "markdown",
      "source": [
        "###  Adaptive Synthetic (ADASYN)"
      ],
      "metadata": {
        "id": "6Z2s0j1EwPPL"
      },
      "id": "6Z2s0j1EwPPL"
    },
    {
      "cell_type": "code",
      "execution_count": 38,
      "id": "1460e8fe",
      "metadata": {
        "id": "1460e8fe"
      },
      "outputs": [],
      "source": [
        "adasyn = ADASYN(random_state=42)\n",
        "X_train_adasyn, y_train_adasyn = adasyn.fit_resample(X_train, y_train)"
      ]
    },
    {
      "cell_type": "code",
      "source": [
        "y_train_adasyn.value_counts()"
      ],
      "metadata": {
        "colab": {
          "base_uri": "https://localhost:8080/"
        },
        "id": "p-K9IGq0wM12",
        "outputId": "fb505c76-c393-46b5-af05-8cb605f32075"
      },
      "id": "p-K9IGq0wM12",
      "execution_count": 39,
      "outputs": [
        {
          "output_type": "execute_result",
          "data": {
            "text/plain": [
              "1    9720\n",
              "0    9716\n",
              "Name: FraudFound_P, dtype: int64"
            ]
          },
          "metadata": {},
          "execution_count": 39
        }
      ]
    },
    {
      "cell_type": "markdown",
      "source": [
        "### SMOTEENN"
      ],
      "metadata": {
        "id": "DLJy4f5uxvFH"
      },
      "id": "DLJy4f5uxvFH"
    },
    {
      "cell_type": "code",
      "source": [
        "from imblearn.combine import SMOTEENN\n",
        "smote_enn = SMOTEENN(random_state=42)\n",
        "X_train_smoteen, y_train_smoteen = smote_enn.fit_resample(X_train, y_train)"
      ],
      "metadata": {
        "id": "buiAdcpaxxCV"
      },
      "id": "buiAdcpaxxCV",
      "execution_count": 40,
      "outputs": []
    },
    {
      "cell_type": "code",
      "source": [
        "y_train.value_counts()"
      ],
      "metadata": {
        "colab": {
          "base_uri": "https://localhost:8080/"
        },
        "id": "smcyaraxx7Qy",
        "outputId": "35d5aaaa-6ecf-4706-e5e4-3f684410caf7"
      },
      "id": "smcyaraxx7Qy",
      "execution_count": 41,
      "outputs": [
        {
          "output_type": "execute_result",
          "data": {
            "text/plain": [
              "0    9716\n",
              "1     614\n",
              "Name: FraudFound_P, dtype: int64"
            ]
          },
          "metadata": {},
          "execution_count": 41
        }
      ]
    },
    {
      "cell_type": "code",
      "source": [
        "y_train_smoteen.value_counts()"
      ],
      "metadata": {
        "colab": {
          "base_uri": "https://localhost:8080/"
        },
        "id": "WCKOvM3Kx0wh",
        "outputId": "27fd4a79-f58f-44a2-e34f-014746000edc"
      },
      "id": "WCKOvM3Kx0wh",
      "execution_count": 42,
      "outputs": [
        {
          "output_type": "execute_result",
          "data": {
            "text/plain": [
              "1    9708\n",
              "0    6674\n",
              "Name: FraudFound_P, dtype: int64"
            ]
          },
          "metadata": {},
          "execution_count": 42
        }
      ]
    },
    {
      "cell_type": "markdown",
      "source": [
        "## Modelling"
      ],
      "metadata": {
        "id": "145gHbs9x_sK"
      },
      "id": "145gHbs9x_sK"
    },
    {
      "cell_type": "markdown",
      "id": "9d7a6fa1",
      "metadata": {
        "id": "9d7a6fa1"
      },
      "source": [
        "### 1) Logistic Regression"
      ]
    },
    {
      "cell_type": "code",
      "execution_count": 43,
      "id": "146740a9",
      "metadata": {
        "id": "146740a9"
      },
      "outputs": [],
      "source": [
        "from sklearn.linear_model import LogisticRegression"
      ]
    },
    {
      "cell_type": "code",
      "execution_count": 44,
      "id": "fbd8bde0",
      "metadata": {
        "id": "fbd8bde0"
      },
      "outputs": [],
      "source": [
        "clf_log_reg_vanilla = LogisticRegression(C=0.0001, random_state=42, max_iter=500)\n",
        "clf_log_reg_vanilla.fit(X_train_sm, y_train_sm)\n",
        "y_val_pred = clf_log_reg_vanilla.predict(X_val)"
      ]
    },
    {
      "cell_type": "code",
      "execution_count": 45,
      "id": "0c233c96",
      "metadata": {
        "colab": {
          "base_uri": "https://localhost:8080/"
        },
        "id": "0c233c96",
        "outputId": "bccafe45-5776-4861-a591-c9e074a45917"
      },
      "outputs": [
        {
          "output_type": "stream",
          "name": "stdout",
          "text": [
            "Recall: 0.8344827586206897\n",
            "Precision: 0.11297852474323063\n",
            "Accuracy: 0.6171383647798742\n",
            "F1 score: 0.19901315789473684\n",
            "        pred:0  pred:1\n",
            "true:0    1449     950\n",
            "true:1      24     121\n"
          ]
        }
      ],
      "source": [
        "# Calculate the accuracy score\n",
        "accuracy=metrics.accuracy_score(y_val,y_val_pred)\n",
        "\n",
        "# Calculate the Precision/Recall\n",
        "recall=metrics.recall_score(y_val,y_val_pred)\n",
        "precision=metrics.precision_score(y_val,y_val_pred)\n",
        "\n",
        "# Calculate the F1 score\n",
        "f1=metrics.f1_score(y_val,y_val_pred)\n",
        "\n",
        "#Print the scores\n",
        "print('Recall:',recall)\n",
        "print('Precision:',precision)\n",
        "print('Accuracy:',accuracy)\n",
        "print('F1 score:',f1)\n",
        "\n",
        "\n",
        "# Print the confusion matrix\n",
        "metrics.confusion_matrix(y_val,y_val_pred)\n",
        "\n",
        "# Print Confusion matrix with label\n",
        "print(pd.DataFrame(metrics.confusion_matrix(y_val, y_val_pred, labels=[0,1]), index=['true:0', 'true:1'], columns=['pred:0', 'pred:1']))\n"
      ]
    },
    {
      "cell_type": "code",
      "source": [
        "from yellowbrick.classifier import ClassPredictionError\n",
        "\n",
        "classes = [\"0\", \"1\"]\n",
        "\n",
        "visualizer = ClassPredictionError(\n",
        "    clf_log_reg_vanilla, classes=classes, is_fitted=True\n",
        ")\n",
        "\n",
        "# Fit the training data to the visualizer\n",
        "visualizer.fit(X_train_sm, y_train_sm)\n",
        "\n",
        "# Evaluate the model on the test data\n",
        "visualizer.score(X_val, y_val)\n",
        "\n",
        "# Draw visualization\n",
        "visualizer.show()"
      ],
      "metadata": {
        "colab": {
          "base_uri": "https://localhost:8080/",
          "height": 419
        },
        "id": "XdP37gME3SPi",
        "outputId": "3f4f43d4-0559-44d1-de85-3d047b4191bc"
      },
      "id": "XdP37gME3SPi",
      "execution_count": 46,
      "outputs": [
        {
          "output_type": "display_data",
          "data": {
            "text/plain": [
              "<Figure size 576x396 with 1 Axes>"
            ],
            "image/png": "[encoded data removed]"
          },
          "metadata": {}
        },
        {
          "output_type": "execute_result",
          "data": {
            "text/plain": [
              "<matplotlib.axes._subplots.AxesSubplot at 0x7f55b2fab370>"
            ]
          },
          "metadata": {},
          "execution_count": 46
        }
      ]
    },
    {
      "cell_type": "markdown",
      "source": [
        "#### Classification Report"
      ],
      "metadata": {
        "id": "-jsO-2sY21ZN"
      },
      "id": "-jsO-2sY21ZN"
    },
    {
      "cell_type": "code",
      "source": [
        "from yellowbrick.classifier import ClassificationReport\n",
        "\n",
        "visualizer = ClassificationReport(\n",
        "    clf_log_reg_vanilla, classes=classes, support=True, is_fitted=True\n",
        ")\n",
        "\n",
        "visualizer.fit(X_train_sm, y_train_sm)        # Fit the visualizer and the model\n",
        "visualizer.score(X_val, y_val)        # Evaluate the model on the validation data\n",
        "visualizer.show()      "
      ],
      "metadata": {
        "colab": {
          "base_uri": "https://localhost:8080/",
          "height": 419
        },
        "id": "g79gdDRh20rA",
        "outputId": "0a6bb783-cd40-4db9-fd86-19cb92cd245c"
      },
      "id": "g79gdDRh20rA",
      "execution_count": 47,
      "outputs": [
        {
          "output_type": "display_data",
          "data": {
            "text/plain": [
              "<Figure size 576x396 with 2 Axes>"
            ],
            "image/png": "[encoded data removed]"
          },
          "metadata": {}
        },
        {
          "output_type": "execute_result",
          "data": {
            "text/plain": [
              "<matplotlib.axes._subplots.AxesSubplot at 0x7f55b2fa2760>"
            ]
          },
          "metadata": {},
          "execution_count": 47
        }
      ]
    },
    {
      "cell_type": "markdown",
      "source": [
        "#### Confusion Matrix"
      ],
      "metadata": {
        "id": "2xwFgIpt76On"
      },
      "id": "2xwFgIpt76On"
    },
    {
      "cell_type": "code",
      "source": [
        "from yellowbrick.classifier import ConfusionMatrix"
      ],
      "metadata": {
        "id": "edWbcUJg3jOg"
      },
      "id": "edWbcUJg3jOg",
      "execution_count": 48,
      "outputs": []
    },
    {
      "cell_type": "code",
      "source": [
        "# The ConfusionMatrix visualizer taxes a model\n",
        "cm = ConfusionMatrix(clf_log_reg_vanilla, classes=[0,1], is_fitted=True)\n",
        "cm.fit(X_train_sm, y_train_sm)\n",
        "\n",
        "# To create the ConfusionMatrix, we need some test data. Score runs predict() on the data\n",
        "# and then creates the confusion_matrix from scikit-learn.\n",
        "cm.score(X_val, y_val)\n",
        "\n",
        "cm.show()"
      ],
      "metadata": {
        "colab": {
          "base_uri": "https://localhost:8080/",
          "height": 419
        },
        "id": "ly-wDfwq3bt4",
        "outputId": "2c737c2d-42a3-42a0-b8f6-944833b24a5f"
      },
      "id": "ly-wDfwq3bt4",
      "execution_count": 57,
      "outputs": [
        {
          "output_type": "display_data",
          "data": {
            "text/plain": [
              "<Figure size 576x396 with 1 Axes>"
            ],
            "image/png": "[encoded data removed]"
          },
          "metadata": {}
        },
        {
          "output_type": "execute_result",
          "data": {
            "text/plain": [
              "<matplotlib.axes._subplots.AxesSubplot at 0x7f55b2c54910>"
            ]
          },
          "metadata": {},
          "execution_count": 57
        }
      ]
    },
    {
      "cell_type": "markdown",
      "source": [
        "#### ROC-AUC"
      ],
      "metadata": {
        "id": "cc_OGk5Uk4x1"
      },
      "id": "cc_OGk5Uk4x1"
    },
    {
      "cell_type": "code",
      "source": [
        "from yellowbrick.classifier import (ROCAUC)"
      ],
      "metadata": {
        "id": "VCnpsf23vDRt"
      },
      "id": "VCnpsf23vDRt",
      "execution_count": 51,
      "outputs": []
    },
    {
      "cell_type": "code",
      "source": [
        "visualizerroc = ROCAUC(clf_log_reg_vanilla, classes=classes, is_fitted=True)\n",
        "\n",
        "visualizerroc.fit(X_train_sm, y_train_sm)\n",
        "visualizerroc.score(X_test, y_test)\n",
        "visualizerroc.show()"
      ],
      "metadata": {
        "colab": {
          "base_uri": "https://localhost:8080/",
          "height": 394
        },
        "id": "iRTIBqvGk442",
        "outputId": "30661e1f-9868-48a4-bea6-117f8e512cf9"
      },
      "id": "iRTIBqvGk442",
      "execution_count": 54,
      "outputs": [
        {
          "output_type": "display_data",
          "data": {
            "text/plain": [
              "<Figure size 576x396 with 1 Axes>"
            ],
            "image/png": "[encoded data removed]"
          },
          "metadata": {}
        },
        {
          "output_type": "execute_result",
          "data": {
            "text/plain": [
              "<matplotlib.axes._subplots.AxesSubplot at 0x7f55b2d6abb0>"
            ]
          },
          "metadata": {},
          "execution_count": 54
        }
      ]
    },
    {
      "cell_type": "markdown",
      "source": [
        "### 2) Random Forest"
      ],
      "metadata": {
        "id": "TUEnzD57ytwv"
      },
      "id": "TUEnzD57ytwv"
    },
    {
      "cell_type": "markdown",
      "source": [
        "#### Using SMOTE"
      ],
      "metadata": {
        "id": "xPwObjrPKzCu"
      },
      "id": "xPwObjrPKzCu"
    },
    {
      "cell_type": "code",
      "source": [
        "from sklearn.ensemble import RandomForestClassifier"
      ],
      "metadata": {
        "id": "Ki0CdprHzTMn"
      },
      "id": "Ki0CdprHzTMn",
      "execution_count": 59,
      "outputs": []
    },
    {
      "cell_type": "code",
      "source": [
        "model_rf = RandomForestClassifier(random_state=42)\n",
        "model_rf.fit(X_train_sm, y_train_sm)\n",
        "y_val_pred_rf = model_rf.predict(X_val)"
      ],
      "metadata": {
        "id": "p9Q_Mpd86vqo"
      },
      "id": "p9Q_Mpd86vqo",
      "execution_count": 60,
      "outputs": []
    },
    {
      "cell_type": "code",
      "source": [
        "# Calculate the accuracy score\n",
        "accuracy1=metrics.accuracy_score(y_val,y_val_pred_rf)\n",
        "precision1=metrics.precision_score(y_val,y_val_pred_rf)\n",
        "recall1=metrics.recall_score(y_val,y_val_pred_rf)\n",
        "f11=metrics.f1_score(y_val,y_val_pred_rf)\n",
        "\n",
        "print('Recall:',recall1)\n",
        "print('Precision:',precision1)\n",
        "print('Accuracy:',accuracy1)\n",
        "print('F1 score:',f11)\n",
        "\n",
        "# Print the confusion matrix\n",
        "metrics.confusion_matrix(y_val,y_val_pred_rf)\n",
        "print(pd.DataFrame(metrics.confusion_matrix(y_val, y_val_pred_rf, labels=[0,1]), index=['true:0', 'true:1'], columns=['pred:0', 'pred:1']))\n"
      ],
      "metadata": {
        "colab": {
          "base_uri": "https://localhost:8080/"
        },
        "id": "d_kE6ZimzpO0",
        "outputId": "31af5318-2879-49d3-93cc-882c739aede0"
      },
      "id": "d_kE6ZimzpO0",
      "execution_count": 61,
      "outputs": [
        {
          "output_type": "stream",
          "name": "stdout",
          "text": [
            "Recall: 0.04827586206896552\n",
            "Precision: 0.3888888888888889\n",
            "Accuracy: 0.9414308176100629\n",
            "F1 score: 0.08588957055214724\n",
            "        pred:0  pred:1\n",
            "true:0    2388      11\n",
            "true:1     138       7\n"
          ]
        }
      ]
    },
    {
      "cell_type": "markdown",
      "source": [
        "#### Using ADASYN"
      ],
      "metadata": {
        "id": "pZjUxGEULqfk"
      },
      "id": "pZjUxGEULqfk"
    },
    {
      "cell_type": "code",
      "source": [
        "model_rf2 = RandomForestClassifier(max_features=4, min_samples_leaf= 3,n_estimators=140)\n",
        "model_rf2.fit(X_train_adasyn, y_train_adasyn)\n",
        "y_val_pred_rf2 = model_rf2.predict(X_val)"
      ],
      "metadata": {
        "id": "MlCXngOQMxrv"
      },
      "id": "MlCXngOQMxrv",
      "execution_count": 62,
      "outputs": []
    },
    {
      "cell_type": "code",
      "source": [
        "# Calculate the accuracy score\n",
        "accuracy2=metrics.accuracy_score(y_val,y_val_pred_rf2)\n",
        "precision2=metrics.precision_score(y_val,y_val_pred_rf2)\n",
        "recall2=metrics.recall_score(y_val,y_val_pred_rf2)\n",
        "f12=metrics.f1_score(y_val,y_val_pred_rf2)\n",
        "\n",
        "print('Recall:',recall2)\n",
        "print('Precision:',precision2)\n",
        "print('Accuracy:',accuracy2)\n",
        "print('F1 score:',f12)\n",
        "\n",
        "# Print the confusion matrix\n",
        "metrics.confusion_matrix(y_val,y_val_pred_rf2)\n",
        "print(pd.DataFrame(metrics.confusion_matrix(y_val, y_val_pred_rf2, labels=[0,1]), index=['true:0', 'true:1'], columns=['pred:0', 'pred:1']))\n"
      ],
      "metadata": {
        "colab": {
          "base_uri": "https://localhost:8080/"
        },
        "id": "Ndrkd0xgM0Px",
        "outputId": "731364d7-af6e-49a7-e3eb-ad84e64f5475"
      },
      "id": "Ndrkd0xgM0Px",
      "execution_count": 63,
      "outputs": [
        {
          "output_type": "stream",
          "name": "stdout",
          "text": [
            "Recall: 0.11724137931034483\n",
            "Precision: 0.18681318681318682\n",
            "Accuracy: 0.9205974842767296\n",
            "F1 score: 0.14406779661016947\n",
            "        pred:0  pred:1\n",
            "true:0    2325      74\n",
            "true:1     128      17\n"
          ]
        }
      ]
    },
    {
      "cell_type": "markdown",
      "source": [
        "#### Using SMOTEEN"
      ],
      "metadata": {
        "id": "2FocpnTOK252"
      },
      "id": "2FocpnTOK252"
    },
    {
      "cell_type": "code",
      "source": [
        "model_rf3 = RandomForestClassifier(random_state=42)\n",
        "model_rf3.fit(X_train_smoteen, y_train_smoteen)\n",
        "y_val_pred_rf3 = model_rf3.predict(X_val)"
      ],
      "metadata": {
        "id": "_upnOxAWLKGu"
      },
      "id": "_upnOxAWLKGu",
      "execution_count": 64,
      "outputs": []
    },
    {
      "cell_type": "code",
      "source": [
        "# Calculate the accuracy score\n",
        "accuracy3=metrics.accuracy_score(y_val,y_val_pred_rf3)\n",
        "precision3=metrics.precision_score(y_val,y_val_pred_rf3)\n",
        "recall3=metrics.recall_score(y_val,y_val_pred_rf3)\n",
        "f13=metrics.f1_score(y_val,y_val_pred_rf3)\n",
        "\n",
        "print('Recall:',recall3)\n",
        "print('Precision:',precision3)\n",
        "print('Accuracy:',accuracy3)\n",
        "print('F1 score:',f13)\n",
        "\n",
        "# Print the confusion matrix\n",
        "metrics.confusion_matrix(y_val,y_val_pred_rf3)\n",
        "print(pd.DataFrame(metrics.confusion_matrix(y_val, y_val_pred_rf3, labels=[0,1]), index=['true:0', 'true:1'], columns=['pred:0', 'pred:1']))\n"
      ],
      "metadata": {
        "colab": {
          "base_uri": "https://localhost:8080/"
        },
        "id": "4j7OTj6-MIPZ",
        "outputId": "c2639826-7112-46a0-b14c-1ae34c736a3b"
      },
      "id": "4j7OTj6-MIPZ",
      "execution_count": 65,
      "outputs": [
        {
          "output_type": "stream",
          "name": "stdout",
          "text": [
            "Recall: 0.22758620689655173\n",
            "Precision: 0.15207373271889402\n",
            "Accuracy: 0.8836477987421384\n",
            "F1 score: 0.18232044198895028\n",
            "        pred:0  pred:1\n",
            "true:0    2215     184\n",
            "true:1     112      33\n"
          ]
        }
      ]
    },
    {
      "cell_type": "markdown",
      "source": [
        "Compare the result of different models"
      ],
      "metadata": {
        "id": "QBpFAgppkWmW"
      },
      "id": "QBpFAgppkWmW"
    },
    {
      "cell_type": "code",
      "source": [
        "print(\"SMOTE\")\n",
        "print('Recall:',recall1)\n",
        "print('Precision:',precision1)\n",
        "print('Accuracy:',accuracy1)\n",
        "print('F1 score:',f11)\n",
        "\n",
        "print(\"ADASYN\")\n",
        "print('Recall:',recall2)\n",
        "print('Precision:',precision2)\n",
        "print('Accuracy:',accuracy2)\n",
        "print('F1 score:',f12)\n",
        "\n",
        "\n",
        "print(\"SMOTEEN\")\n",
        "print('Recall:',recall3)\n",
        "print('Precision:',precision3)\n",
        "print('Accuracy:',accuracy3)\n",
        "print('F1 score:',f13)"
      ],
      "metadata": {
        "colab": {
          "base_uri": "https://localhost:8080/"
        },
        "id": "Hfk7brnRkUjW",
        "outputId": "b06677f5-f465-4c39-ce0f-dfef3c44af1b"
      },
      "id": "Hfk7brnRkUjW",
      "execution_count": 66,
      "outputs": [
        {
          "output_type": "stream",
          "name": "stdout",
          "text": [
            "SMOTE\n",
            "Recall: 0.04827586206896552\n",
            "Precision: 0.3888888888888889\n",
            "Accuracy: 0.9414308176100629\n",
            "F1 score: 0.08588957055214724\n",
            "ADASYN\n",
            "Recall: 0.11724137931034483\n",
            "Precision: 0.18681318681318682\n",
            "Accuracy: 0.9205974842767296\n",
            "F1 score: 0.14406779661016947\n",
            "SMOTEEN\n",
            "Recall: 0.22758620689655173\n",
            "Precision: 0.15207373271889402\n",
            "Accuracy: 0.8836477987421384\n",
            "F1 score: 0.18232044198895028\n"
          ]
        }
      ]
    },
    {
      "cell_type": "markdown",
      "source": [
        "Based on the above result, SMOTEEN will be used."
      ],
      "metadata": {
        "id": "EprRK5CbMdYf"
      },
      "id": "EprRK5CbMdYf"
    },
    {
      "cell_type": "markdown",
      "source": [
        "#### Model Tunning"
      ],
      "metadata": {
        "id": "tVlTMQCX7dk5"
      },
      "id": "tVlTMQCX7dk5"
    },
    {
      "cell_type": "code",
      "source": [
        "from sklearn.model_selection import GridSearchCV"
      ],
      "metadata": {
        "id": "Bpjvwm56DmE2"
      },
      "id": "Bpjvwm56DmE2",
      "execution_count": null,
      "outputs": []
    },
    {
      "cell_type": "code",
      "source": [
        "model_rf = RandomForestClassifier()\n",
        "params = {'n_estimators':[100,120,140,160,180,200],\n",
        "          'min_samples_leaf':[3],\n",
        "          'max_features': range(1,6)\n",
        "         }\n",
        "grid_search_rf = GridSearchCV(estimator=model_rf, param_grid=params, scoring='f1',cv=5)\n",
        "grid_search_rf.fit(X_train_smoteen, y_train_smoteen)"
      ],
      "metadata": {
        "colab": {
          "base_uri": "https://localhost:8080/"
        },
        "id": "Ft9bnaFBK6mj",
        "outputId": "9a318e5e-15a8-449a-df1d-53b33f8e555d"
      },
      "id": "Ft9bnaFBK6mj",
      "execution_count": null,
      "outputs": [
        {
          "output_type": "execute_result",
          "data": {
            "text/plain": [
              "GridSearchCV(cv=5, estimator=RandomForestClassifier(),\n",
              "             param_grid={'max_features': range(1, 6), 'min_samples_leaf': [3],\n",
              "                         'n_estimators': [100, 120, 140, 160, 180, 200]},\n",
              "             scoring='f1')"
            ]
          },
          "metadata": {},
          "execution_count": 516
        }
      ]
    },
    {
      "cell_type": "code",
      "source": [
        "grid_search_rf.best_score_"
      ],
      "metadata": {
        "colab": {
          "base_uri": "https://localhost:8080/"
        },
        "id": "tEdvFIEY7g40",
        "outputId": "ef9343b5-a64f-455a-a3a3-dc191d0618d6"
      },
      "id": "tEdvFIEY7g40",
      "execution_count": null,
      "outputs": [
        {
          "output_type": "execute_result",
          "data": {
            "text/plain": [
              "0.967765292508789"
            ]
          },
          "metadata": {},
          "execution_count": 517
        }
      ]
    },
    {
      "cell_type": "code",
      "source": [
        "grid_search_rf.best_params_"
      ],
      "metadata": {
        "colab": {
          "base_uri": "https://localhost:8080/"
        },
        "id": "raL1e7tR7jEC",
        "outputId": "2a62b14c-7e1c-42fe-d268-ccb7d958cb37"
      },
      "id": "raL1e7tR7jEC",
      "execution_count": null,
      "outputs": [
        {
          "output_type": "execute_result",
          "data": {
            "text/plain": [
              "{'max_features': 5, 'min_samples_leaf': 3, 'n_estimators': 160}"
            ]
          },
          "metadata": {},
          "execution_count": 518
        }
      ]
    },
    {
      "cell_type": "markdown",
      "source": [
        "#### Random Forest Model"
      ],
      "metadata": {
        "id": "qEGSAAOmwbjP"
      },
      "id": "qEGSAAOmwbjP"
    },
    {
      "cell_type": "code",
      "source": [
        "model_rf_final = RandomForestClassifier(max_features=5,min_samples_leaf=3,n_estimators=160)\n",
        "model_rf_final.fit(X_train_smoteen, y_train_smoteen)\n",
        "y_pred_rf_final = model_rf_final.predict(X_val)"
      ],
      "metadata": {
        "id": "PQtpw0QAJcFE"
      },
      "id": "PQtpw0QAJcFE",
      "execution_count": 67,
      "outputs": []
    },
    {
      "cell_type": "code",
      "source": [
        "accuracy_final=metrics.accuracy_score(y_val,y_pred_rf_final)\n",
        "precision_final=metrics.precision_score(y_val,y_pred_rf_final)\n",
        "recall_final=metrics.recall_score(y_val,y_pred_rf_final)\n",
        "f1_final=metrics.f1_score(y_val,y_pred_rf_final)\n",
        "\n",
        "print('Recall:',recall_final)\n",
        "print('Precision:',precision_final)\n",
        "print('Accuracy:',accuracy_final)\n",
        "print('F1 score:',f1_final)\n",
        "\n",
        "# Print the confusion matrix\n",
        "metrics.confusion_matrix(y_val,y_pred_rf_final)\n",
        "print(pd.DataFrame(metrics.confusion_matrix(y_val, y_pred_rf_final, labels=[0,1]), index=['true:0', 'true:1'], columns=['pred:0', 'pred:1']))\n"
      ],
      "metadata": {
        "colab": {
          "base_uri": "https://localhost:8080/"
        },
        "id": "m_HHcH24Jvjq",
        "outputId": "2614ae63-1c37-4357-e657-0c81bfeb722a"
      },
      "id": "m_HHcH24Jvjq",
      "execution_count": 68,
      "outputs": [
        {
          "output_type": "stream",
          "name": "stdout",
          "text": [
            "Recall: 0.4068965517241379\n",
            "Precision: 0.16905444126074498\n",
            "Accuracy: 0.8522012578616353\n",
            "F1 score: 0.23886639676113355\n",
            "        pred:0  pred:1\n",
            "true:0    2109     290\n",
            "true:1      86      59\n"
          ]
        }
      ]
    },
    {
      "cell_type": "markdown",
      "source": [
        "#### Visualize the result"
      ],
      "metadata": {
        "id": "Jy0eL_t-L7GZ"
      },
      "id": "Jy0eL_t-L7GZ"
    },
    {
      "cell_type": "code",
      "source": [
        "classes = [\"0\", \"1\"]\n",
        "\n",
        "visualizer = ClassPredictionError(\n",
        "    model_rf_final, classes=classes, is_fitted=True\n",
        ")\n",
        "\n",
        "# Fit the training data to the visualizer\n",
        "visualizer.fit(X_train_smoteen, y_train_smoteen)\n",
        "\n",
        "# Evaluate the model on the test data\n",
        "visualizer.score(X_val, y_val)\n",
        "\n",
        "# Draw visualization\n",
        "visualizer.show()"
      ],
      "metadata": {
        "colab": {
          "base_uri": "https://localhost:8080/",
          "height": 419
        },
        "id": "n6tSar0x4Ksd",
        "outputId": "6c4a5c57-c759-4aa2-b344-24adaf4e1307"
      },
      "id": "n6tSar0x4Ksd",
      "execution_count": 69,
      "outputs": [
        {
          "output_type": "display_data",
          "data": {
            "text/plain": [
              "<Figure size 576x396 with 1 Axes>"
            ],
            "image/png": "[encoded data removed]"
          },
          "metadata": {}
        },
        {
          "output_type": "execute_result",
          "data": {
            "text/plain": [
              "<matplotlib.axes._subplots.AxesSubplot at 0x7f55b2a6fac0>"
            ]
          },
          "metadata": {},
          "execution_count": 69
        }
      ]
    },
    {
      "cell_type": "code",
      "source": [
        "visualizer = ClassificationReport(\n",
        "    model_rf_final, classes=classes, support=True, is_fitted=True\n",
        ")\n",
        "\n",
        "visualizer.fit(X_train_smoteen, X_train_smoteen)        # Fit the visualizer and the model\n",
        "visualizer.score(X_val, y_val)        # Evaluate the model on the validation data\n",
        "visualizer.show()    "
      ],
      "metadata": {
        "colab": {
          "base_uri": "https://localhost:8080/",
          "height": 419
        },
        "id": "BahW7NWoCkAO",
        "outputId": "88457c87-4e8e-4a5d-dc59-047dd340726a"
      },
      "id": "BahW7NWoCkAO",
      "execution_count": 70,
      "outputs": [
        {
          "output_type": "display_data",
          "data": {
            "text/plain": [
              "<Figure size 576x396 with 2 Axes>"
            ],
            "image/png": "[encoded data removed]"
          },
          "metadata": {}
        },
        {
          "output_type": "execute_result",
          "data": {
            "text/plain": [
              "<matplotlib.axes._subplots.AxesSubplot at 0x7f55b2a3f550>"
            ]
          },
          "metadata": {},
          "execution_count": 70
        }
      ]
    },
    {
      "cell_type": "code",
      "source": [
        "# The ConfusionMatrix visualizer taxes a model\n",
        "cm = ConfusionMatrix(model_rf_final, classes=[0,1], is_fitted=True)\n",
        "cm.fit(X_train_smoteen, X_train_smoteen)\n",
        "\n",
        "cm.score(X_val, y_val)\n",
        "cm.show()"
      ],
      "metadata": {
        "colab": {
          "base_uri": "https://localhost:8080/",
          "height": 419
        },
        "id": "JhYVvZ6J4eco",
        "outputId": "32963843-21fc-40a1-eb22-a63a936f7576"
      },
      "id": "JhYVvZ6J4eco",
      "execution_count": 71,
      "outputs": [
        {
          "output_type": "display_data",
          "data": {
            "text/plain": [
              "<Figure size 576x396 with 1 Axes>"
            ],
            "image/png": "[encoded data removed]"
          },
          "metadata": {}
        },
        {
          "output_type": "execute_result",
          "data": {
            "text/plain": [
              "<matplotlib.axes._subplots.AxesSubplot at 0x7f55b2cd1850>"
            ]
          },
          "metadata": {},
          "execution_count": 71
        }
      ]
    },
    {
      "cell_type": "markdown",
      "source": [
        "#### PR Curve"
      ],
      "metadata": {
        "id": "CHpniMvtwwRH"
      },
      "id": "CHpniMvtwwRH"
    },
    {
      "cell_type": "code",
      "source": [
        "from yellowbrick.classifier import PrecisionRecallCurve"
      ],
      "metadata": {
        "id": "7cpeo65Uw1iZ"
      },
      "id": "7cpeo65Uw1iZ",
      "execution_count": 72,
      "outputs": []
    },
    {
      "cell_type": "code",
      "source": [
        "# Create the visualizer, fit, score, and show it\n",
        "viz = PrecisionRecallCurve(model_rf_final, is_fitted=True)\n",
        "viz.fit(X_train, y_train)\n",
        "viz.score(X_test, y_test)\n",
        "viz.show()"
      ],
      "metadata": {
        "colab": {
          "base_uri": "https://localhost:8080/",
          "height": 394
        },
        "id": "AIrOLUfww1m7",
        "outputId": "2770e263-4435-4da3-ab42-55fc60228485"
      },
      "id": "AIrOLUfww1m7",
      "execution_count": 76,
      "outputs": [
        {
          "output_type": "display_data",
          "data": {
            "text/plain": [
              "<Figure size 576x396 with 1 Axes>"
            ],
            "image/png": "[encoded data removed]"
          },
          "metadata": {}
        },
        {
          "output_type": "execute_result",
          "data": {
            "text/plain": [
              "<matplotlib.axes._subplots.AxesSubplot at 0x7f55af5a2370>"
            ]
          },
          "metadata": {},
          "execution_count": 76
        }
      ]
    },
    {
      "cell_type": "markdown",
      "source": [
        "#### ROC-AUC"
      ],
      "metadata": {
        "id": "7oGEPgANxUGi"
      },
      "id": "7oGEPgANxUGi"
    },
    {
      "cell_type": "code",
      "source": [
        "visualizer = ROCAUC(model_rf_final, classes=classes, is_fitted=True)\n",
        "\n",
        "visualizer.fit(X_train, y_train)        # Fit the training data to the visualizer\n",
        "visualizer.score(X_test, y_test)        # Evaluate the model on the test data\n",
        "visualizer.show()"
      ],
      "metadata": {
        "colab": {
          "base_uri": "https://localhost:8080/",
          "height": 394
        },
        "id": "zmw2fA9fxTus",
        "outputId": "37699c34-6c29-4293-c5c7-7f19981bd423"
      },
      "id": "zmw2fA9fxTus",
      "execution_count": 77,
      "outputs": [
        {
          "output_type": "display_data",
          "data": {
            "text/plain": [
              "<Figure size 576x396 with 1 Axes>"
            ],
            "image/png": "[encoded data removed]"
          },
          "metadata": {}
        },
        {
          "output_type": "execute_result",
          "data": {
            "text/plain": [
              "<matplotlib.axes._subplots.AxesSubplot at 0x7f55af56a4f0>"
            ]
          },
          "metadata": {},
          "execution_count": 77
        }
      ]
    },
    {
      "cell_type": "markdown",
      "source": [
        "### 3) XGBoosting"
      ],
      "metadata": {
        "id": "Hu-uOEjez6dW"
      },
      "id": "Hu-uOEjez6dW"
    },
    {
      "cell_type": "code",
      "source": [
        "!pip install xgboost "
      ],
      "metadata": {
        "colab": {
          "base_uri": "https://localhost:8080/"
        },
        "id": "2yI-SW7xz8cy",
        "outputId": "9e5322df-b23c-4755-9514-c2a456568ff9"
      },
      "id": "2yI-SW7xz8cy",
      "execution_count": null,
      "outputs": [
        {
          "output_type": "stream",
          "name": "stdout",
          "text": [
            "Looking in indexes: https://pypi.org/simple, https://us-python.pkg.dev/colab-wheels/public/simple/\n",
            "Requirement already satisfied: xgboost in /usr/local/lib/python3.8/dist-packages (0.90)\n",
            "Requirement already satisfied: numpy in /usr/local/lib/python3.8/dist-packages (from xgboost) (1.21.6)\n",
            "Requirement already satisfied: scipy in /usr/local/lib/python3.8/dist-packages (from xgboost) (1.7.3)\n"
          ]
        }
      ]
    },
    {
      "cell_type": "code",
      "source": [
        "import xgboost as xgb"
      ],
      "metadata": {
        "id": "bD2-tso90hoZ"
      },
      "id": "bD2-tso90hoZ",
      "execution_count": 79,
      "outputs": []
    },
    {
      "cell_type": "markdown",
      "source": [
        "#### Using SMOTE"
      ],
      "metadata": {
        "id": "7BI50XC5LVNV"
      },
      "id": "7BI50XC5LVNV"
    },
    {
      "cell_type": "code",
      "source": [
        "clf_xgb = xgb.XGBClassifier()\n",
        "clf_xgb.fit(X_train_sm, y_train_sm)\n",
        "y_pred_xbg = clf_xgb.predict(X_val)"
      ],
      "metadata": {
        "id": "OKMq5CDJ0jH-"
      },
      "id": "OKMq5CDJ0jH-",
      "execution_count": 80,
      "outputs": []
    },
    {
      "cell_type": "code",
      "source": [
        "# Calculate the metrics\n",
        "accuracy1=metrics.accuracy_score(y_val,y_pred_xbg)\n",
        "precision1=metrics.precision_score(y_val,y_pred_xbg)\n",
        "recall1=metrics.recall_score(y_val,y_pred_xbg)\n",
        "f11=metrics.f1_score(y_val,y_pred_xbg)\n",
        "\n",
        "print('Recall:',recall1)\n",
        "print('Precision:',precision1)\n",
        "print('Accuracy:',accuracy1)\n",
        "print('F1 score:',f11)\n",
        "\n",
        "# Print the confusion matrix\n",
        "metrics.confusion_matrix(y_val,y_pred_xbg)\n",
        "print(pd.DataFrame(metrics.confusion_matrix(y_val, y_pred_xbg, labels=[0,1]), index=['true:0', 'true:1'], columns=['pred:0', 'pred:1']))"
      ],
      "metadata": {
        "colab": {
          "base_uri": "https://localhost:8080/"
        },
        "id": "4dchx--E0yuL",
        "outputId": "3cb10b6a-96bc-4ecf-8114-d95003241d90"
      },
      "id": "4dchx--E0yuL",
      "execution_count": 81,
      "outputs": [
        {
          "output_type": "stream",
          "name": "stdout",
          "text": [
            "Recall: 0.08275862068965517\n",
            "Precision: 0.2553191489361702\n",
            "Accuracy: 0.9339622641509434\n",
            "F1 score: 0.125\n",
            "        pred:0  pred:1\n",
            "true:0    2364      35\n",
            "true:1     133      12\n"
          ]
        }
      ]
    },
    {
      "cell_type": "markdown",
      "source": [
        "#### Using ADASYN"
      ],
      "metadata": {
        "id": "zbY6zY3ilKwb"
      },
      "id": "zbY6zY3ilKwb"
    },
    {
      "cell_type": "code",
      "source": [
        "clf_xgb2 = xgb.XGBClassifier()\n",
        "clf_xgb2.fit(X_train_adasyn, y_train_adasyn)\n",
        "y_pred_xbg2 = clf_xgb2.predict(X_val)"
      ],
      "metadata": {
        "id": "VIBl4NuAlPCW"
      },
      "id": "VIBl4NuAlPCW",
      "execution_count": 82,
      "outputs": []
    },
    {
      "cell_type": "code",
      "source": [
        "accuracy2=metrics.accuracy_score(y_val,y_pred_xbg2)\n",
        "precision2=metrics.precision_score(y_val,y_pred_xbg2)\n",
        "recall2=metrics.recall_score(y_val,y_pred_xbg2)\n",
        "f12=metrics.f1_score(y_val,y_pred_xbg2)\n",
        "\n",
        "print('Recall:',recall2)\n",
        "print('Precision:',precision2)\n",
        "print('Accuracy:',accuracy2)\n",
        "print('F1 score:',f12)\n",
        "\n",
        "# Print the confusion matrix\n",
        "metrics.confusion_matrix(y_val,y_pred_xbg2)\n",
        "print(pd.DataFrame(metrics.confusion_matrix(y_val, y_pred_xbg2, labels=[0,1]), index=['true:0', 'true:1'], columns=['pred:0', 'pred:1']))"
      ],
      "metadata": {
        "colab": {
          "base_uri": "https://localhost:8080/"
        },
        "id": "z-UD-V9QlPFv",
        "outputId": "ebd400aa-64f2-45cb-d219-b92f5d1c3272"
      },
      "id": "z-UD-V9QlPFv",
      "execution_count": 83,
      "outputs": [
        {
          "output_type": "stream",
          "name": "stdout",
          "text": [
            "Recall: 0.09655172413793103\n",
            "Precision: 0.2978723404255319\n",
            "Accuracy: 0.9355345911949685\n",
            "F1 score: 0.14583333333333334\n",
            "        pred:0  pred:1\n",
            "true:0    2366      33\n",
            "true:1     131      14\n"
          ]
        }
      ]
    },
    {
      "cell_type": "markdown",
      "source": [
        "#### Using SMOTEEN"
      ],
      "metadata": {
        "id": "dz_cHLDrLXg8"
      },
      "id": "dz_cHLDrLXg8"
    },
    {
      "cell_type": "code",
      "source": [
        "clf_xgb3 = xgb.XGBClassifier()\n",
        "clf_xgb3.fit(X_train_smoteen, y_train_smoteen)\n",
        "y_pred_xbg3 = clf_xgb3.predict(X_val)"
      ],
      "metadata": {
        "id": "LhzL6d07Larx"
      },
      "id": "LhzL6d07Larx",
      "execution_count": 84,
      "outputs": []
    },
    {
      "cell_type": "code",
      "source": [
        "# Calculate the metrics\n",
        "accuracy3=metrics.accuracy_score(y_val,y_pred_xbg3)\n",
        "precision3=metrics.precision_score(y_val,y_pred_xbg3)\n",
        "recall3=metrics.recall_score(y_val,y_pred_xbg3)\n",
        "f13=metrics.f1_score(y_val,y_pred_xbg3)\n",
        "\n",
        "print('Recall:',recall3)\n",
        "print('Precision:',precision3)\n",
        "print('Accuracy:',accuracy3)\n",
        "print('F1 score:',f13)\n",
        "\n",
        "# Print the confusion matrix\n",
        "metrics.confusion_matrix(y_val,y_pred_xbg3)\n",
        "print(pd.DataFrame(metrics.confusion_matrix(y_val, y_pred_xbg3, labels=[0,1]), index=['true:0', 'true:1'], columns=['pred:0', 'pred:1']))"
      ],
      "metadata": {
        "colab": {
          "base_uri": "https://localhost:8080/"
        },
        "id": "bSTXSwROUuON",
        "outputId": "974f6bdc-6d45-4f21-864e-8015ac009f33"
      },
      "id": "bSTXSwROUuON",
      "execution_count": 85,
      "outputs": [
        {
          "output_type": "stream",
          "name": "stdout",
          "text": [
            "Recall: 0.4206896551724138\n",
            "Precision: 0.13616071428571427\n",
            "Accuracy: 0.8148584905660378\n",
            "F1 score: 0.2057335581787521\n",
            "        pred:0  pred:1\n",
            "true:0    2012     387\n",
            "true:1      84      61\n"
          ]
        }
      ]
    },
    {
      "cell_type": "code",
      "source": [
        "print(\"SMOTE\")\n",
        "print('Recall:',recall1)\n",
        "print('Precision:',precision1)\n",
        "print('Accuracy:',accuracy1)\n",
        "print('F1 score:',f11)\n",
        "\n",
        "print(\"ADASYN\")\n",
        "print('Recall:',recall2)\n",
        "print('Precision:',precision2)\n",
        "print('Accuracy:',accuracy2)\n",
        "print('F1 score:',f12)\n",
        "\n",
        "\n",
        "print(\"SMOTEEN\")\n",
        "print('Recall:',recall3)\n",
        "print('Precision:',precision3)\n",
        "print('Accuracy:',accuracy3)\n",
        "print('F1 score:',f13)"
      ],
      "metadata": {
        "colab": {
          "base_uri": "https://localhost:8080/"
        },
        "id": "6iY29iKglIxb",
        "outputId": "d21889fd-887f-4b25-8ab1-10486a418e42"
      },
      "id": "6iY29iKglIxb",
      "execution_count": 86,
      "outputs": [
        {
          "output_type": "stream",
          "name": "stdout",
          "text": [
            "SMOTE\n",
            "Recall: 0.08275862068965517\n",
            "Precision: 0.2553191489361702\n",
            "Accuracy: 0.9339622641509434\n",
            "F1 score: 0.125\n",
            "ADASYN\n",
            "Recall: 0.09655172413793103\n",
            "Precision: 0.2978723404255319\n",
            "Accuracy: 0.9355345911949685\n",
            "F1 score: 0.14583333333333334\n",
            "SMOTEEN\n",
            "Recall: 0.4206896551724138\n",
            "Precision: 0.13616071428571427\n",
            "Accuracy: 0.8148584905660378\n",
            "F1 score: 0.2057335581787521\n"
          ]
        }
      ]
    },
    {
      "cell_type": "markdown",
      "source": [
        "SMOTEEN will be used."
      ],
      "metadata": {
        "id": "AZHLQTgMlpWZ"
      },
      "id": "AZHLQTgMlpWZ"
    },
    {
      "cell_type": "markdown",
      "source": [
        "#### Model Tunning"
      ],
      "metadata": {
        "id": "sYBtZ4ZO8PL2"
      },
      "id": "sYBtZ4ZO8PL2"
    },
    {
      "cell_type": "code",
      "source": [
        "model_xgb = xgb.XGBClassifier()\n",
        "params = {'n_estimators':[100,120,140,160,180,200],\n",
        "          'min_samples_leaf':[3],\n",
        "          'max_features': range(1,6)\n",
        "         }\n",
        "grid_search_xgb = GridSearchCV(estimator=model_xgb, param_grid=params, scoring='f1',cv=5)\n",
        "grid_search_xgb.fit(X_train_smoteen, y_train_smoteen)"
      ],
      "metadata": {
        "colab": {
          "base_uri": "https://localhost:8080/"
        },
        "id": "AaqcRCm38RCW",
        "outputId": "e2b25f6b-1161-461f-b6d9-185e937eaea4"
      },
      "id": "AaqcRCm38RCW",
      "execution_count": null,
      "outputs": [
        {
          "output_type": "execute_result",
          "data": {
            "text/plain": [
              "GridSearchCV(cv=5, estimator=XGBClassifier(),\n",
              "             param_grid={'max_features': range(1, 6), 'min_samples_leaf': [3],\n",
              "                         'n_estimators': [100, 120, 140, 160, 180, 200]},\n",
              "             scoring='f1')"
            ]
          },
          "metadata": {},
          "execution_count": 506
        }
      ]
    },
    {
      "cell_type": "code",
      "source": [
        "grid_search_xgb.best_score_"
      ],
      "metadata": {
        "colab": {
          "base_uri": "https://localhost:8080/"
        },
        "id": "-5FXZ_JsD0G-",
        "outputId": "7e54f88d-3cf3-4d74-e616-47dbc4c2c5f2"
      },
      "id": "-5FXZ_JsD0G-",
      "execution_count": null,
      "outputs": [
        {
          "output_type": "execute_result",
          "data": {
            "text/plain": [
              "0.9540695536710452"
            ]
          },
          "metadata": {},
          "execution_count": 507
        }
      ]
    },
    {
      "cell_type": "code",
      "source": [
        "grid_search_xgb.best_params_"
      ],
      "metadata": {
        "colab": {
          "base_uri": "https://localhost:8080/"
        },
        "id": "hZBx0yBLD0WW",
        "outputId": "f56c324b-8fc0-447f-d728-688be49b20c4"
      },
      "id": "hZBx0yBLD0WW",
      "execution_count": null,
      "outputs": [
        {
          "output_type": "execute_result",
          "data": {
            "text/plain": [
              "{'max_features': 1, 'min_samples_leaf': 3, 'n_estimators': 200}"
            ]
          },
          "metadata": {},
          "execution_count": 509
        }
      ]
    },
    {
      "cell_type": "markdown",
      "source": [
        "####XGBoost Model"
      ],
      "metadata": {
        "id": "s4ohBH6MxnvR"
      },
      "id": "s4ohBH6MxnvR"
    },
    {
      "cell_type": "code",
      "source": [
        "model_xgb = xgb.XGBClassifier(max_features=1,min_samples_leaf=3,n_estimators=200)\n",
        "model_xgb.fit(X_train_smoteen, y_train_smoteen)\n",
        "y_pred_xbg_final = model_xgb.predict(X_val)"
      ],
      "metadata": {
        "id": "8DsiHb7WEDJu"
      },
      "id": "8DsiHb7WEDJu",
      "execution_count": 87,
      "outputs": []
    },
    {
      "cell_type": "code",
      "source": [
        "# Calculate the metrics\n",
        "accuracy_final=metrics.accuracy_score(y_val,y_pred_xbg_final)\n",
        "precision_final=metrics.precision_score(y_val,y_pred_xbg_final)\n",
        "recall_final=metrics.recall_score(y_val,y_pred_xbg_final)\n",
        "f1_final=metrics.f1_score(y_val,y_pred_xbg_final)\n",
        "\n",
        "print('Recall:',recall_final)\n",
        "print('Precision:',precision_final)\n",
        "print('Accuracy:',accuracy_final)\n",
        "print('F1 score:',f1_final)\n",
        "\n",
        "# Print the confusion matrix\n",
        "metrics.confusion_matrix(y_val,y_pred_xbg_final)\n",
        "print(pd.DataFrame(metrics.confusion_matrix(y_val, y_pred_xbg_final, labels=[0,1]), index=['true:0', 'true:1'], columns=['pred:0', 'pred:1']))"
      ],
      "metadata": {
        "colab": {
          "base_uri": "https://localhost:8080/"
        },
        "id": "cNACsGVkJA4k",
        "outputId": "2323538c-4135-4d93-fe43-37d77e501938"
      },
      "id": "cNACsGVkJA4k",
      "execution_count": 88,
      "outputs": [
        {
          "output_type": "stream",
          "name": "stdout",
          "text": [
            "Recall: 0.3931034482758621\n",
            "Precision: 0.15447154471544716\n",
            "Accuracy: 0.8427672955974843\n",
            "F1 score: 0.22178988326848253\n",
            "        pred:0  pred:1\n",
            "true:0    2087     312\n",
            "true:1      88      57\n"
          ]
        }
      ]
    },
    {
      "cell_type": "markdown",
      "source": [
        "#### Visualize the result"
      ],
      "metadata": {
        "id": "m0wFb4tgD6Br"
      },
      "id": "m0wFb4tgD6Br"
    },
    {
      "cell_type": "code",
      "source": [
        "classes = [\"0\", \"1\"]\n",
        "\n",
        "visualizer = ClassPredictionError(model_xgb, classes=classes, is_fitted=True)\n",
        "\n",
        "# Fit the training data to the visualizer\n",
        "visualizer.fit(X_train_smoteen, y_train_smoteen)\n",
        "\n",
        "# Evaluate the model on the test data\n",
        "visualizer.score(X_val, y_val)\n",
        "\n",
        "# Draw visualization\n",
        "visualizer.show()"
      ],
      "metadata": {
        "colab": {
          "base_uri": "https://localhost:8080/",
          "height": 419
        },
        "id": "tbMZRza0D_EH",
        "outputId": "81cf2615-8894-4cac-f436-5e50772b167b"
      },
      "id": "tbMZRza0D_EH",
      "execution_count": 89,
      "outputs": [
        {
          "output_type": "display_data",
          "data": {
            "text/plain": [
              "<Figure size 576x396 with 1 Axes>"
            ],
            "image/png": "[encoded data removed]"
          },
          "metadata": {}
        },
        {
          "output_type": "execute_result",
          "data": {
            "text/plain": [
              "<matplotlib.axes._subplots.AxesSubplot at 0x7f55af51fee0>"
            ]
          },
          "metadata": {},
          "execution_count": 89
        }
      ]
    },
    {
      "cell_type": "code",
      "source": [
        "# The ConfusionMatrix visualizer taxes a model\n",
        "cm = ConfusionMatrix(model_xgb, classes=[0,1], is_fitted=True)\n",
        "cm.fit(X_train_smoteen, X_train_smoteen)\n",
        "\n",
        "cm.score(X_val, y_val)\n",
        "cm.show()"
      ],
      "metadata": {
        "colab": {
          "base_uri": "https://localhost:8080/",
          "height": 419
        },
        "id": "agRUzMy0D_GW",
        "outputId": "edcb37e6-27bf-4000-9169-fece42e69b9d"
      },
      "id": "agRUzMy0D_GW",
      "execution_count": 91,
      "outputs": [
        {
          "output_type": "display_data",
          "data": {
            "text/plain": [
              "<Figure size 576x396 with 1 Axes>"
            ],
            "image/png": "[encoded data removed]"
          },
          "metadata": {}
        },
        {
          "output_type": "execute_result",
          "data": {
            "text/plain": [
              "<matplotlib.axes._subplots.AxesSubplot at 0x7f55a68b3820>"
            ]
          },
          "metadata": {},
          "execution_count": 91
        }
      ]
    },
    {
      "cell_type": "markdown",
      "source": [
        "####PR Curve"
      ],
      "metadata": {
        "id": "_a-ixy12x48f"
      },
      "id": "_a-ixy12x48f"
    },
    {
      "cell_type": "code",
      "source": [
        "viz = PrecisionRecallCurve(model_xgb, is_fitted=True)\n",
        "viz.fit(X_train_smoteen, y_train_smoteen)\n",
        "viz.score(X_test, y_test)\n",
        "viz.show()"
      ],
      "metadata": {
        "id": "sXybRdGVJW_O",
        "colab": {
          "base_uri": "https://localhost:8080/",
          "height": 394
        },
        "outputId": "49738d02-6d26-4bcc-de1c-58912f30ed49"
      },
      "id": "sXybRdGVJW_O",
      "execution_count": 94,
      "outputs": [
        {
          "output_type": "display_data",
          "data": {
            "text/plain": [
              "<Figure size 576x396 with 1 Axes>"
            ],
            "image/png": "[encoded data removed]"
          },
          "metadata": {}
        },
        {
          "output_type": "execute_result",
          "data": {
            "text/plain": [
              "<matplotlib.axes._subplots.AxesSubplot at 0x7f55a67417c0>"
            ]
          },
          "metadata": {},
          "execution_count": 94
        }
      ]
    },
    {
      "cell_type": "markdown",
      "source": [
        "#### ROC-AUC"
      ],
      "metadata": {
        "id": "A_bkTs4ryCvC"
      },
      "id": "A_bkTs4ryCvC"
    },
    {
      "cell_type": "code",
      "source": [
        "visualizerroc2 = ROCAUC(model_xgb, classes=classes, is_fitted=True)\n",
        "\n",
        "visualizerroc2.fit(X_train_smoteen, y_train_smoteen)\n",
        "visualizerroc2.score(X_test, y_test)\n",
        "visualizerroc2.show()"
      ],
      "metadata": {
        "colab": {
          "base_uri": "https://localhost:8080/",
          "height": 394
        },
        "id": "4IgOpYp7yG-U",
        "outputId": "c2e5aecc-6d79-4be8-99d1-54e55a923493"
      },
      "id": "4IgOpYp7yG-U",
      "execution_count": 95,
      "outputs": [
        {
          "output_type": "display_data",
          "data": {
            "text/plain": [
              "<Figure size 576x396 with 1 Axes>"
            ],
            "image/png": "[encoded data removed]"
          },
          "metadata": {}
        },
        {
          "output_type": "execute_result",
          "data": {
            "text/plain": [
              "<matplotlib.axes._subplots.AxesSubplot at 0x7f55a68738e0>"
            ]
          },
          "metadata": {},
          "execution_count": 95
        }
      ]
    },
    {
      "cell_type": "code",
      "source": [],
      "metadata": {
        "id": "HJyVNZQfyHBv"
      },
      "id": "HJyVNZQfyHBv",
      "execution_count": null,
      "outputs": []
    },
    {
      "cell_type": "markdown",
      "source": [
        "### AdaBoost"
      ],
      "metadata": {
        "id": "yG96MMqY0nLQ"
      },
      "id": "yG96MMqY0nLQ"
    }
  ],
  "metadata": {
    "kernelspec": {
      "display_name": "Python 3 (ipykernel)",
      "language": "python",
      "name": "python3"
    },
    "language_info": {
      "codemirror_mode": {
        "name": "ipython",
        "version": 3
      },
      "file_extension": ".py",
      "mimetype": "text/x-python",
      "name": "python",
      "nbconvert_exporter": "python",
      "pygments_lexer": "ipython3",
      "version": "3.9.12"
    },
    "colab": {
      "provenance": []
    }
  },
  "nbformat": 4,
  "nbformat_minor": 5
}
