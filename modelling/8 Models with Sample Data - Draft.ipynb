{
 "cells": [
  {
   "cell_type": "code",
   "execution_count": 1,
   "id": "4be680a1",
   "metadata": {},
   "outputs": [],
   "source": [
    "import pandas as pd\n",
    "import numpy as np\n",
    "import matplotlib.pyplot as plt\n",
    "\n",
    "from sklearn.model_selection import train_test_split\n",
    "from sklearn.model_selection import cross_val_score\n",
    "\n",
    "from sklearn.metrics import (\n",
    "    auc,\n",
    "    confusion_matrix,\n",
    "    roc_auc_score,\n",
    "    roc_curve,\n",
    "    accuracy_score,\n",
    "    precision_score,\n",
    "    average_precision_score,\n",
    "    recall_score,\n",
    "    f1_score,\n",
    "    precision_recall_curve,\n",
    "    cohen_kappa_score,\n",
    "    confusion_matrix,\n",
    "    plot_confusion_matrix,\n",
    "    classification_report\n",
    ")"
   ]
  },
  {
   "cell_type": "code",
   "execution_count": 6,
   "id": "712bb772",
   "metadata": {
    "scrolled": true
   },
   "outputs": [
    {
     "data": {
      "text/html": [
       "<div>\n",
       "<style scoped>\n",
       "    .dataframe tbody tr th:only-of-type {\n",
       "        vertical-align: middle;\n",
       "    }\n",
       "\n",
       "    .dataframe tbody tr th {\n",
       "        vertical-align: top;\n",
       "    }\n",
       "\n",
       "    .dataframe thead th {\n",
       "        text-align: right;\n",
       "    }\n",
       "</style>\n",
       "<table border=\"1\" class=\"dataframe\">\n",
       "  <thead>\n",
       "    <tr style=\"text-align: right;\">\n",
       "      <th></th>\n",
       "      <th>Unnamed: 0</th>\n",
       "      <th>MonthOfAccident</th>\n",
       "      <th>WeekOfMonthOfAccident</th>\n",
       "      <th>MonthClaimed</th>\n",
       "      <th>WeekOfMonthClaimed</th>\n",
       "      <th>AgeOfPolicyHolder</th>\n",
       "      <th>RepNumber</th>\n",
       "      <th>Deductible</th>\n",
       "      <th>DriverRating</th>\n",
       "      <th>PoliceReportFiled</th>\n",
       "      <th>...</th>\n",
       "      <th>Days_Policy_Claim</th>\n",
       "      <th>PastNumberOfClaims</th>\n",
       "      <th>AgeOfVehicle</th>\n",
       "      <th>AgeRangeOfPolicyHolder</th>\n",
       "      <th>AgentType</th>\n",
       "      <th>NumberOfSuppliments</th>\n",
       "      <th>AddressChange_Claim</th>\n",
       "      <th>NumberOfCars</th>\n",
       "      <th>BasePolicy</th>\n",
       "      <th>FraudFound_P</th>\n",
       "    </tr>\n",
       "  </thead>\n",
       "  <tbody>\n",
       "    <tr>\n",
       "      <th>0</th>\n",
       "      <td>0</td>\n",
       "      <td>1.616388</td>\n",
       "      <td>-1.388694</td>\n",
       "      <td>1.625847</td>\n",
       "      <td>-0.548153</td>\n",
       "      <td>-1.295018</td>\n",
       "      <td>1.418479</td>\n",
       "      <td>-0.174155</td>\n",
       "      <td>0.453743</td>\n",
       "      <td>-0.171366</td>\n",
       "      <td>...</td>\n",
       "      <td>2.0</td>\n",
       "      <td>2.000000</td>\n",
       "      <td>4.000000</td>\n",
       "      <td>3.000000</td>\n",
       "      <td>0.0</td>\n",
       "      <td>2.000000</td>\n",
       "      <td>0.0</td>\n",
       "      <td>0.0</td>\n",
       "      <td>2.000000</td>\n",
       "      <td>0</td>\n",
       "    </tr>\n",
       "    <tr>\n",
       "      <th>1</th>\n",
       "      <td>1</td>\n",
       "      <td>-0.684689</td>\n",
       "      <td>-1.388694</td>\n",
       "      <td>-0.678112</td>\n",
       "      <td>-1.341479</td>\n",
       "      <td>-0.971229</td>\n",
       "      <td>-0.967586</td>\n",
       "      <td>-0.174155</td>\n",
       "      <td>0.453743</td>\n",
       "      <td>-0.171366</td>\n",
       "      <td>...</td>\n",
       "      <td>2.0</td>\n",
       "      <td>0.000000</td>\n",
       "      <td>5.000000</td>\n",
       "      <td>4.000000</td>\n",
       "      <td>0.0</td>\n",
       "      <td>3.000000</td>\n",
       "      <td>0.0</td>\n",
       "      <td>0.0</td>\n",
       "      <td>1.000000</td>\n",
       "      <td>0</td>\n",
       "    </tr>\n",
       "    <tr>\n",
       "      <th>2</th>\n",
       "      <td>2</td>\n",
       "      <td>-0.972324</td>\n",
       "      <td>0.947134</td>\n",
       "      <td>-0.966107</td>\n",
       "      <td>1.038500</td>\n",
       "      <td>1.052449</td>\n",
       "      <td>0.116989</td>\n",
       "      <td>-0.174155</td>\n",
       "      <td>0.453743</td>\n",
       "      <td>-0.171366</td>\n",
       "      <td>...</td>\n",
       "      <td>0.0</td>\n",
       "      <td>1.000000</td>\n",
       "      <td>7.000000</td>\n",
       "      <td>6.000000</td>\n",
       "      <td>0.0</td>\n",
       "      <td>1.000000</td>\n",
       "      <td>0.0</td>\n",
       "      <td>0.0</td>\n",
       "      <td>1.000000</td>\n",
       "      <td>0</td>\n",
       "    </tr>\n",
       "    <tr>\n",
       "      <th>3</th>\n",
       "      <td>3</td>\n",
       "      <td>0.465849</td>\n",
       "      <td>-0.610084</td>\n",
       "      <td>0.761863</td>\n",
       "      <td>1.038500</td>\n",
       "      <td>-1.295018</td>\n",
       "      <td>-1.618330</td>\n",
       "      <td>-0.174155</td>\n",
       "      <td>-1.329373</td>\n",
       "      <td>-0.171366</td>\n",
       "      <td>...</td>\n",
       "      <td>2.0</td>\n",
       "      <td>2.000000</td>\n",
       "      <td>4.000000</td>\n",
       "      <td>3.000000</td>\n",
       "      <td>0.0</td>\n",
       "      <td>0.000000</td>\n",
       "      <td>4.0</td>\n",
       "      <td>1.0</td>\n",
       "      <td>2.000000</td>\n",
       "      <td>0</td>\n",
       "    </tr>\n",
       "    <tr>\n",
       "      <th>4</th>\n",
       "      <td>4</td>\n",
       "      <td>-1.547593</td>\n",
       "      <td>1.725744</td>\n",
       "      <td>-1.542097</td>\n",
       "      <td>1.831826</td>\n",
       "      <td>-0.404599</td>\n",
       "      <td>0.333904</td>\n",
       "      <td>-0.174155</td>\n",
       "      <td>1.345301</td>\n",
       "      <td>-0.171366</td>\n",
       "      <td>...</td>\n",
       "      <td>2.0</td>\n",
       "      <td>1.000000</td>\n",
       "      <td>5.000000</td>\n",
       "      <td>4.000000</td>\n",
       "      <td>0.0</td>\n",
       "      <td>0.000000</td>\n",
       "      <td>0.0</td>\n",
       "      <td>0.0</td>\n",
       "      <td>0.000000</td>\n",
       "      <td>0</td>\n",
       "    </tr>\n",
       "    <tr>\n",
       "      <th>...</th>\n",
       "      <td>...</td>\n",
       "      <td>...</td>\n",
       "      <td>...</td>\n",
       "      <td>...</td>\n",
       "      <td>...</td>\n",
       "      <td>...</td>\n",
       "      <td>...</td>\n",
       "      <td>...</td>\n",
       "      <td>...</td>\n",
       "      <td>...</td>\n",
       "      <td>...</td>\n",
       "      <td>...</td>\n",
       "      <td>...</td>\n",
       "      <td>...</td>\n",
       "      <td>...</td>\n",
       "      <td>...</td>\n",
       "      <td>...</td>\n",
       "      <td>...</td>\n",
       "      <td>...</td>\n",
       "      <td>...</td>\n",
       "      <td>...</td>\n",
       "    </tr>\n",
       "    <tr>\n",
       "      <th>16472</th>\n",
       "      <td>16472</td>\n",
       "      <td>-0.267215</td>\n",
       "      <td>-0.823655</td>\n",
       "      <td>-0.051117</td>\n",
       "      <td>-1.123871</td>\n",
       "      <td>0.360465</td>\n",
       "      <td>-0.316841</td>\n",
       "      <td>-0.174155</td>\n",
       "      <td>-1.329373</td>\n",
       "      <td>-0.171366</td>\n",
       "      <td>...</td>\n",
       "      <td>2.0</td>\n",
       "      <td>0.725702</td>\n",
       "      <td>7.000000</td>\n",
       "      <td>5.000000</td>\n",
       "      <td>0.0</td>\n",
       "      <td>1.548596</td>\n",
       "      <td>0.0</td>\n",
       "      <td>0.0</td>\n",
       "      <td>0.274298</td>\n",
       "      <td>1</td>\n",
       "    </tr>\n",
       "    <tr>\n",
       "      <th>16473</th>\n",
       "      <td>16473</td>\n",
       "      <td>0.181831</td>\n",
       "      <td>-1.388694</td>\n",
       "      <td>0.189493</td>\n",
       "      <td>-0.280386</td>\n",
       "      <td>0.218709</td>\n",
       "      <td>0.195657</td>\n",
       "      <td>-0.174155</td>\n",
       "      <td>0.754665</td>\n",
       "      <td>-0.171366</td>\n",
       "      <td>...</td>\n",
       "      <td>2.0</td>\n",
       "      <td>0.000000</td>\n",
       "      <td>7.000000</td>\n",
       "      <td>5.337524</td>\n",
       "      <td>0.0</td>\n",
       "      <td>0.662476</td>\n",
       "      <td>0.0</td>\n",
       "      <td>0.0</td>\n",
       "      <td>0.000000</td>\n",
       "      <td>1</td>\n",
       "    </tr>\n",
       "    <tr>\n",
       "      <th>16474</th>\n",
       "      <td>16474</td>\n",
       "      <td>-0.761257</td>\n",
       "      <td>-0.402819</td>\n",
       "      <td>-0.678112</td>\n",
       "      <td>1.038500</td>\n",
       "      <td>0.938896</td>\n",
       "      <td>0.333904</td>\n",
       "      <td>-0.174155</td>\n",
       "      <td>1.345301</td>\n",
       "      <td>-0.171366</td>\n",
       "      <td>...</td>\n",
       "      <td>2.0</td>\n",
       "      <td>2.000000</td>\n",
       "      <td>7.000000</td>\n",
       "      <td>6.133099</td>\n",
       "      <td>0.0</td>\n",
       "      <td>0.866901</td>\n",
       "      <td>0.0</td>\n",
       "      <td>0.0</td>\n",
       "      <td>0.866901</td>\n",
       "      <td>1</td>\n",
       "    </tr>\n",
       "    <tr>\n",
       "      <th>16475</th>\n",
       "      <td>16475</td>\n",
       "      <td>0.071662</td>\n",
       "      <td>-0.855173</td>\n",
       "      <td>0.177857</td>\n",
       "      <td>-0.548153</td>\n",
       "      <td>-0.487800</td>\n",
       "      <td>-0.688428</td>\n",
       "      <td>-0.174155</td>\n",
       "      <td>1.345301</td>\n",
       "      <td>-0.171366</td>\n",
       "      <td>...</td>\n",
       "      <td>2.0</td>\n",
       "      <td>1.000000</td>\n",
       "      <td>4.342611</td>\n",
       "      <td>4.000000</td>\n",
       "      <td>0.0</td>\n",
       "      <td>3.000000</td>\n",
       "      <td>0.0</td>\n",
       "      <td>0.0</td>\n",
       "      <td>0.000000</td>\n",
       "      <td>1</td>\n",
       "    </tr>\n",
       "    <tr>\n",
       "      <th>16476</th>\n",
       "      <td>16476</td>\n",
       "      <td>1.383552</td>\n",
       "      <td>-1.092021</td>\n",
       "      <td>1.392720</td>\n",
       "      <td>-0.888059</td>\n",
       "      <td>2.775439</td>\n",
       "      <td>0.158315</td>\n",
       "      <td>-0.174155</td>\n",
       "      <td>0.453743</td>\n",
       "      <td>-0.171366</td>\n",
       "      <td>...</td>\n",
       "      <td>2.0</td>\n",
       "      <td>0.571543</td>\n",
       "      <td>7.000000</td>\n",
       "      <td>8.000000</td>\n",
       "      <td>0.0</td>\n",
       "      <td>3.000000</td>\n",
       "      <td>0.0</td>\n",
       "      <td>0.0</td>\n",
       "      <td>0.190514</td>\n",
       "      <td>1</td>\n",
       "    </tr>\n",
       "  </tbody>\n",
       "</table>\n",
       "<p>16477 rows × 33 columns</p>\n",
       "</div>"
      ],
      "text/plain": [
       "       Unnamed: 0  MonthOfAccident  WeekOfMonthOfAccident  MonthClaimed  \\\n",
       "0               0         1.616388              -1.388694      1.625847   \n",
       "1               1        -0.684689              -1.388694     -0.678112   \n",
       "2               2        -0.972324               0.947134     -0.966107   \n",
       "3               3         0.465849              -0.610084      0.761863   \n",
       "4               4        -1.547593               1.725744     -1.542097   \n",
       "...           ...              ...                    ...           ...   \n",
       "16472       16472        -0.267215              -0.823655     -0.051117   \n",
       "16473       16473         0.181831              -1.388694      0.189493   \n",
       "16474       16474        -0.761257              -0.402819     -0.678112   \n",
       "16475       16475         0.071662              -0.855173      0.177857   \n",
       "16476       16476         1.383552              -1.092021      1.392720   \n",
       "\n",
       "       WeekOfMonthClaimed  AgeOfPolicyHolder  RepNumber  Deductible  \\\n",
       "0               -0.548153          -1.295018   1.418479   -0.174155   \n",
       "1               -1.341479          -0.971229  -0.967586   -0.174155   \n",
       "2                1.038500           1.052449   0.116989   -0.174155   \n",
       "3                1.038500          -1.295018  -1.618330   -0.174155   \n",
       "4                1.831826          -0.404599   0.333904   -0.174155   \n",
       "...                   ...                ...        ...         ...   \n",
       "16472           -1.123871           0.360465  -0.316841   -0.174155   \n",
       "16473           -0.280386           0.218709   0.195657   -0.174155   \n",
       "16474            1.038500           0.938896   0.333904   -0.174155   \n",
       "16475           -0.548153          -0.487800  -0.688428   -0.174155   \n",
       "16476           -0.888059           2.775439   0.158315   -0.174155   \n",
       "\n",
       "       DriverRating  PoliceReportFiled  ...  Days_Policy_Claim  \\\n",
       "0          0.453743          -0.171366  ...                2.0   \n",
       "1          0.453743          -0.171366  ...                2.0   \n",
       "2          0.453743          -0.171366  ...                0.0   \n",
       "3         -1.329373          -0.171366  ...                2.0   \n",
       "4          1.345301          -0.171366  ...                2.0   \n",
       "...             ...                ...  ...                ...   \n",
       "16472     -1.329373          -0.171366  ...                2.0   \n",
       "16473      0.754665          -0.171366  ...                2.0   \n",
       "16474      1.345301          -0.171366  ...                2.0   \n",
       "16475      1.345301          -0.171366  ...                2.0   \n",
       "16476      0.453743          -0.171366  ...                2.0   \n",
       "\n",
       "       PastNumberOfClaims  AgeOfVehicle  AgeRangeOfPolicyHolder  AgentType  \\\n",
       "0                2.000000      4.000000                3.000000        0.0   \n",
       "1                0.000000      5.000000                4.000000        0.0   \n",
       "2                1.000000      7.000000                6.000000        0.0   \n",
       "3                2.000000      4.000000                3.000000        0.0   \n",
       "4                1.000000      5.000000                4.000000        0.0   \n",
       "...                   ...           ...                     ...        ...   \n",
       "16472            0.725702      7.000000                5.000000        0.0   \n",
       "16473            0.000000      7.000000                5.337524        0.0   \n",
       "16474            2.000000      7.000000                6.133099        0.0   \n",
       "16475            1.000000      4.342611                4.000000        0.0   \n",
       "16476            0.571543      7.000000                8.000000        0.0   \n",
       "\n",
       "       NumberOfSuppliments  AddressChange_Claim  NumberOfCars  BasePolicy  \\\n",
       "0                 2.000000                  0.0           0.0    2.000000   \n",
       "1                 3.000000                  0.0           0.0    1.000000   \n",
       "2                 1.000000                  0.0           0.0    1.000000   \n",
       "3                 0.000000                  4.0           1.0    2.000000   \n",
       "4                 0.000000                  0.0           0.0    0.000000   \n",
       "...                    ...                  ...           ...         ...   \n",
       "16472             1.548596                  0.0           0.0    0.274298   \n",
       "16473             0.662476                  0.0           0.0    0.000000   \n",
       "16474             0.866901                  0.0           0.0    0.866901   \n",
       "16475             3.000000                  0.0           0.0    0.000000   \n",
       "16476             3.000000                  0.0           0.0    0.190514   \n",
       "\n",
       "       FraudFound_P  \n",
       "0                 0  \n",
       "1                 0  \n",
       "2                 0  \n",
       "3                 0  \n",
       "4                 0  \n",
       "...             ...  \n",
       "16472             1  \n",
       "16473             1  \n",
       "16474             1  \n",
       "16475             1  \n",
       "16476             1  \n",
       "\n",
       "[16477 rows x 33 columns]"
      ]
     },
     "execution_count": 6,
     "metadata": {},
     "output_type": "execute_result"
    }
   ],
   "source": [
    "# Import data\n",
    "df_train = pd.read_csv(\"Fraud_sampledtrain_4.csv\")\n",
    "df_test = pd.read_csv(\"Fraud_test_4.csv\")\n",
    "df_val = pd.read_csv(\"Fraud_val_4.csv\")\n",
    "\n",
    "# df_train = pd.read_csv(\"Fraud_train.csv\")\n",
    "# df_test = pd.read_csv(\"Fraud_test.csv\")\n",
    "# df_val = pd.read_csv(\"Fraud_val.csv\")\n",
    "\n",
    "df_train"
   ]
  },
  {
   "cell_type": "code",
   "execution_count": 7,
   "id": "ab5bba2f",
   "metadata": {},
   "outputs": [],
   "source": [
    "X_train = df_train.drop(columns=['Unnamed: 0', 'FraudFound_P'])\n",
    "y_train = df_train['FraudFound_P']\n",
    "\n",
    "X_test = df_test.drop(columns=['Unnamed: 0', 'FraudFound_P'])\n",
    "y_test = df_test['FraudFound_P']\n",
    "\n",
    "X_val = df_val.drop(columns=['Unnamed: 0', 'FraudFound_P'])\n",
    "y_val = df_val['FraudFound_P']"
   ]
  },
  {
   "cell_type": "markdown",
   "id": "38828962",
   "metadata": {},
   "source": [
    "# 4. Modelling & Evaluation"
   ]
  },
  {
   "cell_type": "markdown",
   "id": "518cf8d0",
   "metadata": {},
   "source": [
    "## 4.1. Supervised Learning"
   ]
  },
  {
   "cell_type": "markdown",
   "id": "1cddaf65",
   "metadata": {},
   "source": [
    "### 4.1.1. KNN (K-Nearest Neighbors)"
   ]
  },
  {
   "cell_type": "code",
   "execution_count": 59,
   "id": "1be2a1e2",
   "metadata": {
    "scrolled": true
   },
   "outputs": [
    {
     "name": "stdout",
     "output_type": "stream",
     "text": [
      "1 : 0.7753250397530633\n",
      "2 : 0.7993639509868113\n",
      "3 : 0.7041436722476849\n",
      "4 : 0.7249088017959031\n",
      "5 : 0.6625198765316621\n",
      "6 : 0.6797306145355907\n",
      "7 : 0.6266953512300065\n",
      "8 : 0.639603404732953\n",
      "9 : 0.5905902160695913\n",
      "10 : 0.6054625385838556\n",
      "11 : 0.5612197175194088\n",
      "12 : 0.5739406977831821\n",
      "13 : 0.5359648302310355\n",
      "14 : 0.5484987372556356\n",
      "15 : 0.5128612851931531\n",
      "16 : 0.5259564119352726\n",
      "17 : 0.4928444486016275\n",
      "18 : 0.5058460387241606\n",
      "19 : 0.4796557852399214\n",
      "20 : 0.49162847254700215\n"
     ]
    }
   ],
   "source": [
    "from sklearn.neighbors import KNeighborsClassifier\n",
    "\n",
    "# K-fold cross validation for different n_neighbors\n",
    "for i in range (1, 21):\n",
    "    knn = KNeighborsClassifier(n_neighbors = i)\n",
    "    model_knn = knn.fit(X_train, y_train)\n",
    "    y_test_pred_knn = model_knn.predict(X_test)\n",
    "    scores = accuracy_score(y_test, y_test_pred_knn)\n",
    "    print(i, \":\", scores)"
   ]
  },
  {
   "cell_type": "code",
   "execution_count": 60,
   "id": "19cff045",
   "metadata": {},
   "outputs": [],
   "source": [
    "# Build the model\n",
    "KNN = KNeighborsClassifier(n_neighbors = 2)\n",
    "model_KNN = KNN.fit(X_train, y_train)\n",
    "\n",
    "# Using the model to predict the results based on the test dataset\n",
    "y_test_pred_KNN = model_KNN.predict(X_test)"
   ]
  },
  {
   "cell_type": "markdown",
   "id": "7dd94ff9",
   "metadata": {},
   "source": [
    "Evaluate:"
   ]
  },
  {
   "cell_type": "code",
   "execution_count": 61,
   "id": "42ffe00e",
   "metadata": {},
   "outputs": [
    {
     "data": {
      "text/plain": [
       "array([[7909, 2145],\n",
       "       [   0,  637]])"
      ]
     },
     "execution_count": 61,
     "metadata": {},
     "output_type": "execute_result"
    }
   ],
   "source": [
    "confusion_matrix(y_test, y_test_pred_KNN)"
   ]
  },
  {
   "cell_type": "code",
   "execution_count": 72,
   "id": "3cb4c476",
   "metadata": {},
   "outputs": [
    {
     "name": "stderr",
     "output_type": "stream",
     "text": [
      "/opt/anaconda3/lib/python3.9/site-packages/sklearn/utils/deprecation.py:87: FutureWarning: Function plot_confusion_matrix is deprecated; Function `plot_confusion_matrix` is deprecated in 1.0 and will be removed in 1.2. Use one of the class methods: ConfusionMatrixDisplay.from_predictions or ConfusionMatrixDisplay.from_estimator.\n",
      "  warnings.warn(msg, category=FutureWarning)\n"
     ]
    },
    {
     "data": {
      "text/plain": [
       "<sklearn.metrics._plot.confusion_matrix.ConfusionMatrixDisplay at 0x7fadc6ae2ca0>"
      ]
     },
     "execution_count": 72,
     "metadata": {},
     "output_type": "execute_result"
    },
    {
     "data": {
      "image/png": "[encoded data removed]",
      "text/plain": [
       "<Figure size 576x396 with 2 Axes>"
      ]
     },
     "metadata": {},
     "output_type": "display_data"
    }
   ],
   "source": [
    "plot_confusion_matrix(KNN, X_test, y_test_pred_KNN)"
   ]
  },
  {
   "cell_type": "code",
   "execution_count": 63,
   "id": "c19bb472",
   "metadata": {},
   "outputs": [
    {
     "name": "stdout",
     "output_type": "stream",
     "text": [
      "              precision    recall  f1-score   support\n",
      "\n",
      "           0     1.0000    0.7867    0.8806     10054\n",
      "           1     0.2290    1.0000    0.3726       637\n",
      "\n",
      "    accuracy                         0.7994     10691\n",
      "   macro avg     0.6145    0.8933    0.6266     10691\n",
      "weighted avg     0.9541    0.7994    0.8503     10691\n",
      "\n"
     ]
    }
   ],
   "source": [
    "print(classification_report(y_test, y_test_pred_KNN, target_names=['0','1'], digits=4))"
   ]
  },
  {
   "cell_type": "code",
   "execution_count": 68,
   "id": "37a7b25b",
   "metadata": {},
   "outputs": [
    {
     "data": {
      "image/png": "[encoded data removed]",
      "text/plain": [
       "<Figure size 576x396 with 2 Axes>"
      ]
     },
     "metadata": {},
     "output_type": "display_data"
    },
    {
     "data": {
      "text/plain": [
       "<AxesSubplot:title={'center':'KNeighborsClassifier Classification Report'}>"
      ]
     },
     "execution_count": 68,
     "metadata": {},
     "output_type": "execute_result"
    }
   ],
   "source": [
    "#pip install yellowbrick\n",
    "from yellowbrick.classifier import ClassificationReport\n",
    "\n",
    "visualizer = ClassificationReport(KNN, classes=['0','1'], support=True, is_fitted=True)\n",
    "\n",
    "visualizer.fit(X_train, y_train)\n",
    "visualizer.score(X_test, y_test)\n",
    "visualizer.show()"
   ]
  },
  {
   "cell_type": "markdown",
   "id": "82101717",
   "metadata": {},
   "source": [
    "### 4.1.2. ANN (Artificial Neural Network)"
   ]
  },
  {
   "cell_type": "code",
   "execution_count": 65,
   "id": "dcc0b8ed",
   "metadata": {},
   "outputs": [
    {
     "name": "stdout",
     "output_type": "stream",
     "text": [
      "2 : 0.8672089588520413\n",
      "3 : 0.8545239735109094\n",
      "4 : 0.8678767108151509\n",
      "5 : 0.8592584564727375\n",
      "6 : 0.8742496169541966\n",
      "7 : 0.8798939441931729\n",
      "8 : 0.8929418470173992\n",
      "9 : 0.8921532146382427\n",
      "10 : 0.9044738460745171\n",
      "11 : 0.8938524647524199\n",
      "12 : 0.8994963315998055\n",
      "13 : 0.8979186801125566\n",
      "14 : 0.9105420650588565\n",
      "15 : 0.9046555534275234\n",
      "16 : 0.9079334863061126\n",
      "17 : 0.9155797435066371\n",
      "18 : 0.9147905218262447\n",
      "19 : 0.910967503719964\n",
      "20 : 0.915883307305862\n"
     ]
    }
   ],
   "source": [
    "from sklearn.neural_network import MLPClassifier\n",
    "\n",
    "# Cross-validate with different size of one hidden layer\n",
    "for i in range (2, 21):    \n",
    "    model_ANN1 = MLPClassifier(hidden_layer_sizes=(i), max_iter=1000, random_state=0)\n",
    "    scores = cross_val_score(estimator=model_ANN1, X=X_train, y=y_train, cv=5)\n",
    "    print(i, \":\", np.average(scores))"
   ]
  },
  {
   "cell_type": "code",
   "execution_count": 66,
   "id": "47f968a9",
   "metadata": {},
   "outputs": [
    {
     "name": "stdout",
     "output_type": "stream",
     "text": [
      "2 : 0.6096376902338052\n",
      "3 : 0.8514289450034621\n",
      "4 : 0.8780120106958174\n",
      "5 : 0.8676338082119127\n",
      "6 : 0.8921528831562974\n",
      "7 : 0.8979181828896386\n",
      "8 : 0.8908782614140284\n",
      "9 : 0.8972513332940466\n",
      "10 : 0.9055662448251984\n",
      "11 : 0.9090259403037846\n",
      "12 : 0.9143658934543366\n",
      "13 : 0.9158840071010799\n",
      "14 : 0.9255336491005789\n",
      "15 : 0.9271713172355879\n",
      "16 : 0.931480914006217\n",
      "17 : 0.9316623451242689\n",
      "18 : 0.9275355790621271\n",
      "19 : 0.9354872416282394\n",
      "20 : 0.9303886257495175\n"
     ]
    }
   ],
   "source": [
    "# Cross-validate with different size of two hidden layer\n",
    "for i in range (2, 21):    \n",
    "    model_ANN2 = MLPClassifier(hidden_layer_sizes=(i,i), max_iter=1000, random_state=0)\n",
    "    scores = cross_val_score(estimator=model_ANN2, X=X_train, y=y_train, cv=5)\n",
    "    print(i, \":\", np.average(scores))"
   ]
  },
  {
   "cell_type": "code",
   "execution_count": 67,
   "id": "2086e8f5",
   "metadata": {},
   "outputs": [],
   "source": [
    "# Build the model\n",
    "ANN = MLPClassifier(hidden_layer_sizes=(19,19), max_iter=1000, random_state=0)\n",
    "model_ANN = ANN.fit(X_train, y_train)\n",
    "\n",
    "# Using the model to predict the results based on the test dataset\n",
    "y_test_pred_ANN = model_ANN.predict(X_test)"
   ]
  },
  {
   "cell_type": "code",
   "execution_count": 69,
   "id": "d50ac56f",
   "metadata": {},
   "outputs": [
    {
     "data": {
      "text/plain": [
       "array([[8198, 1856],\n",
       "       [  41,  596]])"
      ]
     },
     "execution_count": 69,
     "metadata": {},
     "output_type": "execute_result"
    }
   ],
   "source": [
    "confusion_matrix(y_test, y_test_pred_ANN)"
   ]
  },
  {
   "cell_type": "code",
   "execution_count": 71,
   "id": "d743aab3",
   "metadata": {},
   "outputs": [
    {
     "name": "stderr",
     "output_type": "stream",
     "text": [
      "/opt/anaconda3/lib/python3.9/site-packages/sklearn/utils/deprecation.py:87: FutureWarning: Function plot_confusion_matrix is deprecated; Function `plot_confusion_matrix` is deprecated in 1.0 and will be removed in 1.2. Use one of the class methods: ConfusionMatrixDisplay.from_predictions or ConfusionMatrixDisplay.from_estimator.\n",
      "  warnings.warn(msg, category=FutureWarning)\n"
     ]
    },
    {
     "data": {
      "text/plain": [
       "<sklearn.metrics._plot.confusion_matrix.ConfusionMatrixDisplay at 0x7fadc630f3d0>"
      ]
     },
     "execution_count": 71,
     "metadata": {},
     "output_type": "execute_result"
    },
    {
     "data": {
      "image/png": "[encoded data removed]",
      "text/plain": [
       "<Figure size 576x396 with 2 Axes>"
      ]
     },
     "metadata": {},
     "output_type": "display_data"
    }
   ],
   "source": [
    "plot_confusion_matrix(ANN, X_test, y_test_pred_ANN)"
   ]
  },
  {
   "cell_type": "code",
   "execution_count": 73,
   "id": "5baa5721",
   "metadata": {},
   "outputs": [
    {
     "name": "stdout",
     "output_type": "stream",
     "text": [
      "              precision    recall  f1-score   support\n",
      "\n",
      "           0     0.9950    0.8154    0.8963     10054\n",
      "           1     0.2431    0.9356    0.3859       637\n",
      "\n",
      "    accuracy                         0.8226     10691\n",
      "   macro avg     0.6190    0.8755    0.6411     10691\n",
      "weighted avg     0.9502    0.8226    0.8659     10691\n",
      "\n"
     ]
    }
   ],
   "source": [
    "print(classification_report(y_test, y_test_pred_ANN, target_names=['0','1'], digits=4))"
   ]
  },
  {
   "cell_type": "code",
   "execution_count": 75,
   "id": "0b04ea06",
   "metadata": {},
   "outputs": [
    {
     "data": {
      "image/png": "[encoded data removed]",
      "text/plain": [
       "<Figure size 576x396 with 2 Axes>"
      ]
     },
     "metadata": {},
     "output_type": "display_data"
    },
    {
     "data": {
      "text/plain": [
       "<AxesSubplot:title={'center':'MLPClassifier Classification Report'}>"
      ]
     },
     "execution_count": 75,
     "metadata": {},
     "output_type": "execute_result"
    }
   ],
   "source": [
    "visualizer = ClassificationReport(ANN, classes=['0','1'], support=True, is_fitted=True)\n",
    "\n",
    "visualizer.fit(X_train, y_train)\n",
    "visualizer.score(X_test, y_test)\n",
    "visualizer.show()"
   ]
  },
  {
   "cell_type": "code",
   "execution_count": null,
   "id": "b65a0a82",
   "metadata": {},
   "outputs": [],
   "source": []
  },
  {
   "cell_type": "code",
   "execution_count": null,
   "id": "3b74c835",
   "metadata": {},
   "outputs": [],
   "source": []
  },
  {
   "cell_type": "code",
   "execution_count": null,
   "id": "43e9a431",
   "metadata": {},
   "outputs": [],
   "source": []
  },
  {
   "cell_type": "markdown",
   "id": "5ad1db6c",
   "metadata": {},
   "source": [
    "> # Comparison"
   ]
  },
  {
   "cell_type": "markdown",
   "id": "469f9090",
   "metadata": {},
   "source": [
    "### 1. KNN (K-Nearest Neighbors)"
   ]
  },
  {
   "cell_type": "code",
   "execution_count": 8,
   "id": "1d14db69",
   "metadata": {},
   "outputs": [
    {
     "name": "stdout",
     "output_type": "stream",
     "text": [
      "KNN Score:\n"
     ]
    },
    {
     "data": {
      "text/plain": [
       "0.7160714285714286"
      ]
     },
     "execution_count": 8,
     "metadata": {},
     "output_type": "execute_result"
    }
   ],
   "source": [
    "from sklearn import neighbors\n",
    "\n",
    "print(\"KNN Score:\")\n",
    "KNNClassifier = neighbors.KNeighborsClassifier(n_neighbors=2, weights='distance')\n",
    "KNNClassifier.fit(X=X_train, y=y_train)\n",
    "KNNClassifier.score(X_test, y_test)"
   ]
  },
  {
   "cell_type": "code",
   "execution_count": 9,
   "id": "b4cc3ab4",
   "metadata": {},
   "outputs": [
    {
     "data": {
      "text/plain": [
       "array([[1552,  557],\n",
       "       [  79,   52]])"
      ]
     },
     "execution_count": 9,
     "metadata": {},
     "output_type": "execute_result"
    }
   ],
   "source": [
    "KNN_y_predicted = KNNClassifier.predict(X_test)\n",
    "class_names = np.unique(np.array(y_test))\n",
    "confusion_matrix(y_test, KNN_y_predicted)"
   ]
  },
  {
   "cell_type": "code",
   "execution_count": 10,
   "id": "f8875c52",
   "metadata": {},
   "outputs": [
    {
     "name": "stdout",
     "output_type": "stream",
     "text": [
      "              precision    recall  f1-score   support\n",
      "\n",
      "           0       0.95      0.74      0.83      2109\n",
      "           1       0.09      0.40      0.14       131\n",
      "\n",
      "    accuracy                           0.72      2240\n",
      "   macro avg       0.52      0.57      0.49      2240\n",
      "weighted avg       0.90      0.72      0.79      2240\n",
      "\n",
      "Cross-Validated Accuracy: 0.99\n"
     ]
    }
   ],
   "source": [
    "from sklearn.metrics import classification_report\n",
    "from sklearn.model_selection import cross_val_score\n",
    "\n",
    "print(classification_report(y_test, KNN_y_predicted))\n",
    "\n",
    "scores = cross_val_score(KNNClassifier, X_train, y_train, cv=10, scoring='accuracy')\n",
    "knn_accuracy = scores.mean()\n",
    "print('Cross-Validated Accuracy: %0.2f' % knn_accuracy)"
   ]
  },
  {
   "cell_type": "code",
   "execution_count": 11,
   "id": "09869bea",
   "metadata": {},
   "outputs": [
    {
     "data": {
      "image/png": "[encoded data removed]",
      "text/plain": [
       "<Figure size 432x288 with 1 Axes>"
      ]
     },
     "metadata": {
      "needs_background": "light"
     },
     "output_type": "display_data"
    }
   ],
   "source": [
    "from sklearn.metrics import roc_curve, auc\n",
    "knn_pred_prob = KNNClassifier.predict_proba(X_test)[:, 1]\n",
    "fpr, tpr, thresholds = roc_curve(y_test, knn_pred_prob)\n",
    "roc_auc = auc(fpr, tpr)\n",
    "lw = 2\n",
    "plt.plot(fpr, tpr,label='ROC curve KNN (AUC = %0.2f)' % roc_auc)\n",
    "plt.xlim([0.0, 1])\n",
    "plt.ylim([0.0, 1])\n",
    "plt.title('ROC curve for KNN CLASS 1')\n",
    "plt.xlabel('(1 - Specificity)')\n",
    "plt.ylabel('(Sensitivity)')\n",
    "plt.grid(True)\n",
    "plt.legend(loc=\"lower right\")\n",
    "plt.show()"
   ]
  },
  {
   "cell_type": "markdown",
   "id": "ebcc8f76",
   "metadata": {},
   "source": [
    "### 2. Decision Tree"
   ]
  },
  {
   "cell_type": "code",
   "execution_count": 12,
   "id": "f959f6a1",
   "metadata": {},
   "outputs": [
    {
     "name": "stdout",
     "output_type": "stream",
     "text": [
      "Decision Tree Score :\n"
     ]
    },
    {
     "data": {
      "text/plain": [
       "0.7508928571428571"
      ]
     },
     "execution_count": 12,
     "metadata": {},
     "output_type": "execute_result"
    }
   ],
   "source": [
    "from sklearn import tree\n",
    "\n",
    "DTClassifier = tree.DecisionTreeClassifier()\n",
    "DTClassifier.fit(X_train, y_train) \n",
    "\n",
    "print(\"Decision Tree Score:\")\n",
    "DTClassifier.score(X_test, y_test)"
   ]
  },
  {
   "cell_type": "code",
   "execution_count": 13,
   "id": "f52d22d0",
   "metadata": {},
   "outputs": [
    {
     "data": {
      "text/plain": [
       "array([[1606,  503],\n",
       "       [  55,   76]])"
      ]
     },
     "execution_count": 13,
     "metadata": {},
     "output_type": "execute_result"
    }
   ],
   "source": [
    "DT_y_predicted = DTClassifier.predict(X_test)\n",
    "class_names = np.unique(np.array(y_test))\n",
    "confusion_matrix(y_test, DT_y_predicted)"
   ]
  },
  {
   "cell_type": "code",
   "execution_count": 14,
   "id": "5967bf96",
   "metadata": {},
   "outputs": [
    {
     "name": "stdout",
     "output_type": "stream",
     "text": [
      "              precision    recall  f1-score   support\n",
      "\n",
      "           0       0.97      0.76      0.85      2109\n",
      "           1       0.13      0.58      0.21       131\n",
      "\n",
      "    accuracy                           0.75      2240\n",
      "   macro avg       0.55      0.67      0.53      2240\n",
      "weighted avg       0.92      0.75      0.81      2240\n",
      "\n",
      "Cross-Validated Accuracy: 0.94\n"
     ]
    }
   ],
   "source": [
    "print(classification_report(y_test, DT_y_predicted))\n",
    "\n",
    "scores = cross_val_score(DTClassifier, X_train, y_train, cv=10, scoring='accuracy')\n",
    "dt_accuracy = scores.mean()\n",
    "print('Cross-Validated Accuracy: %0.2f' % dt_accuracy)"
   ]
  },
  {
   "cell_type": "code",
   "execution_count": 15,
   "id": "b3b1c52d",
   "metadata": {},
   "outputs": [
    {
     "data": {
      "image/png": "[encoded data removed]",
      "text/plain": [
       "<Figure size 432x288 with 1 Axes>"
      ]
     },
     "metadata": {
      "needs_background": "light"
     },
     "output_type": "display_data"
    }
   ],
   "source": [
    "from sklearn.metrics import roc_curve, auc\n",
    "dt_pred_prob = DTClassifier.predict_proba(X_test)[:, 1]\n",
    "fpr, tpr, thresholds = roc_curve(y_test, dt_pred_prob)\n",
    "roc_auc = auc(fpr, tpr)\n",
    "lw = 2\n",
    "plt.plot(fpr, tpr,label='ROC curve Decision Tree (AUC = %0.2f)' % roc_auc)\n",
    "plt.xlim([0.0, 1])\n",
    "plt.ylim([0.0, 1])\n",
    "plt.title('ROC curve for Decision Tree CLASS 1')\n",
    "plt.xlabel('(1 - Specificity)')\n",
    "plt.ylabel('(Sensitivity)')\n",
    "plt.grid(True)\n",
    "plt.legend(loc=\"lower right\")\n",
    "plt.show()"
   ]
  },
  {
   "cell_type": "markdown",
   "id": "dc6a6b6d",
   "metadata": {},
   "source": [
    "### 3. SVC (Support Vector Classification)"
   ]
  },
  {
   "cell_type": "code",
   "execution_count": 16,
   "id": "bda72f48",
   "metadata": {},
   "outputs": [
    {
     "name": "stdout",
     "output_type": "stream",
     "text": [
      "SVM Score :\n"
     ]
    },
    {
     "data": {
      "text/plain": [
       "0.7919642857142857"
      ]
     },
     "execution_count": 16,
     "metadata": {},
     "output_type": "execute_result"
    }
   ],
   "source": [
    "from sklearn.svm import SVC\n",
    "\n",
    "SVMClassifier = SVC(kernel='rbf', probability=True, random_state=42, gamma='auto') \n",
    "SVMClassifier.fit(X_train, y_train) \n",
    "print(\"SVM Score:\")\n",
    "SVMClassifier.score(X_test, y_test)"
   ]
  },
  {
   "cell_type": "code",
   "execution_count": 17,
   "id": "b1b6b6ce",
   "metadata": {},
   "outputs": [
    {
     "data": {
      "text/plain": [
       "array([[1709,  400],\n",
       "       [  66,   65]])"
      ]
     },
     "execution_count": 17,
     "metadata": {},
     "output_type": "execute_result"
    }
   ],
   "source": [
    "SVM_y_predicted = SVMClassifier.predict(X_test)\n",
    "class_names = np.unique(np.array(y_test))\n",
    "confusion_matrix(y_test, SVM_y_predicted)"
   ]
  },
  {
   "cell_type": "code",
   "execution_count": 18,
   "id": "38173ee7",
   "metadata": {},
   "outputs": [
    {
     "name": "stdout",
     "output_type": "stream",
     "text": [
      "              precision    recall  f1-score   support\n",
      "\n",
      "           0       0.96      0.81      0.88      2109\n",
      "           1       0.14      0.50      0.22       131\n",
      "\n",
      "    accuracy                           0.79      2240\n",
      "   macro avg       0.55      0.65      0.55      2240\n",
      "weighted avg       0.91      0.79      0.84      2240\n",
      "\n",
      "Cross-Validated Accuracy: 0.96\n"
     ]
    }
   ],
   "source": [
    "from sklearn.metrics import classification_report\n",
    "report = classification_report(y_test, SVM_y_predicted)\n",
    "print(report)\n",
    "\n",
    "scores = cross_val_score(SVMClassifier, X_train, y_train, cv=10, scoring='accuracy')\n",
    "svm_accuracy = scores.mean()\n",
    "print('Cross-Validated Accuracy: %0.2f' % svm_accuracy)"
   ]
  },
  {
   "cell_type": "code",
   "execution_count": 19,
   "id": "1620e5b8",
   "metadata": {},
   "outputs": [
    {
     "data": {
      "image/png": "[encoded data removed]",
      "text/plain": [
       "<Figure size 432x288 with 1 Axes>"
      ]
     },
     "metadata": {
      "needs_background": "light"
     },
     "output_type": "display_data"
    }
   ],
   "source": [
    "svm_pred_prob = SVMClassifier.predict_proba(X_test)[:, 1]\n",
    "fpr, tpr, thresholds = roc_curve(y_test, svm_pred_prob)\n",
    "roc_auc = auc(fpr, tpr)\n",
    "lw = 2\n",
    "plt.plot(fpr, tpr,label='ROC curve SVM (AUC = %0.2f)' % roc_auc)\n",
    "plt.xlim([0.0, 1])\n",
    "plt.ylim([0.0, 1])\n",
    "plt.title('ROC curve for SVM CLASS 1')\n",
    "plt.xlabel('(1 - Specificity)')\n",
    "plt.ylabel('(Sensitivity)')\n",
    "plt.grid(True)\n",
    "plt.legend(loc=\"lower right\")\n",
    "plt.show()"
   ]
  },
  {
   "cell_type": "markdown",
   "id": "1a0458f5",
   "metadata": {},
   "source": [
    "### 4. Random Forest"
   ]
  },
  {
   "cell_type": "code",
   "execution_count": 20,
   "id": "885fa903",
   "metadata": {},
   "outputs": [
    {
     "name": "stdout",
     "output_type": "stream",
     "text": [
      "Random Forest Score:\n"
     ]
    },
    {
     "data": {
      "text/plain": [
       "0.8642857142857143"
      ]
     },
     "execution_count": 20,
     "metadata": {},
     "output_type": "execute_result"
    }
   ],
   "source": [
    "from sklearn.ensemble import RandomForestClassifier\n",
    "from sklearn.model_selection import cross_val_score\n",
    "\n",
    "RFClassifier = RandomForestClassifier()\n",
    "RFClassifier.fit(X_train, y_train) \n",
    "print(\"Random Forest Score:\")\n",
    "RFClassifier.score(X_test, y_test)"
   ]
  },
  {
   "cell_type": "code",
   "execution_count": 21,
   "id": "bdf2b6e4",
   "metadata": {},
   "outputs": [
    {
     "data": {
      "text/plain": [
       "array([[1887,  222],\n",
       "       [  82,   49]])"
      ]
     },
     "execution_count": 21,
     "metadata": {},
     "output_type": "execute_result"
    }
   ],
   "source": [
    "RF_y_predicted = RFClassifier.predict(X_test)\n",
    "class_names = np.unique(np.array(y_test))\n",
    "confusion_matrix(y_test, RF_y_predicted)"
   ]
  },
  {
   "cell_type": "code",
   "execution_count": 22,
   "id": "51a191f7",
   "metadata": {},
   "outputs": [
    {
     "name": "stdout",
     "output_type": "stream",
     "text": [
      "              precision    recall  f1-score   support\n",
      "\n",
      "           0       0.96      0.89      0.93      2109\n",
      "           1       0.18      0.37      0.24       131\n",
      "\n",
      "    accuracy                           0.86      2240\n",
      "   macro avg       0.57      0.63      0.58      2240\n",
      "weighted avg       0.91      0.86      0.89      2240\n",
      "\n",
      "Cross-Validated Accuracy: 0.97\n"
     ]
    }
   ],
   "source": [
    "from sklearn.metrics import classification_report\n",
    "report = classification_report(y_test, RF_y_predicted)\n",
    "print(report)\n",
    "\n",
    "scores = cross_val_score(RFClassifier, X_train, y_train, cv=10, scoring='accuracy')\n",
    "rf_accuracy = scores.mean()\n",
    "print('Cross-Validated Accuracy: %0.2f' % rf_accuracy)"
   ]
  },
  {
   "cell_type": "code",
   "execution_count": 23,
   "id": "beb4db1c",
   "metadata": {},
   "outputs": [
    {
     "data": {
      "image/png": "[encoded data removed]",
      "text/plain": [
       "<Figure size 432x288 with 1 Axes>"
      ]
     },
     "metadata": {
      "needs_background": "light"
     },
     "output_type": "display_data"
    }
   ],
   "source": [
    "from sklearn.metrics import roc_curve, auc\n",
    "rf_pred_prob = RFClassifier.predict_proba(X_test)[:, 1]\n",
    "fpr, tpr, thresholds = roc_curve(y_test, rf_pred_prob)\n",
    "roc_auc = auc(fpr, tpr)\n",
    "lw = 2\n",
    "plt.plot(fpr, tpr,label='ROC curve  Random Forest (AUC = %0.2f)' % roc_auc)\n",
    "plt.xlim([0.0, 1])\n",
    "plt.ylim([0.0, 1])\n",
    "plt.title('ROC curve for  random forest CLASS 1')\n",
    "plt.xlabel('(1 - Specificity)')\n",
    "plt.ylabel('(Sensitivity)')\n",
    "plt.grid(True)\n",
    "plt.legend(loc=\"lower right\")\n",
    "plt.show()"
   ]
  },
  {
   "cell_type": "markdown",
   "id": "aa7dfa54",
   "metadata": {},
   "source": [
    "### 5. Balanced Random Forest"
   ]
  },
  {
   "cell_type": "code",
   "execution_count": 26,
   "id": "e805b94b",
   "metadata": {},
   "outputs": [
    {
     "name": "stdout",
     "output_type": "stream",
     "text": [
      "Balanced Random Forest Score:\n"
     ]
    },
    {
     "data": {
      "text/plain": [
       "0.8714285714285714"
      ]
     },
     "execution_count": 26,
     "metadata": {},
     "output_type": "execute_result"
    }
   ],
   "source": [
    "#pip install imbalanced-learn\n",
    "from imblearn.ensemble import BalancedRandomForestClassifier\n",
    "\n",
    "BRFClassifier = BalancedRandomForestClassifier()\n",
    "BRFClassifier.fit(X_train, y_train) \n",
    "print(\"Balanced Random Forest Score:\")\n",
    "BRFClassifier.score(X_test, y_test)"
   ]
  },
  {
   "cell_type": "code",
   "execution_count": 27,
   "id": "e97b778c",
   "metadata": {},
   "outputs": [
    {
     "name": "stdout",
     "output_type": "stream",
     "text": [
      "              precision    recall  f1-score   support\n",
      "\n",
      "           0       0.96      0.90      0.93      2109\n",
      "           1       0.18      0.34      0.23       131\n",
      "\n",
      "    accuracy                           0.87      2240\n",
      "   macro avg       0.57      0.62      0.58      2240\n",
      "weighted avg       0.91      0.87      0.89      2240\n",
      "\n",
      "Cross-Validated Accuracy: 0.97\n"
     ]
    }
   ],
   "source": [
    "BRF_y_predicted = BRFClassifier.predict(X_test)\n",
    "report = classification_report(y_test, BRF_y_predicted)\n",
    "print(report)\n",
    "\n",
    "scores = cross_val_score(BRFClassifier, X_train, y_train, cv=10, scoring='accuracy')\n",
    "brf_accuracy = scores.mean()\n",
    "print('Cross-Validated Accuracy: %0.2f' % brf_accuracy)"
   ]
  },
  {
   "cell_type": "code",
   "execution_count": 28,
   "id": "5994f2da",
   "metadata": {},
   "outputs": [
    {
     "data": {
      "image/png": "[encoded data removed]",
      "text/plain": [
       "<Figure size 432x288 with 1 Axes>"
      ]
     },
     "metadata": {
      "needs_background": "light"
     },
     "output_type": "display_data"
    }
   ],
   "source": [
    "brf_pred_prob = BRFClassifier.predict_proba(X_test)[:, 1]\n",
    "fpr, tpr, thresholds = roc_curve(y_test, brf_pred_prob)\n",
    "roc_auc = auc(fpr, tpr)\n",
    "lw = 2\n",
    "plt.plot(fpr, tpr,label='ROC curve Balanced Random Forest (AUC = %0.2f)' % roc_auc)\n",
    "plt.xlim([0.0, 1])\n",
    "plt.ylim([0.0, 1])\n",
    "plt.title('ROC curve for Balanced random forest CLASS 1')\n",
    "plt.xlabel('(1 - Specificity)')\n",
    "plt.ylabel('(Sensitivity)')\n",
    "plt.grid(True)\n",
    "plt.legend(loc=\"lower right\")\n",
    "plt.show()"
   ]
  },
  {
   "cell_type": "markdown",
   "id": "d6c007f5",
   "metadata": {},
   "source": [
    "### 6. LDA (Linear Discriminant Analysis)"
   ]
  },
  {
   "cell_type": "code",
   "execution_count": 29,
   "id": "6c2d461f",
   "metadata": {},
   "outputs": [
    {
     "name": "stdout",
     "output_type": "stream",
     "text": [
      "Linear Discriminant Analysis Score:\n"
     ]
    },
    {
     "data": {
      "text/plain": [
       "0.6120535714285714"
      ]
     },
     "execution_count": 29,
     "metadata": {},
     "output_type": "execute_result"
    }
   ],
   "source": [
    "from sklearn.discriminant_analysis import LinearDiscriminantAnalysis as LDA\n",
    "\n",
    "lda = LDA()\n",
    "lda.fit(X_train, y_train) \n",
    "print(\"Linear Discriminant Analysis Score:\")\n",
    "lda.score(X_test, y_test)"
   ]
  },
  {
   "cell_type": "code",
   "execution_count": 30,
   "id": "79440f58",
   "metadata": {},
   "outputs": [
    {
     "name": "stdout",
     "output_type": "stream",
     "text": [
      "              precision    recall  f1-score   support\n",
      "\n",
      "           0       0.99      0.59      0.74      2109\n",
      "           1       0.13      0.95      0.22       131\n",
      "\n",
      "    accuracy                           0.61      2240\n",
      "   macro avg       0.56      0.77      0.48      2240\n",
      "weighted avg       0.94      0.61      0.71      2240\n",
      "\n",
      "Cross-Validated Accuracy: 0.84\n"
     ]
    }
   ],
   "source": [
    "lda_y_predicted = lda.predict(X_test)\n",
    "report = classification_report(y_test, lda_y_predicted)\n",
    "print(report)\n",
    "\n",
    "scores = cross_val_score(lda, X_train, y_train, cv=10, scoring='accuracy')\n",
    "lda_accuracy = scores.mean()\n",
    "print('Cross-Validated Accuracy: %0.2f' % lda_accuracy)"
   ]
  },
  {
   "cell_type": "code",
   "execution_count": 31,
   "id": "fc8d6904",
   "metadata": {},
   "outputs": [
    {
     "data": {
      "image/png": "[encoded data removed]",
      "text/plain": [
       "<Figure size 432x288 with 1 Axes>"
      ]
     },
     "metadata": {
      "needs_background": "light"
     },
     "output_type": "display_data"
    }
   ],
   "source": [
    "lda_pred_prob = lda.predict_proba(X_test)[:, 1]\n",
    "fpr, tpr, thresholds = roc_curve(y_test, lda_pred_prob)\n",
    "roc_auc = auc(fpr, tpr)\n",
    "lw = 2\n",
    "plt.plot(fpr, tpr,label='ROC curve LDA (AUC = %0.2f)' % roc_auc)\n",
    "plt.xlim([0.0, 1])\n",
    "plt.ylim([0.0, 1])\n",
    "plt.title('ROC curve for LDA CLASS 1')\n",
    "plt.xlabel('(1 - Specificity)')\n",
    "plt.ylabel('(Sensitivity)')\n",
    "plt.grid(True)\n",
    "plt.legend(loc=\"lower right\")\n",
    "plt.show()"
   ]
  },
  {
   "cell_type": "markdown",
   "id": "e38e1686",
   "metadata": {},
   "source": [
    "### 7. Naive Bayes Classifier"
   ]
  },
  {
   "cell_type": "code",
   "execution_count": 32,
   "id": "76d3f1c9",
   "metadata": {},
   "outputs": [
    {
     "name": "stdout",
     "output_type": "stream",
     "text": [
      "Naive Bayes Classifier Score:\n"
     ]
    },
    {
     "data": {
      "text/plain": [
       "0.6075892857142857"
      ]
     },
     "execution_count": 32,
     "metadata": {},
     "output_type": "execute_result"
    }
   ],
   "source": [
    "from sklearn.naive_bayes import BernoulliNB\n",
    "\n",
    "NBClassifier = BernoulliNB()\n",
    "NBClassifier.fit(X_train, y_train)\n",
    "print(\"Naive Bayes Classifier Score:\")\n",
    "NBClassifier.score(X_test, y_test)"
   ]
  },
  {
   "cell_type": "code",
   "execution_count": 33,
   "id": "f7142890",
   "metadata": {},
   "outputs": [
    {
     "name": "stdout",
     "output_type": "stream",
     "text": [
      "              precision    recall  f1-score   support\n",
      "\n",
      "           0       0.97      0.60      0.74      2109\n",
      "           1       0.10      0.73      0.18       131\n",
      "\n",
      "    accuracy                           0.61      2240\n",
      "   macro avg       0.54      0.67      0.46      2240\n",
      "weighted avg       0.92      0.61      0.71      2240\n",
      "\n",
      "Cross-Validated Accuracy: 0.77\n"
     ]
    }
   ],
   "source": [
    "nb_y_predicted = NBClassifier.predict(X_test)\n",
    "report = classification_report(y_test, nb_y_predicted)\n",
    "print(report)\n",
    "\n",
    "scores = cross_val_score(NBClassifier, X_train, y_train, cv=10, scoring='accuracy')\n",
    "nb_accuracy = scores.mean()\n",
    "print('Cross-Validated Accuracy: %0.2f' % nb_accuracy)"
   ]
  },
  {
   "cell_type": "markdown",
   "id": "a2227da3",
   "metadata": {},
   "source": [
    "### 8. XGBOOST Classifier"
   ]
  },
  {
   "cell_type": "code",
   "execution_count": 34,
   "id": "fcea0b7d",
   "metadata": {},
   "outputs": [
    {
     "name": "stdout",
     "output_type": "stream",
     "text": [
      "XGBClassifier Score:\n"
     ]
    },
    {
     "data": {
      "text/plain": [
       "0.665625"
      ]
     },
     "execution_count": 34,
     "metadata": {},
     "output_type": "execute_result"
    }
   ],
   "source": [
    "from xgboost import XGBClassifier\n",
    "\n",
    "model_xgb = XGBClassifier()\n",
    "model_xgb.fit(X_train, y_train, verbose=False) \n",
    "print(\"XGBClassifier Score:\")\n",
    "model_xgb.score(X_test, y_test)"
   ]
  },
  {
   "cell_type": "code",
   "execution_count": 35,
   "id": "22800927",
   "metadata": {},
   "outputs": [
    {
     "name": "stdout",
     "output_type": "stream",
     "text": [
      "              precision    recall  f1-score   support\n",
      "\n",
      "           0       0.98      0.66      0.79      2109\n",
      "           1       0.13      0.82      0.22       131\n",
      "\n",
      "    accuracy                           0.67      2240\n",
      "   macro avg       0.56      0.74      0.50      2240\n",
      "weighted avg       0.93      0.67      0.75      2240\n",
      "\n",
      "Cross-Validated Accuracy: 0.95\n"
     ]
    }
   ],
   "source": [
    "xgboost_y_predicted = model_xgb.predict(X_test)\n",
    "report = classification_report(y_test, xgboost_y_predicted)\n",
    "print(report)\n",
    "\n",
    "scores = cross_val_score(model_xgb, X_train, y_train, cv=10, scoring='accuracy')\n",
    "xgb_accuracy = scores.mean()\n",
    "print('Cross-Validated Accuracy: %0.2f' % xgb_accuracy)"
   ]
  },
  {
   "cell_type": "code",
   "execution_count": 36,
   "id": "397d403b",
   "metadata": {},
   "outputs": [
    {
     "data": {
      "image/png": "[encoded data removed]",
      "text/plain": [
       "<Figure size 432x288 with 1 Axes>"
      ]
     },
     "metadata": {
      "needs_background": "light"
     },
     "output_type": "display_data"
    }
   ],
   "source": [
    "xgb_pred_prob = model_xgb.predict_proba(X_test)[:, 1]\n",
    "fpr, tpr, thresholds = roc_curve(y_test, xgb_pred_prob)\n",
    "roc_auc = auc(fpr, tpr)\n",
    "lw = 2\n",
    "plt.plot(fpr, tpr,label='ROC curve XGBOOST (AUC = %0.2f)' % roc_auc)\n",
    "plt.xlim([0.0, 1])\n",
    "plt.ylim([0.0, 1])\n",
    "plt.title('ROC curve for XGBOOST CLASS 1')\n",
    "plt.xlabel('(1 - Specificity)')\n",
    "plt.ylabel('(Sensitivity)')\n",
    "plt.grid(True)\n",
    "plt.legend(loc=\"lower right\")\n",
    "plt.show()"
   ]
  },
  {
   "cell_type": "markdown",
   "id": "cd907bf5",
   "metadata": {},
   "source": [
    "### 9. Newral Network Classifier"
   ]
  },
  {
   "cell_type": "code",
   "execution_count": 37,
   "id": "44eb1e3f",
   "metadata": {},
   "outputs": [
    {
     "name": "stdout",
     "output_type": "stream",
     "text": [
      "MLPClassifier Score:\n"
     ]
    },
    {
     "data": {
      "text/plain": [
       "0.7816964285714286"
      ]
     },
     "execution_count": 37,
     "metadata": {},
     "output_type": "execute_result"
    }
   ],
   "source": [
    "from sklearn.neural_network import MLPClassifier\n",
    "\n",
    "clf_MLP = MLPClassifier(alpha=1e-05, hidden_layer_sizes=(19,19))\n",
    "clf_MLP.fit(X_train, y_train) \n",
    "print(\"MLPClassifier Score:\")\n",
    "clf_MLP.score(X_test, y_test)"
   ]
  },
  {
   "cell_type": "code",
   "execution_count": 38,
   "id": "a286f337",
   "metadata": {},
   "outputs": [
    {
     "name": "stdout",
     "output_type": "stream",
     "text": [
      "              precision    recall  f1-score   support\n",
      "\n",
      "           0       0.97      0.80      0.87      2109\n",
      "           1       0.15      0.56      0.23       131\n",
      "\n",
      "    accuracy                           0.78      2240\n",
      "   macro avg       0.56      0.68      0.55      2240\n",
      "weighted avg       0.92      0.78      0.84      2240\n",
      "\n"
     ]
    },
    {
     "name": "stderr",
     "output_type": "stream",
     "text": [
      "/opt/anaconda3/lib/python3.9/site-packages/sklearn/neural_network/_multilayer_perceptron.py:692: ConvergenceWarning: Stochastic Optimizer: Maximum iterations (200) reached and the optimization hasn't converged yet.\n",
      "  warnings.warn(\n",
      "/opt/anaconda3/lib/python3.9/site-packages/sklearn/neural_network/_multilayer_perceptron.py:692: ConvergenceWarning: Stochastic Optimizer: Maximum iterations (200) reached and the optimization hasn't converged yet.\n",
      "  warnings.warn(\n",
      "/opt/anaconda3/lib/python3.9/site-packages/sklearn/neural_network/_multilayer_perceptron.py:692: ConvergenceWarning: Stochastic Optimizer: Maximum iterations (200) reached and the optimization hasn't converged yet.\n",
      "  warnings.warn(\n",
      "/opt/anaconda3/lib/python3.9/site-packages/sklearn/neural_network/_multilayer_perceptron.py:692: ConvergenceWarning: Stochastic Optimizer: Maximum iterations (200) reached and the optimization hasn't converged yet.\n",
      "  warnings.warn(\n",
      "/opt/anaconda3/lib/python3.9/site-packages/sklearn/neural_network/_multilayer_perceptron.py:692: ConvergenceWarning: Stochastic Optimizer: Maximum iterations (200) reached and the optimization hasn't converged yet.\n",
      "  warnings.warn(\n",
      "/opt/anaconda3/lib/python3.9/site-packages/sklearn/neural_network/_multilayer_perceptron.py:692: ConvergenceWarning: Stochastic Optimizer: Maximum iterations (200) reached and the optimization hasn't converged yet.\n",
      "  warnings.warn(\n",
      "/opt/anaconda3/lib/python3.9/site-packages/sklearn/neural_network/_multilayer_perceptron.py:692: ConvergenceWarning: Stochastic Optimizer: Maximum iterations (200) reached and the optimization hasn't converged yet.\n",
      "  warnings.warn(\n",
      "/opt/anaconda3/lib/python3.9/site-packages/sklearn/neural_network/_multilayer_perceptron.py:692: ConvergenceWarning: Stochastic Optimizer: Maximum iterations (200) reached and the optimization hasn't converged yet.\n",
      "  warnings.warn(\n",
      "/opt/anaconda3/lib/python3.9/site-packages/sklearn/neural_network/_multilayer_perceptron.py:692: ConvergenceWarning: Stochastic Optimizer: Maximum iterations (200) reached and the optimization hasn't converged yet.\n",
      "  warnings.warn(\n"
     ]
    },
    {
     "name": "stdout",
     "output_type": "stream",
     "text": [
      "Cross-Validated Accuracy: 0.93\n"
     ]
    },
    {
     "name": "stderr",
     "output_type": "stream",
     "text": [
      "/opt/anaconda3/lib/python3.9/site-packages/sklearn/neural_network/_multilayer_perceptron.py:692: ConvergenceWarning: Stochastic Optimizer: Maximum iterations (200) reached and the optimization hasn't converged yet.\n",
      "  warnings.warn(\n"
     ]
    }
   ],
   "source": [
    "mlp_y_predicted = clf_MLP.predict(X_test)\n",
    "report = classification_report(y_test, mlp_y_predicted)\n",
    "print(report)\n",
    "\n",
    "scores = cross_val_score(clf_MLP, X_train, y_train, cv=10, scoring='accuracy')\n",
    "mlp_accuracy = scores.mean()\n",
    "print('Cross-Validated Accuracy: %0.2f' % mlp_accuracy)"
   ]
  },
  {
   "cell_type": "markdown",
   "id": "2893243d",
   "metadata": {},
   "source": [
    "### Comparing 8 models:"
   ]
  },
  {
   "cell_type": "code",
   "execution_count": 39,
   "id": "8a6cdd4a",
   "metadata": {},
   "outputs": [
    {
     "data": {
      "image/png": "[encoded data removed]",
      "text/plain": [
       "<Figure size 720x576 with 1 Axes>"
      ]
     },
     "metadata": {
      "needs_background": "light"
     },
     "output_type": "display_data"
    }
   ],
   "source": [
    "fpr9, tpr9, thresholds9 = roc_curve(y_test, nb_y_predicted)\n",
    "roc_auc9 = auc(fpr9, tpr9)\n",
    "\n",
    "fpr8, tpr8, thresholds8 = roc_curve(y_test, mlp_y_predicted)\n",
    "roc_auc8 = auc(fpr8, tpr8)\n",
    "\n",
    "fpr7, tpr7, thresholds7 = roc_curve(y_test, DT_y_predicted)\n",
    "roc_auc7 = auc(fpr7, tpr7)\n",
    "\n",
    "fpr6, tpr6, thresholds6 = roc_curve(y_test, lda_pred_prob)\n",
    "roc_auc6 = auc(fpr6, tpr6)\n",
    "\n",
    "fpr5, tpr5, thresholds5 = roc_curve(y_test, knn_pred_prob)\n",
    "roc_auc5 = auc(fpr5, tpr5)\n",
    "\n",
    "fpr4, tpr4, thresholds4 = roc_curve(y_test, rf_pred_prob)\n",
    "roc_auc4 = auc(fpr4, tpr4)\n",
    "\n",
    "fpr3, tpr3, thresholds3 = roc_curve(y_test, xgb_pred_prob)\n",
    "roc_auc3 = auc(fpr3, tpr3)\n",
    "\n",
    "fpr2, tpr2, thresholds2 = roc_curve(y_test, brf_pred_prob)\n",
    "roc_auc2 = auc(fpr2, tpr2)\n",
    "\n",
    "fpr1, tpr1, thresholds1 = roc_curve(y_test,svm_pred_prob)\n",
    "roc_auc1 = auc(fpr1, tpr1)\n",
    "lw = 2\n",
    "plt.figure(figsize=(10, 8))\n",
    "plt.plot(fpr9, tpr9,color='brown',label='ROC NB (AUC = %0.2f, ACC = %0.2f)' % (roc_auc9, nb_accuracy))\n",
    "plt.plot(fpr8, tpr8,color='yellow',label='ROC MLP (AUC = %0.2f, ACC = %0.2f)' % (roc_auc8, mlp_accuracy))\n",
    "plt.plot(fpr7, tpr7,color='cyan',label='ROC Decision Tree (AUC = %0.2f, ACC = %0.2f)' % (roc_auc7, dt_accuracy))\n",
    "plt.plot(fpr6, tpr6,color='orange',label='ROC LDA (AUC = %0.2f, ACC = %0.2f)' % (roc_auc6, lda_accuracy))\n",
    "plt.plot(fpr5, tpr5,color='green',label='ROC KNN (AUC = %0.2f, ACC = %0.2f)' % (roc_auc5, knn_accuracy))\n",
    "plt.plot(fpr4, tpr4,color='red',label='ROC RF (AUC = %0.2f, ACC = %0.2f)' % (roc_auc4, rf_accuracy))\n",
    "plt.plot(fpr3, tpr3,color='blue',label='ROC XGBOOST (AUC = %0.2f, ACC = %0.2f)' % (roc_auc3, xgb_accuracy))\n",
    "plt.plot(fpr2, tpr2,color='black',label='ROC BRF (AUC = %0.2f, ACC = %0.2f)' % (roc_auc2, brf_accuracy))\n",
    "plt.plot(fpr1, tpr1,color='magenta',label='ROC SVM (AUC = %0.2f, ACC = %0.2f)' % (roc_auc1, svm_accuracy))\n",
    "plt.xlim([0.0, 1.0])\n",
    "plt.ylim([0.0, 1.0])\n",
    "plt.title('ROC curve ')\n",
    "plt.xlabel('(1 - Specificity)')\n",
    "plt.ylabel('(Sensitivity)')\n",
    "plt.grid(True)\n",
    "plt.legend(loc=\"lower right\")\n",
    "plt.show()"
   ]
  },
  {
   "cell_type": "markdown",
   "id": "6cbb47d1",
   "metadata": {},
   "source": [
    "**Conclusion:**  \n",
    "The predictive power of each model expressed by ROC curves. For instance, Linear Discriminant Analysis, Balanced Random Forest, and Random Forest model have higher probability of accurate prediction of correct class member, and gaining high level of accuracy prediction probability as compared to KNN, Decision Tree, SVC, Naive Bayes Classifier, XGBOOST Classifier, and Newral Network Classifier models."
   ]
  },
  {
   "cell_type": "code",
   "execution_count": 40,
   "id": "1169426d",
   "metadata": {},
   "outputs": [
    {
     "data": {
      "text/html": [
       "<div>\n",
       "<style scoped>\n",
       "    .dataframe tbody tr th:only-of-type {\n",
       "        vertical-align: middle;\n",
       "    }\n",
       "\n",
       "    .dataframe tbody tr th {\n",
       "        vertical-align: top;\n",
       "    }\n",
       "\n",
       "    .dataframe thead th {\n",
       "        text-align: right;\n",
       "    }\n",
       "</style>\n",
       "<table border=\"1\" class=\"dataframe\">\n",
       "  <thead>\n",
       "    <tr style=\"text-align: right;\">\n",
       "      <th></th>\n",
       "      <th>feature</th>\n",
       "      <th>imp</th>\n",
       "    </tr>\n",
       "  </thead>\n",
       "  <tbody>\n",
       "    <tr>\n",
       "      <th>30</th>\n",
       "      <td>BasePolicy</td>\n",
       "      <td>0.153929</td>\n",
       "    </tr>\n",
       "    <tr>\n",
       "      <th>17</th>\n",
       "      <td>Fault</td>\n",
       "      <td>0.110675</td>\n",
       "    </tr>\n",
       "    <tr>\n",
       "      <th>18</th>\n",
       "      <td>PolicyType</td>\n",
       "      <td>0.106956</td>\n",
       "    </tr>\n",
       "    <tr>\n",
       "      <th>19</th>\n",
       "      <td>VehicleCategory</td>\n",
       "      <td>0.056884</td>\n",
       "    </tr>\n",
       "    <tr>\n",
       "      <th>23</th>\n",
       "      <td>PastNumberOfClaims</td>\n",
       "      <td>0.044565</td>\n",
       "    </tr>\n",
       "    <tr>\n",
       "      <th>2</th>\n",
       "      <td>MonthClaimed</td>\n",
       "      <td>0.041847</td>\n",
       "    </tr>\n",
       "    <tr>\n",
       "      <th>1</th>\n",
       "      <td>WeekOfMonthOfAccident</td>\n",
       "      <td>0.041479</td>\n",
       "    </tr>\n",
       "    <tr>\n",
       "      <th>10</th>\n",
       "      <td>Year</td>\n",
       "      <td>0.036037</td>\n",
       "    </tr>\n",
       "    <tr>\n",
       "      <th>7</th>\n",
       "      <td>DriverRating</td>\n",
       "      <td>0.034381</td>\n",
       "    </tr>\n",
       "    <tr>\n",
       "      <th>0</th>\n",
       "      <td>MonthOfAccident</td>\n",
       "      <td>0.034073</td>\n",
       "    </tr>\n",
       "    <tr>\n",
       "      <th>24</th>\n",
       "      <td>AgeOfVehicle</td>\n",
       "      <td>0.032248</td>\n",
       "    </tr>\n",
       "    <tr>\n",
       "      <th>20</th>\n",
       "      <td>VehiclePriceRange</td>\n",
       "      <td>0.031965</td>\n",
       "    </tr>\n",
       "    <tr>\n",
       "      <th>3</th>\n",
       "      <td>WeekOfMonthClaimed</td>\n",
       "      <td>0.027279</td>\n",
       "    </tr>\n",
       "    <tr>\n",
       "      <th>5</th>\n",
       "      <td>RepNumber</td>\n",
       "      <td>0.026320</td>\n",
       "    </tr>\n",
       "    <tr>\n",
       "      <th>15</th>\n",
       "      <td>Sex</td>\n",
       "      <td>0.025241</td>\n",
       "    </tr>\n",
       "  </tbody>\n",
       "</table>\n",
       "</div>"
      ],
      "text/plain": [
       "                  feature       imp\n",
       "30             BasePolicy  0.153929\n",
       "17                  Fault  0.110675\n",
       "18             PolicyType  0.106956\n",
       "19        VehicleCategory  0.056884\n",
       "23     PastNumberOfClaims  0.044565\n",
       "2            MonthClaimed  0.041847\n",
       "1   WeekOfMonthOfAccident  0.041479\n",
       "10                   Year  0.036037\n",
       "7            DriverRating  0.034381\n",
       "0         MonthOfAccident  0.034073\n",
       "24           AgeOfVehicle  0.032248\n",
       "20      VehiclePriceRange  0.031965\n",
       "3      WeekOfMonthClaimed  0.027279\n",
       "5               RepNumber  0.026320\n",
       "15                    Sex  0.025241"
      ]
     },
     "execution_count": 40,
     "metadata": {},
     "output_type": "execute_result"
    }
   ],
   "source": [
    "# Balanced Random Forest model has better ROC Curve and Cross-validated accuracy, plot feature importance\n",
    "def rf_feat_importance(m, df):\n",
    "    return pd.DataFrame({'feature':df.columns, 'imp':m.feature_importances_}\n",
    "                       ).sort_values('imp', ascending=False)\n",
    "def plot_fi(fi): \n",
    "    return fi.plot('feature', 'imp', 'barh', figsize=(15,7), legend=False)\n",
    "\n",
    "fi = rf_feat_importance(BRFClassifier, X_train); fi[:15]"
   ]
  },
  {
   "cell_type": "code",
   "execution_count": 41,
   "id": "1c5bfd57",
   "metadata": {},
   "outputs": [
    {
     "data": {
      "text/plain": [
       "<AxesSubplot:ylabel='feature'>"
      ]
     },
     "execution_count": 41,
     "metadata": {},
     "output_type": "execute_result"
    },
    {
     "data": {
      "image/png": "[encoded data removed]",
      "text/plain": [
       "<Figure size 1080x504 with 1 Axes>"
      ]
     },
     "metadata": {
      "needs_background": "light"
     },
     "output_type": "display_data"
    }
   ],
   "source": [
    "plot_fi(fi[:30])"
   ]
  }
 ],
 "metadata": {
  "kernelspec": {
   "display_name": "Python 3 (ipykernel)",
   "language": "python",
   "name": "python3"
  },
  "language_info": {
   "codemirror_mode": {
    "name": "ipython",
    "version": 3
   },
   "file_extension": ".py",
   "mimetype": "text/x-python",
   "name": "python",
   "nbconvert_exporter": "python",
   "pygments_lexer": "ipython3",
   "version": "3.9.12"
  }
 },
 "nbformat": 4,
 "nbformat_minor": 5
}
