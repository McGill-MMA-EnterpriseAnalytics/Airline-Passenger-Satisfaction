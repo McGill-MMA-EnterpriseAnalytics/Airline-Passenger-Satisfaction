{
 "cells": [
  {
   "cell_type": "code",
   "execution_count": 31,
   "id": "4be680a1",
   "metadata": {},
   "outputs": [],
   "source": [
    "import numpy as np\n",
    "import matplotlib.pyplot as plt\n",
    "\n",
    "from sklearn.model_selection import train_test_split\n",
    "from sklearn.model_selection import cross_val_score\n",
    "\n",
    "from sklearn.metrics import (\n",
    "    auc,\n",
    "    confusion_matrix,\n",
    "    roc_auc_score,\n",
    "    roc_curve,\n",
    "    accuracy_score,\n",
    "    precision_score,\n",
    "    average_precision_score,\n",
    "    recall_score,\n",
    "    f1_score,\n",
    "    precision_recall_curve,\n",
    "    cohen_kappa_score,\n",
    "    confusion_matrix,\n",
    "    plot_confusion_matrix,\n",
    "    classification_report\n",
    ")"
   ]
  },
  {
   "cell_type": "code",
   "execution_count": 14,
   "id": "712bb772",
   "metadata": {
    "scrolled": true
   },
   "outputs": [
    {
     "data": {
      "text/html": [
       "<div>\n",
       "<style scoped>\n",
       "    .dataframe tbody tr th:only-of-type {\n",
       "        vertical-align: middle;\n",
       "    }\n",
       "\n",
       "    .dataframe tbody tr th {\n",
       "        vertical-align: top;\n",
       "    }\n",
       "\n",
       "    .dataframe thead th {\n",
       "        text-align: right;\n",
       "    }\n",
       "</style>\n",
       "<table border=\"1\" class=\"dataframe\">\n",
       "  <thead>\n",
       "    <tr style=\"text-align: right;\">\n",
       "      <th></th>\n",
       "      <th>Unnamed: 0</th>\n",
       "      <th>MonthOfAccident</th>\n",
       "      <th>WeekOfMonthOfAccident</th>\n",
       "      <th>MonthClaimed</th>\n",
       "      <th>WeekOfMonthClaimed</th>\n",
       "      <th>AgeOfPolicyHolder</th>\n",
       "      <th>RepNumber</th>\n",
       "      <th>Deductible</th>\n",
       "      <th>DriverRating</th>\n",
       "      <th>PoliceReportFiled</th>\n",
       "      <th>...</th>\n",
       "      <th>Days_Policy_Claim</th>\n",
       "      <th>PastNumberOfClaims</th>\n",
       "      <th>AgeOfVehicle</th>\n",
       "      <th>AgeRangeOfPolicyHolder</th>\n",
       "      <th>AgentType</th>\n",
       "      <th>NumberOfSuppliments</th>\n",
       "      <th>AddressChange_Claim</th>\n",
       "      <th>NumberOfCars</th>\n",
       "      <th>BasePolicy</th>\n",
       "      <th>FraudFound_P</th>\n",
       "    </tr>\n",
       "  </thead>\n",
       "  <tbody>\n",
       "    <tr>\n",
       "      <th>0</th>\n",
       "      <td>0</td>\n",
       "      <td>1.616388</td>\n",
       "      <td>-1.388694</td>\n",
       "      <td>1.625847</td>\n",
       "      <td>-0.548153</td>\n",
       "      <td>-1.295018</td>\n",
       "      <td>1.418479</td>\n",
       "      <td>-0.174155</td>\n",
       "      <td>0.453743</td>\n",
       "      <td>-0.171366</td>\n",
       "      <td>...</td>\n",
       "      <td>2.0</td>\n",
       "      <td>2.000000</td>\n",
       "      <td>4.000000</td>\n",
       "      <td>3.000000</td>\n",
       "      <td>0.0</td>\n",
       "      <td>2.000000</td>\n",
       "      <td>0.0</td>\n",
       "      <td>0.0</td>\n",
       "      <td>2.000000</td>\n",
       "      <td>0</td>\n",
       "    </tr>\n",
       "    <tr>\n",
       "      <th>1</th>\n",
       "      <td>1</td>\n",
       "      <td>-0.684689</td>\n",
       "      <td>-1.388694</td>\n",
       "      <td>-0.678112</td>\n",
       "      <td>-1.341479</td>\n",
       "      <td>-0.971229</td>\n",
       "      <td>-0.967586</td>\n",
       "      <td>-0.174155</td>\n",
       "      <td>0.453743</td>\n",
       "      <td>-0.171366</td>\n",
       "      <td>...</td>\n",
       "      <td>2.0</td>\n",
       "      <td>0.000000</td>\n",
       "      <td>5.000000</td>\n",
       "      <td>4.000000</td>\n",
       "      <td>0.0</td>\n",
       "      <td>3.000000</td>\n",
       "      <td>0.0</td>\n",
       "      <td>0.0</td>\n",
       "      <td>1.000000</td>\n",
       "      <td>0</td>\n",
       "    </tr>\n",
       "    <tr>\n",
       "      <th>2</th>\n",
       "      <td>2</td>\n",
       "      <td>-0.972324</td>\n",
       "      <td>0.947134</td>\n",
       "      <td>-0.966107</td>\n",
       "      <td>1.038500</td>\n",
       "      <td>1.052449</td>\n",
       "      <td>0.116989</td>\n",
       "      <td>-0.174155</td>\n",
       "      <td>0.453743</td>\n",
       "      <td>-0.171366</td>\n",
       "      <td>...</td>\n",
       "      <td>0.0</td>\n",
       "      <td>1.000000</td>\n",
       "      <td>7.000000</td>\n",
       "      <td>6.000000</td>\n",
       "      <td>0.0</td>\n",
       "      <td>1.000000</td>\n",
       "      <td>0.0</td>\n",
       "      <td>0.0</td>\n",
       "      <td>1.000000</td>\n",
       "      <td>0</td>\n",
       "    </tr>\n",
       "    <tr>\n",
       "      <th>3</th>\n",
       "      <td>3</td>\n",
       "      <td>0.465849</td>\n",
       "      <td>-0.610084</td>\n",
       "      <td>0.761863</td>\n",
       "      <td>1.038500</td>\n",
       "      <td>-1.295018</td>\n",
       "      <td>-1.618330</td>\n",
       "      <td>-0.174155</td>\n",
       "      <td>-1.329373</td>\n",
       "      <td>-0.171366</td>\n",
       "      <td>...</td>\n",
       "      <td>2.0</td>\n",
       "      <td>2.000000</td>\n",
       "      <td>4.000000</td>\n",
       "      <td>3.000000</td>\n",
       "      <td>0.0</td>\n",
       "      <td>0.000000</td>\n",
       "      <td>4.0</td>\n",
       "      <td>1.0</td>\n",
       "      <td>2.000000</td>\n",
       "      <td>0</td>\n",
       "    </tr>\n",
       "    <tr>\n",
       "      <th>4</th>\n",
       "      <td>4</td>\n",
       "      <td>-1.547593</td>\n",
       "      <td>1.725744</td>\n",
       "      <td>-1.542097</td>\n",
       "      <td>1.831826</td>\n",
       "      <td>-0.404599</td>\n",
       "      <td>0.333904</td>\n",
       "      <td>-0.174155</td>\n",
       "      <td>1.345301</td>\n",
       "      <td>-0.171366</td>\n",
       "      <td>...</td>\n",
       "      <td>2.0</td>\n",
       "      <td>1.000000</td>\n",
       "      <td>5.000000</td>\n",
       "      <td>4.000000</td>\n",
       "      <td>0.0</td>\n",
       "      <td>0.000000</td>\n",
       "      <td>0.0</td>\n",
       "      <td>0.0</td>\n",
       "      <td>0.000000</td>\n",
       "      <td>0</td>\n",
       "    </tr>\n",
       "    <tr>\n",
       "      <th>...</th>\n",
       "      <td>...</td>\n",
       "      <td>...</td>\n",
       "      <td>...</td>\n",
       "      <td>...</td>\n",
       "      <td>...</td>\n",
       "      <td>...</td>\n",
       "      <td>...</td>\n",
       "      <td>...</td>\n",
       "      <td>...</td>\n",
       "      <td>...</td>\n",
       "      <td>...</td>\n",
       "      <td>...</td>\n",
       "      <td>...</td>\n",
       "      <td>...</td>\n",
       "      <td>...</td>\n",
       "      <td>...</td>\n",
       "      <td>...</td>\n",
       "      <td>...</td>\n",
       "      <td>...</td>\n",
       "      <td>...</td>\n",
       "      <td>...</td>\n",
       "    </tr>\n",
       "    <tr>\n",
       "      <th>16472</th>\n",
       "      <td>16472</td>\n",
       "      <td>-0.267215</td>\n",
       "      <td>-0.823655</td>\n",
       "      <td>-0.051117</td>\n",
       "      <td>-1.123871</td>\n",
       "      <td>0.360465</td>\n",
       "      <td>-0.316841</td>\n",
       "      <td>-0.174155</td>\n",
       "      <td>-1.329373</td>\n",
       "      <td>-0.171366</td>\n",
       "      <td>...</td>\n",
       "      <td>2.0</td>\n",
       "      <td>0.725702</td>\n",
       "      <td>7.000000</td>\n",
       "      <td>5.000000</td>\n",
       "      <td>0.0</td>\n",
       "      <td>1.548596</td>\n",
       "      <td>0.0</td>\n",
       "      <td>0.0</td>\n",
       "      <td>0.274298</td>\n",
       "      <td>1</td>\n",
       "    </tr>\n",
       "    <tr>\n",
       "      <th>16473</th>\n",
       "      <td>16473</td>\n",
       "      <td>0.181831</td>\n",
       "      <td>-1.388694</td>\n",
       "      <td>0.189493</td>\n",
       "      <td>-0.280386</td>\n",
       "      <td>0.218709</td>\n",
       "      <td>0.195657</td>\n",
       "      <td>-0.174155</td>\n",
       "      <td>0.754665</td>\n",
       "      <td>-0.171366</td>\n",
       "      <td>...</td>\n",
       "      <td>2.0</td>\n",
       "      <td>0.000000</td>\n",
       "      <td>7.000000</td>\n",
       "      <td>5.337524</td>\n",
       "      <td>0.0</td>\n",
       "      <td>0.662476</td>\n",
       "      <td>0.0</td>\n",
       "      <td>0.0</td>\n",
       "      <td>0.000000</td>\n",
       "      <td>1</td>\n",
       "    </tr>\n",
       "    <tr>\n",
       "      <th>16474</th>\n",
       "      <td>16474</td>\n",
       "      <td>-0.761257</td>\n",
       "      <td>-0.402819</td>\n",
       "      <td>-0.678112</td>\n",
       "      <td>1.038500</td>\n",
       "      <td>0.938896</td>\n",
       "      <td>0.333904</td>\n",
       "      <td>-0.174155</td>\n",
       "      <td>1.345301</td>\n",
       "      <td>-0.171366</td>\n",
       "      <td>...</td>\n",
       "      <td>2.0</td>\n",
       "      <td>2.000000</td>\n",
       "      <td>7.000000</td>\n",
       "      <td>6.133099</td>\n",
       "      <td>0.0</td>\n",
       "      <td>0.866901</td>\n",
       "      <td>0.0</td>\n",
       "      <td>0.0</td>\n",
       "      <td>0.866901</td>\n",
       "      <td>1</td>\n",
       "    </tr>\n",
       "    <tr>\n",
       "      <th>16475</th>\n",
       "      <td>16475</td>\n",
       "      <td>0.071662</td>\n",
       "      <td>-0.855173</td>\n",
       "      <td>0.177857</td>\n",
       "      <td>-0.548153</td>\n",
       "      <td>-0.487800</td>\n",
       "      <td>-0.688428</td>\n",
       "      <td>-0.174155</td>\n",
       "      <td>1.345301</td>\n",
       "      <td>-0.171366</td>\n",
       "      <td>...</td>\n",
       "      <td>2.0</td>\n",
       "      <td>1.000000</td>\n",
       "      <td>4.342611</td>\n",
       "      <td>4.000000</td>\n",
       "      <td>0.0</td>\n",
       "      <td>3.000000</td>\n",
       "      <td>0.0</td>\n",
       "      <td>0.0</td>\n",
       "      <td>0.000000</td>\n",
       "      <td>1</td>\n",
       "    </tr>\n",
       "    <tr>\n",
       "      <th>16476</th>\n",
       "      <td>16476</td>\n",
       "      <td>1.383552</td>\n",
       "      <td>-1.092021</td>\n",
       "      <td>1.392720</td>\n",
       "      <td>-0.888059</td>\n",
       "      <td>2.775439</td>\n",
       "      <td>0.158315</td>\n",
       "      <td>-0.174155</td>\n",
       "      <td>0.453743</td>\n",
       "      <td>-0.171366</td>\n",
       "      <td>...</td>\n",
       "      <td>2.0</td>\n",
       "      <td>0.571543</td>\n",
       "      <td>7.000000</td>\n",
       "      <td>8.000000</td>\n",
       "      <td>0.0</td>\n",
       "      <td>3.000000</td>\n",
       "      <td>0.0</td>\n",
       "      <td>0.0</td>\n",
       "      <td>0.190514</td>\n",
       "      <td>1</td>\n",
       "    </tr>\n",
       "  </tbody>\n",
       "</table>\n",
       "<p>16477 rows × 33 columns</p>\n",
       "</div>"
      ],
      "text/plain": [
       "       Unnamed: 0  MonthOfAccident  WeekOfMonthOfAccident  MonthClaimed  \\\n",
       "0               0         1.616388              -1.388694      1.625847   \n",
       "1               1        -0.684689              -1.388694     -0.678112   \n",
       "2               2        -0.972324               0.947134     -0.966107   \n",
       "3               3         0.465849              -0.610084      0.761863   \n",
       "4               4        -1.547593               1.725744     -1.542097   \n",
       "...           ...              ...                    ...           ...   \n",
       "16472       16472        -0.267215              -0.823655     -0.051117   \n",
       "16473       16473         0.181831              -1.388694      0.189493   \n",
       "16474       16474        -0.761257              -0.402819     -0.678112   \n",
       "16475       16475         0.071662              -0.855173      0.177857   \n",
       "16476       16476         1.383552              -1.092021      1.392720   \n",
       "\n",
       "       WeekOfMonthClaimed  AgeOfPolicyHolder  RepNumber  Deductible  \\\n",
       "0               -0.548153          -1.295018   1.418479   -0.174155   \n",
       "1               -1.341479          -0.971229  -0.967586   -0.174155   \n",
       "2                1.038500           1.052449   0.116989   -0.174155   \n",
       "3                1.038500          -1.295018  -1.618330   -0.174155   \n",
       "4                1.831826          -0.404599   0.333904   -0.174155   \n",
       "...                   ...                ...        ...         ...   \n",
       "16472           -1.123871           0.360465  -0.316841   -0.174155   \n",
       "16473           -0.280386           0.218709   0.195657   -0.174155   \n",
       "16474            1.038500           0.938896   0.333904   -0.174155   \n",
       "16475           -0.548153          -0.487800  -0.688428   -0.174155   \n",
       "16476           -0.888059           2.775439   0.158315   -0.174155   \n",
       "\n",
       "       DriverRating  PoliceReportFiled  ...  Days_Policy_Claim  \\\n",
       "0          0.453743          -0.171366  ...                2.0   \n",
       "1          0.453743          -0.171366  ...                2.0   \n",
       "2          0.453743          -0.171366  ...                0.0   \n",
       "3         -1.329373          -0.171366  ...                2.0   \n",
       "4          1.345301          -0.171366  ...                2.0   \n",
       "...             ...                ...  ...                ...   \n",
       "16472     -1.329373          -0.171366  ...                2.0   \n",
       "16473      0.754665          -0.171366  ...                2.0   \n",
       "16474      1.345301          -0.171366  ...                2.0   \n",
       "16475      1.345301          -0.171366  ...                2.0   \n",
       "16476      0.453743          -0.171366  ...                2.0   \n",
       "\n",
       "       PastNumberOfClaims  AgeOfVehicle  AgeRangeOfPolicyHolder  AgentType  \\\n",
       "0                2.000000      4.000000                3.000000        0.0   \n",
       "1                0.000000      5.000000                4.000000        0.0   \n",
       "2                1.000000      7.000000                6.000000        0.0   \n",
       "3                2.000000      4.000000                3.000000        0.0   \n",
       "4                1.000000      5.000000                4.000000        0.0   \n",
       "...                   ...           ...                     ...        ...   \n",
       "16472            0.725702      7.000000                5.000000        0.0   \n",
       "16473            0.000000      7.000000                5.337524        0.0   \n",
       "16474            2.000000      7.000000                6.133099        0.0   \n",
       "16475            1.000000      4.342611                4.000000        0.0   \n",
       "16476            0.571543      7.000000                8.000000        0.0   \n",
       "\n",
       "       NumberOfSuppliments  AddressChange_Claim  NumberOfCars  BasePolicy  \\\n",
       "0                 2.000000                  0.0           0.0    2.000000   \n",
       "1                 3.000000                  0.0           0.0    1.000000   \n",
       "2                 1.000000                  0.0           0.0    1.000000   \n",
       "3                 0.000000                  4.0           1.0    2.000000   \n",
       "4                 0.000000                  0.0           0.0    0.000000   \n",
       "...                    ...                  ...           ...         ...   \n",
       "16472             1.548596                  0.0           0.0    0.274298   \n",
       "16473             0.662476                  0.0           0.0    0.000000   \n",
       "16474             0.866901                  0.0           0.0    0.866901   \n",
       "16475             3.000000                  0.0           0.0    0.000000   \n",
       "16476             3.000000                  0.0           0.0    0.190514   \n",
       "\n",
       "       FraudFound_P  \n",
       "0                 0  \n",
       "1                 0  \n",
       "2                 0  \n",
       "3                 0  \n",
       "4                 0  \n",
       "...             ...  \n",
       "16472             1  \n",
       "16473             1  \n",
       "16474             1  \n",
       "16475             1  \n",
       "16476             1  \n",
       "\n",
       "[16477 rows x 33 columns]"
      ]
     },
     "execution_count": 14,
     "metadata": {},
     "output_type": "execute_result"
    }
   ],
   "source": [
    "# Import data\n",
    "import pandas as pd\n",
    "df_train = pd.read_csv(\"Fraud_sampledtrain.csv\")\n",
    "df_test = pd.read_csv(\"Fraud_train.csv\")\n",
    "df_val = pd.read_csv(\"Fraud_val.csv\")\n",
    "\n",
    "df_train"
   ]
  },
  {
   "cell_type": "code",
   "execution_count": 15,
   "id": "ab5bba2f",
   "metadata": {},
   "outputs": [],
   "source": [
    "X_train = df_train.drop(columns=['Unnamed: 0', 'FraudFound_P'])\n",
    "y_train = df_train['FraudFound_P']\n",
    "\n",
    "X_test = df_test.drop(columns=['Unnamed: 0', 'FraudFound_P'])\n",
    "y_test = df_test['FraudFound_P']\n",
    "\n",
    "X_val = df_test.drop(columns=['Unnamed: 0', 'FraudFound_P'])\n",
    "y_val = df_test['FraudFound_P']"
   ]
  },
  {
   "cell_type": "markdown",
   "id": "38828962",
   "metadata": {},
   "source": [
    "# 4. Modelling & Evaluation"
   ]
  },
  {
   "cell_type": "markdown",
   "id": "518cf8d0",
   "metadata": {},
   "source": [
    "## 4.1. Supervised Learning"
   ]
  },
  {
   "cell_type": "markdown",
   "id": "1cddaf65",
   "metadata": {},
   "source": [
    "### 4.1.1. KNN (K-Nearest Neighbors)"
   ]
  },
  {
   "cell_type": "code",
   "execution_count": 59,
   "id": "1be2a1e2",
   "metadata": {
    "scrolled": true
   },
   "outputs": [
    {
     "name": "stdout",
     "output_type": "stream",
     "text": [
      "1 : 0.7753250397530633\n",
      "2 : 0.7993639509868113\n",
      "3 : 0.7041436722476849\n",
      "4 : 0.7249088017959031\n",
      "5 : 0.6625198765316621\n",
      "6 : 0.6797306145355907\n",
      "7 : 0.6266953512300065\n",
      "8 : 0.639603404732953\n",
      "9 : 0.5905902160695913\n",
      "10 : 0.6054625385838556\n",
      "11 : 0.5612197175194088\n",
      "12 : 0.5739406977831821\n",
      "13 : 0.5359648302310355\n",
      "14 : 0.5484987372556356\n",
      "15 : 0.5128612851931531\n",
      "16 : 0.5259564119352726\n",
      "17 : 0.4928444486016275\n",
      "18 : 0.5058460387241606\n",
      "19 : 0.4796557852399214\n",
      "20 : 0.49162847254700215\n"
     ]
    }
   ],
   "source": [
    "from sklearn.neighbors import KNeighborsClassifier\n",
    "\n",
    "# K-fold cross validation for different n_neighbors\n",
    "for i in range (1, 21):\n",
    "    knn = KNeighborsClassifier(n_neighbors = i)\n",
    "    model_knn = knn.fit(X_train, y_train)\n",
    "    y_test_pred_knn = model_knn.predict(X_test)\n",
    "    scores = accuracy_score(y_test, y_test_pred_knn)\n",
    "    print(i, \":\", scores)"
   ]
  },
  {
   "cell_type": "code",
   "execution_count": 60,
   "id": "19cff045",
   "metadata": {},
   "outputs": [],
   "source": [
    "# Build the model\n",
    "KNN = KNeighborsClassifier(n_neighbors = 2)\n",
    "model_KNN = KNN.fit(X_train, y_train)\n",
    "\n",
    "# Using the model to predict the results based on the test dataset\n",
    "y_test_pred_KNN = model_KNN.predict(X_test)"
   ]
  },
  {
   "cell_type": "markdown",
   "id": "7dd94ff9",
   "metadata": {},
   "source": [
    "Evaluate:"
   ]
  },
  {
   "cell_type": "code",
   "execution_count": 61,
   "id": "42ffe00e",
   "metadata": {},
   "outputs": [
    {
     "data": {
      "text/plain": [
       "array([[7909, 2145],\n",
       "       [   0,  637]])"
      ]
     },
     "execution_count": 61,
     "metadata": {},
     "output_type": "execute_result"
    }
   ],
   "source": [
    "confusion_matrix(y_test, y_test_pred_KNN)"
   ]
  },
  {
   "cell_type": "code",
   "execution_count": 72,
   "id": "3cb4c476",
   "metadata": {},
   "outputs": [
    {
     "name": "stderr",
     "output_type": "stream",
     "text": [
      "/opt/anaconda3/lib/python3.9/site-packages/sklearn/utils/deprecation.py:87: FutureWarning: Function plot_confusion_matrix is deprecated; Function `plot_confusion_matrix` is deprecated in 1.0 and will be removed in 1.2. Use one of the class methods: ConfusionMatrixDisplay.from_predictions or ConfusionMatrixDisplay.from_estimator.\n",
      "  warnings.warn(msg, category=FutureWarning)\n"
     ]
    },
    {
     "data": {
      "text/plain": [
       "<sklearn.metrics._plot.confusion_matrix.ConfusionMatrixDisplay at 0x7fadc6ae2ca0>"
      ]
     },
     "execution_count": 72,
     "metadata": {},
     "output_type": "execute_result"
    },
    {
     "data": {
      "image/png": "[encoded data removed]",
      "text/plain": [
       "<Figure size 576x396 with 2 Axes>"
      ]
     },
     "metadata": {},
     "output_type": "display_data"
    }
   ],
   "source": [
    "plot_confusion_matrix(KNN, X_test, y_test_pred_KNN)"
   ]
  },
  {
   "cell_type": "code",
   "execution_count": 63,
   "id": "c19bb472",
   "metadata": {},
   "outputs": [
    {
     "name": "stdout",
     "output_type": "stream",
     "text": [
      "              precision    recall  f1-score   support\n",
      "\n",
      "           0     1.0000    0.7867    0.8806     10054\n",
      "           1     0.2290    1.0000    0.3726       637\n",
      "\n",
      "    accuracy                         0.7994     10691\n",
      "   macro avg     0.6145    0.8933    0.6266     10691\n",
      "weighted avg     0.9541    0.7994    0.8503     10691\n",
      "\n"
     ]
    }
   ],
   "source": [
    "print(classification_report(y_test, y_test_pred_KNN, target_names=['0','1'], digits=4))"
   ]
  },
  {
   "cell_type": "code",
   "execution_count": 68,
   "id": "37a7b25b",
   "metadata": {},
   "outputs": [
    {
     "data": {
      "image/png": "[encoded data removed]",
      "text/plain": [
       "<Figure size 576x396 with 2 Axes>"
      ]
     },
     "metadata": {},
     "output_type": "display_data"
    },
    {
     "data": {
      "text/plain": [
       "<AxesSubplot:title={'center':'KNeighborsClassifier Classification Report'}>"
      ]
     },
     "execution_count": 68,
     "metadata": {},
     "output_type": "execute_result"
    }
   ],
   "source": [
    "#pip install yellowbrick\n",
    "from yellowbrick.classifier import ClassificationReport\n",
    "\n",
    "visualizer = ClassificationReport(KNN, classes=['0','1'], support=True, is_fitted=True)\n",
    "\n",
    "visualizer.fit(X_train, y_train)\n",
    "visualizer.score(X_test, y_test)\n",
    "visualizer.show()"
   ]
  },
  {
   "cell_type": "markdown",
   "id": "82101717",
   "metadata": {},
   "source": [
    "### 4.1.2. ANN (Artificial Neural Network)"
   ]
  },
  {
   "cell_type": "code",
   "execution_count": 65,
   "id": "dcc0b8ed",
   "metadata": {},
   "outputs": [
    {
     "name": "stdout",
     "output_type": "stream",
     "text": [
      "2 : 0.8672089588520413\n",
      "3 : 0.8545239735109094\n",
      "4 : 0.8678767108151509\n",
      "5 : 0.8592584564727375\n",
      "6 : 0.8742496169541966\n",
      "7 : 0.8798939441931729\n",
      "8 : 0.8929418470173992\n",
      "9 : 0.8921532146382427\n",
      "10 : 0.9044738460745171\n",
      "11 : 0.8938524647524199\n",
      "12 : 0.8994963315998055\n",
      "13 : 0.8979186801125566\n",
      "14 : 0.9105420650588565\n",
      "15 : 0.9046555534275234\n",
      "16 : 0.9079334863061126\n",
      "17 : 0.9155797435066371\n",
      "18 : 0.9147905218262447\n",
      "19 : 0.910967503719964\n",
      "20 : 0.915883307305862\n"
     ]
    }
   ],
   "source": [
    "from sklearn.neural_network import MLPClassifier\n",
    "\n",
    "# Cross-validate with different size of one hidden layer\n",
    "for i in range (2, 21):    \n",
    "    model_ANN1 = MLPClassifier(hidden_layer_sizes=(i), max_iter=1000, random_state=0)\n",
    "    scores = cross_val_score(estimator=model_ANN1, X=X_train, y=y_train, cv=5)\n",
    "    print(i, \":\", np.average(scores))"
   ]
  },
  {
   "cell_type": "code",
   "execution_count": 66,
   "id": "47f968a9",
   "metadata": {},
   "outputs": [
    {
     "name": "stdout",
     "output_type": "stream",
     "text": [
      "2 : 0.6096376902338052\n",
      "3 : 0.8514289450034621\n",
      "4 : 0.8780120106958174\n",
      "5 : 0.8676338082119127\n",
      "6 : 0.8921528831562974\n",
      "7 : 0.8979181828896386\n",
      "8 : 0.8908782614140284\n",
      "9 : 0.8972513332940466\n",
      "10 : 0.9055662448251984\n",
      "11 : 0.9090259403037846\n",
      "12 : 0.9143658934543366\n",
      "13 : 0.9158840071010799\n",
      "14 : 0.9255336491005789\n",
      "15 : 0.9271713172355879\n",
      "16 : 0.931480914006217\n",
      "17 : 0.9316623451242689\n",
      "18 : 0.9275355790621271\n",
      "19 : 0.9354872416282394\n",
      "20 : 0.9303886257495175\n"
     ]
    }
   ],
   "source": [
    "# Cross-validate with different size of two hidden layer\n",
    "for i in range (2, 21):    \n",
    "    model_ANN2 = MLPClassifier(hidden_layer_sizes=(i,i), max_iter=1000, random_state=0)\n",
    "    scores = cross_val_score(estimator=model_ANN2, X=X_train, y=y_train, cv=5)\n",
    "    print(i, \":\", np.average(scores))"
   ]
  },
  {
   "cell_type": "code",
   "execution_count": 67,
   "id": "2086e8f5",
   "metadata": {},
   "outputs": [],
   "source": [
    "# Build the model\n",
    "ANN = MLPClassifier(hidden_layer_sizes=(19,19), max_iter=1000, random_state=0)\n",
    "model_ANN = ANN.fit(X_train, y_train)\n",
    "\n",
    "# Using the model to predict the results based on the test dataset\n",
    "y_test_pred_ANN = model_ANN.predict(X_test)"
   ]
  },
  {
   "cell_type": "code",
   "execution_count": 69,
   "id": "d50ac56f",
   "metadata": {},
   "outputs": [
    {
     "data": {
      "text/plain": [
       "array([[8198, 1856],\n",
       "       [  41,  596]])"
      ]
     },
     "execution_count": 69,
     "metadata": {},
     "output_type": "execute_result"
    }
   ],
   "source": [
    "confusion_matrix(y_test, y_test_pred_ANN)"
   ]
  },
  {
   "cell_type": "code",
   "execution_count": 71,
   "id": "d743aab3",
   "metadata": {},
   "outputs": [
    {
     "name": "stderr",
     "output_type": "stream",
     "text": [
      "/opt/anaconda3/lib/python3.9/site-packages/sklearn/utils/deprecation.py:87: FutureWarning: Function plot_confusion_matrix is deprecated; Function `plot_confusion_matrix` is deprecated in 1.0 and will be removed in 1.2. Use one of the class methods: ConfusionMatrixDisplay.from_predictions or ConfusionMatrixDisplay.from_estimator.\n",
      "  warnings.warn(msg, category=FutureWarning)\n"
     ]
    },
    {
     "data": {
      "text/plain": [
       "<sklearn.metrics._plot.confusion_matrix.ConfusionMatrixDisplay at 0x7fadc630f3d0>"
      ]
     },
     "execution_count": 71,
     "metadata": {},
     "output_type": "execute_result"
    },
    {
     "data": {
      "image/png": "[encoded data removed]",
      "text/plain": [
       "<Figure size 576x396 with 2 Axes>"
      ]
     },
     "metadata": {},
     "output_type": "display_data"
    }
   ],
   "source": [
    "plot_confusion_matrix(ANN, X_test, y_test_pred_ANN)"
   ]
  },
  {
   "cell_type": "code",
   "execution_count": 73,
   "id": "5baa5721",
   "metadata": {},
   "outputs": [
    {
     "name": "stdout",
     "output_type": "stream",
     "text": [
      "              precision    recall  f1-score   support\n",
      "\n",
      "           0     0.9950    0.8154    0.8963     10054\n",
      "           1     0.2431    0.9356    0.3859       637\n",
      "\n",
      "    accuracy                         0.8226     10691\n",
      "   macro avg     0.6190    0.8755    0.6411     10691\n",
      "weighted avg     0.9502    0.8226    0.8659     10691\n",
      "\n"
     ]
    }
   ],
   "source": [
    "print(classification_report(y_test, y_test_pred_ANN, target_names=['0','1'], digits=4))"
   ]
  },
  {
   "cell_type": "code",
   "execution_count": 75,
   "id": "0b04ea06",
   "metadata": {},
   "outputs": [
    {
     "data": {
      "image/png": "[encoded data removed]",
      "text/plain": [
       "<Figure size 576x396 with 2 Axes>"
      ]
     },
     "metadata": {},
     "output_type": "display_data"
    },
    {
     "data": {
      "text/plain": [
       "<AxesSubplot:title={'center':'MLPClassifier Classification Report'}>"
      ]
     },
     "execution_count": 75,
     "metadata": {},
     "output_type": "execute_result"
    }
   ],
   "source": [
    "visualizer = ClassificationReport(ANN, classes=['0','1'], support=True, is_fitted=True)\n",
    "\n",
    "visualizer.fit(X_train, y_train)\n",
    "visualizer.score(X_test, y_test)\n",
    "visualizer.show()"
   ]
  },
  {
   "cell_type": "code",
   "execution_count": null,
   "id": "b65a0a82",
   "metadata": {},
   "outputs": [],
   "source": []
  }
 ],
 "metadata": {
  "kernelspec": {
   "display_name": "Python 3 (ipykernel)",
   "language": "python",
   "name": "python3"
  },
  "language_info": {
   "codemirror_mode": {
    "name": "ipython",
    "version": 3
   },
   "file_extension": ".py",
   "mimetype": "text/x-python",
   "name": "python",
   "nbconvert_exporter": "python",
   "pygments_lexer": "ipython3",
   "version": "3.9.12"
  }
 },
 "nbformat": 4,
 "nbformat_minor": 5
}
